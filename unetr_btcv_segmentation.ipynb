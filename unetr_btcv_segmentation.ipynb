{
 "cells": [
  {
   "cell_type": "markdown",
   "metadata": {},
   "source": [
    "Copyright (c) MONAI Consortium  \n",
    "Licensed under the Apache License, Version 2.0 (the \"License\");  \n",
    "you may not use this file except in compliance with the License.  \n",
    "You may obtain a copy of the License at  \n",
    "&nbsp;&nbsp;&nbsp;&nbsp;http://www.apache.org/licenses/LICENSE-2.0  \n",
    "Unless required by applicable law or agreed to in writing, software  \n",
    "distributed under the License is distributed on an \"AS IS\" BASIS,  \n",
    "WITHOUT WARRANTIES OR CONDITIONS OF ANY KIND, either express or implied.  \n",
    "See the License for the specific language governing permissions and  \n",
    "limitations under the License.\n",
    "\n",
    "# 3D Multi-organ Segmentation with UNETR  (BTCV Challenge)\n",
    "\n",
    "\n",
    "This tutorial demonstrates how to construct a training workflow of UNETR [1] on multi-organ segmentation task using the BTCV challenge dataset.\n",
    "![image](https://lh3.googleusercontent.com/pw/AM-JKLU2eTW17rYtCmiZP3WWC-U1HCPOHwLe6pxOfJXwv2W-00aHfsNy7jeGV1dwUq0PXFOtkqasQ2Vyhcu6xkKsPzy3wx7O6yGOTJ7ZzA01S6LSh8szbjNLfpbuGgMe6ClpiS61KGvqu71xXFnNcyvJNFjN=w1448-h496-no?authuser=0)\n",
    "\n",
    "And it contains the following features:\n",
    "1. Transforms for dictionary format data.\n",
    "1. Define a new transform according to MONAI transform API.\n",
    "1. Load Nifti image with metadata, load a list of images and stack them.\n",
    "1. Randomly adjust intensity for data augmentation.\n",
    "1. Cache IO and transforms to accelerate training and validation.\n",
    "1. 3D UNETR model, DiceCE loss function, Mean Dice metric for multi-organ segmentation task.\n",
    "\n",
    "The dataset comes from https://www.synapse.org/#!Synapse:syn3193805/wiki/217752.  \n",
    "\n",
    "Under Institutional Review Board (IRB) supervision, 50 abdomen CT scans of were randomly selected from a combination of an ongoing colorectal cancer chemotherapy trial, and a retrospective ventral hernia study. The 50 scans were captured during portal venous contrast phase with variable volume sizes (512 x 512 x 85 - 512 x 512 x 198) and field of views (approx. 280 x 280 x 280 mm3 - 500 x 500 x 650 mm3). The in-plane resolution varies from 0.54 x 0.54 mm2 to 0.98 x 0.98 mm2, while the slice thickness ranges from 2.5 mm to 5.0 mm. \n",
    "\n",
    "Target: 13 abdominal organs including 1. Spleen 2. Right Kidney 3. Left Kidney 4.Gallbladder 5.Esophagus 6. Liver 7. Stomach 8.Aorta 9. IVC 10. Portal and Splenic Veins 11. Pancreas 12 Right adrenal gland 13 Left adrenal gland.\n",
    "\n",
    "Modality: CT\n",
    "Size: 30 3D volumes (24 Training + 6 Testing)  \n",
    "Challenge: BTCV MICCAI Challenge\n",
    "\n",
    "The following figure shows image patches with the organ sub-regions that are annotated in the CT (top left) and the final labels for the whole dataset (right).\n",
    "\n",
    "Data, figures and resources are taken from: \n",
    "\n",
    "\n",
    "1. [UNETR: Transformers for 3D Medical Image Segmentation](https://arxiv.org/abs/2103.10504)\n",
    "\n",
    "2. [High-resolution 3D abdominal segmentation with random patch network fusion (MIA)](https://www.sciencedirect.com/science/article/abs/pii/S1361841520302589)\n",
    "\n",
    "3. [Efficient multi-atlas abdominal segmentation on clinically acquired CT with SIMPLE context learning (MIA)](https://www.sciencedirect.com/science/article/abs/pii/S1361841515000766?via%3Dihub)\n",
    "\n",
    "\n",
    "![image](https://lh3.googleusercontent.com/pw/AM-JKLX0svvlMdcrchGAgiWWNkg40lgXYjSHsAAuRc5Frakmz2pWzSzf87JQCRgYpqFR0qAjJWPzMQLc_mmvzNjfF9QWl_1OHZ8j4c9qrbR6zQaDJWaCLArRFh0uPvk97qAa11HtYbD6HpJ-wwTCUsaPcYvM=w1724-h522-no?authuser=0)\n",
    "\n",
    "\n",
    "\n",
    "The image patches show anatomies of a subject, including: \n",
    "1. large organs: spleen, liver, stomach. \n",
    "2. Smaller organs: gallbladder, esophagus, kidneys, pancreas. \n",
    "3. Vascular tissues: aorta, IVC, P&S Veins. \n",
    "4. Glands: left and right adrenal gland\n",
    "\n",
    "If you find this tutorial helpful, please consider citing [1]:\n",
    "\n",
    "[1]: Hatamizadeh, A., Tang, Y., Nath, V., Yang, D., Myronenko, A., Landman, B., Roth, H.R. and Xu, D., 2022. Unetr: Transformers for 3d medical image segmentation. In Proceedings of the IEEE/CVF Winter Conference on Applications of Computer Vision (pp. 574-584).\n",
    "\n",
    "[![Open In Colab](https://colab.research.google.com/assets/colab-badge.svg)](https://colab.research.google.com/github/Project-MONAI/tutorials/blob/main/3d_segmentation/unetr_btcv_segmentation_3d.ipynb)"
   ]
  },
  {
   "cell_type": "markdown",
   "metadata": {},
   "source": [
    "## Setup environment"
   ]
  },
  {
   "cell_type": "code",
   "execution_count": 1,
   "metadata": {},
   "outputs": [],
   "source": [
    "import matplotlib \n",
    "%matplotlib inline"
   ]
  },
  {
   "cell_type": "markdown",
   "metadata": {},
   "source": [
    "## Setup imports"
   ]
  },
  {
   "cell_type": "code",
   "execution_count": 2,
   "metadata": {},
   "outputs": [
    {
     "name": "stderr",
     "output_type": "stream",
     "text": [
      "/home/hyoreek/.local/lib/python3.6/site-packages/tqdm/auto.py:22: TqdmWarning: IProgress not found. Please update jupyter and ipywidgets. See https://ipywidgets.readthedocs.io/en/stable/user_install.html\n",
      "  from .autonotebook import tqdm as notebook_tqdm\n"
     ]
    },
    {
     "name": "stdout",
     "output_type": "stream",
     "text": [
      "MONAI version: 0.8.1\n",
      "Numpy version: 1.19.5\n",
      "Pytorch version: 1.10.2+cu102\n",
      "MONAI flags: HAS_EXT = False, USE_COMPILED = False\n",
      "MONAI rev id: 71ff399a3ea07aef667b23653620a290364095b1\n",
      "\n",
      "Optional dependencies:\n",
      "Pytorch Ignite version: NOT INSTALLED or UNKNOWN VERSION.\n",
      "Nibabel version: 3.2.2\n",
      "scikit-image version: 0.17.2\n",
      "Pillow version: 8.4.0\n",
      "Tensorboard version: NOT INSTALLED or UNKNOWN VERSION.\n",
      "gdown version: NOT INSTALLED or UNKNOWN VERSION.\n",
      "TorchVision version: 0.11.2+cu102\n",
      "tqdm version: 4.64.1\n",
      "lmdb version: NOT INSTALLED or UNKNOWN VERSION.\n",
      "psutil version: NOT INSTALLED or UNKNOWN VERSION.\n",
      "pandas version: NOT INSTALLED or UNKNOWN VERSION.\n",
      "einops version: 0.4.1\n",
      "transformers version: NOT INSTALLED or UNKNOWN VERSION.\n",
      "mlflow version: NOT INSTALLED or UNKNOWN VERSION.\n",
      "\n",
      "For details about installing the optional dependencies, please visit:\n",
      "    https://docs.monai.io/en/latest/installation.html#installing-the-recommended-dependencies\n",
      "\n"
     ]
    }
   ],
   "source": [
    "# 필요한 모듈들을 임포트\n",
    "import os\n",
    "import shutil\n",
    "import tempfile\n",
    "import matplotlib.pyplot as plt\n",
    "from tqdm import tqdm\n",
    "\n",
    "# MONAI에서 제공하는 손실함수와 추론 메서드 임포트\n",
    "from monai.losses import DiceCELoss\n",
    "from monai.inferers import sliding_window_inference\n",
    "\n",
    "# 데이터 변환에 필요한 클래스 임포트\n",
    "from monai.transforms import (\n",
    "    AsDiscrete,\n",
    "    EnsureChannelFirstd,\n",
    "    Compose,\n",
    "    CropForegroundd,\n",
    "    LoadImaged,\n",
    "    Orientationd,\n",
    "    RandFlipd,\n",
    "    RandCropByPosNegLabeld,\n",
    "    RandShiftIntensityd,\n",
    "    ScaleIntensityRanged,\n",
    "    Spacingd,\n",
    "    RandRotate90d,\n",
    ")\n",
    "\n",
    "# MONAI 구성 및 성능 지표 클래스 임포트\n",
    "from monai.config import print_config\n",
    "from monai.metrics import DiceMetric\n",
    "\n",
    "# MONAI에서 제공하는 UNETR 네트워크 모델 임포트\n",
    "from monai.networks.nets import UNETR\n",
    "\n",
    "# 데이터 로딩 및 캐싱에 필요한 클래스 임포트\n",
    "from monai.data import (\n",
    "    DataLoader,\n",
    "    CacheDataset,\n",
    "    load_decathlon_datalist,\n",
    "    decollate_batch,\n",
    ")\n",
    "\n",
    "# 파이토치 임포트\n",
    "import torch\n",
    "\n",
    "# MONAI 구성 출력\n",
    "print_config()"
   ]
  },
  {
   "cell_type": "markdown",
   "metadata": {},
   "source": [
    "## Setup data directory\n",
    "\n",
    "You can specify a directory with the `MONAI_DATA_DIRECTORY` environment variable.  \n",
    "This allows you to save results and reuse downloads.  \n",
    "If not specified a temporary directory will be used."
   ]
  },
  {
   "cell_type": "code",
   "execution_count": 3,
   "metadata": {},
   "outputs": [
    {
     "name": "stdout",
     "output_type": "stream",
     "text": [
      "/tmp/tmpyoi6txjf\n"
     ]
    }
   ],
   "source": [
    "directory = os.environ.get(\"MONAI_DATA_DIRECTORY\")\n",
    "root_dir = tempfile.mkdtemp() if directory is None else directory\n",
    "print(root_dir)"
   ]
  },
  {
   "cell_type": "markdown",
   "metadata": {},
   "source": [
    "## Setup transforms for training and validation"
   ]
  },
  {
   "cell_type": "code",
   "execution_count": 4,
   "metadata": {},
   "outputs": [],
   "source": [
    "train_transforms = Compose(\n",
    "    [\n",
    "        LoadImaged(keys=[\"image\", \"label\"]),\n",
    "        EnsureChannelFirstd(keys=[\"image\", \"label\"]),\n",
    "        Orientationd(keys=[\"image\", \"label\"], axcodes=\"RAS\"),\n",
    "        Spacingd(\n",
    "            keys=[\"image\", \"label\"],\n",
    "            pixdim=(1.5, 1.5, 2.0),\n",
    "            mode=(\"bilinear\", \"nearest\"),\n",
    "        ),\n",
    "        ScaleIntensityRanged(\n",
    "            keys=[\"image\"],\n",
    "            a_min=-175,\n",
    "            a_max=250,\n",
    "            b_min=0.0,\n",
    "            b_max=1.0,\n",
    "            clip=True,\n",
    "        ),\n",
    "        CropForegroundd(keys=[\"image\", \"label\"], source_key=\"image\"),\n",
    "        RandCropByPosNegLabeld(\n",
    "            keys=[\"image\", \"label\"],\n",
    "            label_key=\"label\",\n",
    "            spatial_size=(96, 96, 96),\n",
    "            pos=1,\n",
    "            neg=1,\n",
    "            num_samples=4,\n",
    "            image_key=\"image\",\n",
    "            image_threshold=0,\n",
    "        ),\n",
    "        RandFlipd(\n",
    "            keys=[\"image\", \"label\"],\n",
    "            spatial_axis=[0],\n",
    "            prob=0.10,\n",
    "        ),\n",
    "        RandFlipd(\n",
    "            keys=[\"image\", \"label\"],\n",
    "            spatial_axis=[1],\n",
    "            prob=0.10,\n",
    "        ),\n",
    "        RandFlipd(\n",
    "            keys=[\"image\", \"label\"],\n",
    "            spatial_axis=[2],\n",
    "            prob=0.10,\n",
    "        ),\n",
    "        RandRotate90d(\n",
    "            keys=[\"image\", \"label\"],\n",
    "            prob=0.10,\n",
    "            max_k=3,\n",
    "        ),\n",
    "        RandShiftIntensityd(\n",
    "            keys=[\"image\"],\n",
    "            offsets=0.10,\n",
    "            prob=0.50,\n",
    "        ),\n",
    "    ]\n",
    ")\n",
    "val_transforms = Compose(\n",
    "    [\n",
    "        LoadImaged(keys=[\"image\", \"label\"]),\n",
    "        EnsureChannelFirstd(keys=[\"image\", \"label\"]),\n",
    "        Orientationd(keys=[\"image\", \"label\"], axcodes=\"RAS\"),\n",
    "        Spacingd(\n",
    "            keys=[\"image\", \"label\"],\n",
    "            pixdim=(1.5, 1.5, 2.0),\n",
    "            mode=(\"bilinear\", \"nearest\"),\n",
    "        ),\n",
    "        ScaleIntensityRanged(keys=[\"image\"], a_min=-175, a_max=250, b_min=0.0, b_max=1.0, clip=True),\n",
    "        CropForegroundd(keys=[\"image\", \"label\"], source_key=\"image\"),\n",
    "    ]\n",
    ")"
   ]
  },
  {
   "cell_type": "markdown",
   "metadata": {},
   "source": [
    " ## Download dataset and format in the folder.\n",
    "    1. Download dataset from here: https://www.synapse.org/#!Synapse:syn3193805/wiki/89480\\n\n",
    "    2. Put images in the ./data/imagesTr\n",
    "    3. Put labels in the ./data/labelsTr\n",
    "    4. make JSON file accordingly: ./data/dataset_0.json\n",
    "    Example of JSON file:\n",
    "     {\n",
    "    \"description\": \"btcv yucheng\",\n",
    "    \"labels\": {\n",
    "        \"0\": \"background\",\n",
    "        \"1\": \"spleen\",\n",
    "        \"2\": \"rkid\",\n",
    "        \"3\": \"lkid\",\n",
    "        \"4\": \"gall\",\n",
    "        \"5\": \"eso\",\n",
    "        \"6\": \"liver\",\n",
    "        \"7\": \"sto\",\n",
    "        \"8\": \"aorta\",\n",
    "        \"9\": \"IVC\",\n",
    "        \"10\": \"veins\",\n",
    "        \"11\": \"pancreas\",\n",
    "        \"12\": \"rad\",\n",
    "        \"13\": \"lad\"\n",
    "    },\n",
    "    \"licence\": \"yt\",\n",
    "    \"modality\": {\n",
    "        \"0\": \"CT\"\n",
    "    },\n",
    "    \"name\": \"btcv\",\n",
    "    \"numTest\": 20,\n",
    "    \"numTraining\": 80,\n",
    "    \"reference\": \"Vanderbilt University\",\n",
    "    \"release\": \"1.0 06/08/2015\",\n",
    "    \"tensorImageSize\": \"3D\",\n",
    "    \"test\": [\n",
    "        \"imagesTs/img0061.nii.gz\",\n",
    "        \"imagesTs/img0062.nii.gz\",\n",
    "        \"imagesTs/img0063.nii.gz\",\n",
    "        \"imagesTs/img0064.nii.gz\",\n",
    "        \"imagesTs/img0065.nii.gz\",\n",
    "        \"imagesTs/img0066.nii.gz\",\n",
    "        \"imagesTs/img0067.nii.gz\",\n",
    "        \"imagesTs/img0068.nii.gz\",\n",
    "        \"imagesTs/img0069.nii.gz\",\n",
    "        \"imagesTs/img0070.nii.gz\",\n",
    "        \"imagesTs/img0071.nii.gz\",\n",
    "        \"imagesTs/img0072.nii.gz\",\n",
    "        \"imagesTs/img0073.nii.gz\",\n",
    "        \"imagesTs/img0074.nii.gz\",\n",
    "        \"imagesTs/img0075.nii.gz\",\n",
    "        \"imagesTs/img0076.nii.gz\",\n",
    "        \"imagesTs/img0077.nii.gz\",\n",
    "        \"imagesTs/img0078.nii.gz\",\n",
    "        \"imagesTs/img0079.nii.gz\",\n",
    "        \"imagesTs/img0080.nii.gz\"\n",
    "    ],\n",
    "    \"training\": [\n",
    "        {\n",
    "            \"image\": \"imagesTr/img0001.nii.gz\",\n",
    "            \"label\": \"labelsTr/label0001.nii.gz\"\n",
    "        },\n",
    "        {\n",
    "            \"image\": \"imagesTr/img0002.nii.gz\",\n",
    "            \"label\": \"labelsTr/label0002.nii.gz\"\n",
    "        },\n",
    "        {\n",
    "            \"image\": \"imagesTr/img0003.nii.gz\",\n",
    "            \"label\": \"labelsTr/label0003.nii.gz\"\n",
    "        },\n",
    "        {\n",
    "            \"image\": \"imagesTr/img0004.nii.gz\",\n",
    "            \"label\": \"labelsTr/label0004.nii.gz\"\n",
    "        },\n",
    "        {\n",
    "            \"image\": \"imagesTr/img0005.nii.gz\",\n",
    "            \"label\": \"labelsTr/label0005.nii.gz\"\n",
    "        },\n",
    "        {\n",
    "            \"image\": \"imagesTr/img0006.nii.gz\",\n",
    "            \"label\": \"labelsTr/label0006.nii.gz\"\n",
    "        },\n",
    "        {\n",
    "            \"image\": \"imagesTr/img0007.nii.gz\",\n",
    "            \"label\": \"labelsTr/label0007.nii.gz\"\n",
    "        },\n",
    "        {\n",
    "            \"image\": \"imagesTr/img0008.nii.gz\",\n",
    "            \"label\": \"labelsTr/label0008.nii.gz\"\n",
    "        },\n",
    "        {\n",
    "            \"image\": \"imagesTr/img0009.nii.gz\",\n",
    "            \"label\": \"labelsTr/label0009.nii.gz\"\n",
    "        },\n",
    "        {\n",
    "            \"image\": \"imagesTr/img0010.nii.gz\",\n",
    "            \"label\": \"labelsTr/label0010.nii.gz\"\n",
    "        },\n",
    "        {\n",
    "            \"image\": \"imagesTr/img0021.nii.gz\",\n",
    "            \"label\": \"labelsTr/label0021.nii.gz\"\n",
    "        },\n",
    "        {\n",
    "            \"image\": \"imagesTr/img0022.nii.gz\",\n",
    "            \"label\": \"labelsTr/label0022.nii.gz\"\n",
    "        },\n",
    "        {\n",
    "            \"image\": \"imagesTr/img0023.nii.gz\",\n",
    "            \"label\": \"labelsTr/label0023.nii.gz\"\n",
    "        },\n",
    "        {\n",
    "            \"image\": \"imagesTr/img0024.nii.gz\",\n",
    "            \"label\": \"labelsTr/label0024.nii.gz\"\n",
    "        },\n",
    "        {\n",
    "            \"image\": \"imagesTr/img0025.nii.gz\",\n",
    "            \"label\": \"labelsTr/label0025.nii.gz\"\n",
    "        },\n",
    "        {\n",
    "            \"image\": \"imagesTr/img0026.nii.gz\",\n",
    "            \"label\": \"labelsTr/label0026.nii.gz\"\n",
    "        },\n",
    "        {\n",
    "            \"image\": \"imagesTr/img0027.nii.gz\",\n",
    "            \"label\": \"labelsTr/label0027.nii.gz\"\n",
    "        },\n",
    "        {\n",
    "            \"image\": \"imagesTr/img0028.nii.gz\",\n",
    "            \"label\": \"labelsTr/label0028.nii.gz\"\n",
    "        },\n",
    "        {\n",
    "            \"image\": \"imagesTr/img0029.nii.gz\",\n",
    "            \"label\": \"labelsTr/label0029.nii.gz\"\n",
    "        },\n",
    "        {\n",
    "            \"image\": \"imagesTr/img0030.nii.gz\",\n",
    "            \"label\": \"labelsTr/label0030.nii.gz\"\n",
    "        },\n",
    "        {\n",
    "            \"image\": \"imagesTr/img0031.nii.gz\",\n",
    "            \"label\": \"labelsTr/label0031.nii.gz\"\n",
    "        },\n",
    "        {\n",
    "            \"image\": \"imagesTr/img0032.nii.gz\",\n",
    "            \"label\": \"labelsTr/label0032.nii.gz\"\n",
    "        },\n",
    "        {\n",
    "            \"image\": \"imagesTr/img0033.nii.gz\",\n",
    "            \"label\": \"labelsTr/label0033.nii.gz\"\n",
    "        },\n",
    "        {\n",
    "            \"image\": \"imagesTr/img0034.nii.gz\",\n",
    "            \"label\": \"labelsTr/label0034.nii.gz\"\n",
    "        }\n",
    "    ],\n",
    "    \"validation\": [\n",
    "        {\n",
    "            \"image\": \"imagesTr/img0035.nii.gz\",\n",
    "            \"label\": \"labelsTr/label0035.nii.gz\"\n",
    "        },\n",
    "        {\n",
    "            \"image\": \"imagesTr/img0036.nii.gz\",\n",
    "            \"label\": \"labelsTr/label0036.nii.gz\"\n",
    "        },\n",
    "        {\n",
    "            \"image\": \"imagesTr/img0037.nii.gz\",\n",
    "            \"label\": \"labelsTr/label0037.nii.gz\"\n",
    "        },\n",
    "        {\n",
    "            \"image\": \"imagesTr/img0038.nii.gz\",\n",
    "            \"label\": \"labelsTr/label0038.nii.gz\"\n",
    "        },\n",
    "        {\n",
    "            \"image\": \"imagesTr/img0039.nii.gz\",\n",
    "            \"label\": \"labelsTr/label0039.nii.gz\"\n",
    "        },\n",
    "        {\n",
    "            \"image\": \"imagesTr/img0040.nii.gz\",\n",
    "            \"label\": \"labelsTr/label0040.nii.gz\"\n",
    "        }\n",
    "    ]\n",
    "}\n",
    "    "
   ]
  },
  {
   "cell_type": "code",
   "execution_count": 5,
   "metadata": {},
   "outputs": [
    {
     "name": "stderr",
     "output_type": "stream",
     "text": [
      "Loading dataset: 100%|██████████| 24/24 [00:31<00:00,  1.30s/it]\n",
      "Loading dataset: 100%|██████████| 6/6 [00:14<00:00,  2.41s/it]\n"
     ]
    }
   ],
   "source": [
    "data_dir = \"../../dataset/hyoreek/dataset/\"\n",
    "split_json = \"dataset_0.json\"\n",
    "\n",
    "datasets = data_dir + split_json\n",
    "datalist = load_decathlon_datalist(datasets, True, \"training\")\n",
    "val_files = load_decathlon_datalist(datasets, True, \"validation\")\n",
    "train_ds = CacheDataset(\n",
    "    data=datalist,\n",
    "    transform=train_transforms,\n",
    "    cache_num=24,\n",
    "    cache_rate=1.0,\n",
    "    num_workers=8,\n",
    ")\n",
    "train_loader = DataLoader(train_ds, batch_size=1, shuffle=True, num_workers=8, pin_memory=True)\n",
    "val_ds = CacheDataset(data=val_files, transform=val_transforms, cache_num=6, cache_rate=1.0, num_workers=4)\n",
    "val_loader = DataLoader(val_ds, batch_size=1, shuffle=False, num_workers=4, pin_memory=True)"
   ]
  },
  {
   "cell_type": "markdown",
   "metadata": {},
   "source": [
    "## Check data shape and visualize"
   ]
  },
  {
   "cell_type": "code",
   "execution_count": 6,
   "metadata": {},
   "outputs": [
    {
     "name": "stdout",
     "output_type": "stream",
     "text": [
      "../../dataset/hyoreek/dataset/imagesTr/img0035.nii.gz\n",
      "image shape: (1, 314, 214, 234), label shape: (1, 314, 214, 234)\n"
     ]
    },
    {
     "data": {
      "image/png": "[encoded data removed]",
      "text/plain": [
       "<Figure size 1296x432 with 2 Axes>"
      ]
     },
     "metadata": {
      "needs_background": "light"
     },
     "output_type": "display_data"
    }
   ],
   "source": [
    "slice_map = {\n",
    "    \"img0035.nii.gz\": 170,\n",
    "    \"img0036.nii.gz\": 230,\n",
    "    \"img0037.nii.gz\": 204,\n",
    "    \"img0038.nii.gz\": 204,\n",
    "    \"img0039.nii.gz\": 204,\n",
    "    \"img0040.nii.gz\": 180,\n",
    "}\n",
    "case_num = 0\n",
    "# img_name = os.path.split(val_ds[case_num][\"image\"].meta[\"filename_or_obj\"])[1]\n",
    "file_path = val_ds[case_num]['image_meta_dict']['filename_or_obj']\n",
    "print(file_path)\n",
    "img_name = os.path.basename(file_path)\n",
    "\n",
    "img = val_ds[case_num][\"image\"]\n",
    "label = val_ds[case_num][\"label\"]\n",
    "img_shape = img.shape\n",
    "label_shape = label.shape\n",
    "print(f\"image shape: {img_shape}, label shape: {label_shape}\")\n",
    "plt.figure(\"image\", (18, 6))\n",
    "plt.subplot(1, 2, 1)\n",
    "plt.title(\"image\")\n",
    "plt.imshow(img[0, :, :, slice_map[img_name]], cmap=\"gray\")\n",
    "plt.subplot(1, 2, 2)\n",
    "plt.title(\"label\")\n",
    "plt.imshow(label[0, :, :, slice_map[img_name]])\n",
    "plt.show()"
   ]
  },
  {
   "cell_type": "markdown",
   "metadata": {},
   "source": [
    "{\n",
    "    \"description\": \"btcv yucheng\",\n",
    "    \"labels\": {\n",
    "        \"0\": \"background\",\n",
    "        \"1\": \"spleen\",\n",
    "        \"2\": \"rkid\",\n",
    "        \"3\": \"lkid\",\n",
    "        \"4\": \"gall\",\n",
    "        \"5\": \"eso\",\n",
    "        \"6\": \"liver\",\n",
    "        \"7\": \"sto\",\n",
    "        \"8\": \"aorta\",\n",
    "        \"9\": \"IVC\",\n",
    "        \"10\": \"veins\",\n",
    "        \"11\": \"pancreas\",\n",
    "        \"12\": \"rad\",\n",
    "        \"13\": \"lad\"\n",
    "    },\n",
    "    \"licence\": \"yt\",\n",
    "    \"modality\": {\n",
    "        \"0\": \"CT\"\n",
    "    },\n",
    "    \"name\": \"btcv\",\n",
    "    \"numTest\": 20,\n",
    "    \"numTraining\": 80,\n",
    "    \"reference\": \"Vanderbilt University\",\n",
    "    \"release\": \"1.0 06/08/2015\",\n",
    "    \"tensorImageSize\": \"3D\",\n",
    "    \"test\": [\n",
    "        // 이미지 이름을 적절히 수정해주셔야 합니다.\n",
    "    ],\n",
    "    \"training\": [\n",
    "        {\n",
    "            \"image\": \"imagesTr/DET0000301_avg.nii.gz\",\n",
    "            \"label\": \"labelsTr/DET0000101_avg_seg.nii.gz\"\n",
    "        },\n",
    "        {\n",
    "            \"image\": \"imagesTr/DET0000601_avg.nii.gz\",\n",
    "            \"label\": \"labelsTr/DET0000201_avg_seg.nii.gz\"\n",
    "        },\n",
    "        // 이하 생략, 나머지도 이런 식으로 작성\n",
    "    ],\n",
    "    \"validation\": [\n",
    "        {\n",
    "            \"image\": \"imagesTr/DET0000701_avg.nii.gz\",\n",
    "            \"label\": \"labelsTr/DET0000801_avg_seg.nii.gz\"\n",
    "        },\n",
    "        {\n",
    "            \"image\": \"imagesTr/DET0007301_avg.nii.gz\",\n",
    "            \"label\": \"labelsTr/DET0001101_avg_seg.nii.gz\"\n",
    "        },\n",
    "        // 이하 생략, 나머지도 이런 식으로 작성\n",
    "    ]\n",
    "}\n"
   ]
  },
  {
   "cell_type": "markdown",
   "metadata": {},
   "source": [
    "{\n",
    "    \"description\": \"btcv yucheng\",\n",
    "    \"labels\": {\n",
    "        \"0\": \"background\",\n",
    "        \"1\": \"spleen\",\n",
    "        \"2\": \"rkid\",\n",
    "        \"3\": \"lkid\",\n",
    "        \"4\": \"gall\",\n",
    "        \"5\": \"eso\",\n",
    "        \"6\": \"liver\",\n",
    "        \"7\": \"sto\",\n",
    "        \"8\": \"aorta\",\n",
    "        \"9\": \"IVC\",\n",
    "        \"10\": \"veins\",\n",
    "        \"11\": \"pancreas\",\n",
    "        \"12\": \"rad\",\n",
    "        \"13\": \"lad\"\n",
    "    },\n",
    "    \"licence\": \"yt\",\n",
    "    \"modality\": {\n",
    "        \"0\": \"CT\"\n",
    "    },\n",
    "    \"name\": \"btcv\",\n",
    "    \"numTest\": 20,\n",
    "    \"numTraining\": 80,\n",
    "    \"reference\": \"Vanderbilt University\",\n",
    "    \"release\": \"1.0 06/08/2015\",\n",
    "    \"tensorImageSize\": \"3D\",\n",
    "    \"test\": [\n",
    "        // 이미지 이름을 적절히 수정해주셔야 합니다.\n",
    "    ],\n",
    "    \"training\": [\n",
    "        {\n",
    "            \"image\": \"imagesTr/DET0000301_avg.nii.gz\",\n",
    "            \"label\": \"labelsTr/DET0000101_avg_seg.nii.gz\"\n",
    "        },\n",
    "        {\n",
    "            \"image\": \"imagesTr/DET0000601_avg.nii.gz\",\n",
    "            \"label\": \"labelsTr/DET0000201_avg_seg.nii.gz\"\n",
    "        },\n",
    "        // 이하 생략, 나머지도 이런 식으로 작성\n",
    "    ],\n",
    "    \"validation\": [\n",
    "        {\n",
    "            \"image\": \"imagesTr/DET0000701_avg.nii.gz\",\n",
    "            \"label\": \"labelsTr/DET0000801_avg_seg.nii.gz\"\n",
    "        },\n",
    "        {\n",
    "            \"image\": \"imagesTr/DET0007301_avg.nii.gz\",\n",
    "            \"label\": \"labelsTr/DET0001101_avg_seg.nii.gz\"\n",
    "        },\n",
    "        // 이하 생략, 나머지도 이런 식으로 작성\n",
    "    ]\n",
    "}\n"
   ]
  },
  {
   "cell_type": "code",
   "execution_count": 7,
   "metadata": {},
   "outputs": [],
   "source": [
    "import os\n",
    "import glob\n",
    "from monai.transforms import LoadImaged, AddChanneld, ScaleIntensityd, RandGaussianNoised\n",
    "from monai.data import CacheDataset, DataLoader\n",
    "from monai.utils import set_determinism\n",
    "import torch\n",
    "os.environ[\"CUDA_DEVICE_ORDER\"] = \"PCI_BUS_ID\"\n",
    "os.environ[\"CUDA_VISIBLE_DEVICES\"] = \"2\"\n",
    "device = torch.device(\"cuda\" if torch.cuda.is_available() else \"cpu\")\n",
    "\n"
   ]
  },
  {
   "cell_type": "markdown",
   "metadata": {},
   "source": [
    "### Create Model, Loss, Optimizer\n"
   ]
  },
  {
   "cell_type": "code",
   "execution_count": 8,
   "metadata": {},
   "outputs": [],
   "source": [
    "import torch\n",
    "import torch.nn as nn\n",
    "from monai.networks.nets import UNETR\n",
    "\n",
    "\n",
    "model = UNETR(\n",
    "    in_channels=1,\n",
    "    out_channels=14,\n",
    "    img_size=(96, 96, 96),\n",
    "    feature_size=16,\n",
    "    hidden_size=768,\n",
    "    mlp_dim=3072,\n",
    "    num_heads=12,\n",
    "    pos_embed=\"perceptron\",\n",
    "    norm_name=\"instance\",\n",
    "    res_block=True,\n",
    "    dropout_rate=0.0,\n",
    ").to(device)\n",
    "\n",
    "loss_function = DiceCELoss(to_onehot_y=True, softmax=True)\n",
    "torch.backends.cudnn.benchmark = True\n",
    "optimizer = torch.optim.AdamW(model.parameters(), lr=1e-4, weight_decay=1e-5)"
   ]
  },
  {
   "cell_type": "markdown",
   "metadata": {},
   "source": [
    "### Execute a typical PyTorch training process"
   ]
  },
  {
   "cell_type": "code",
   "execution_count": 9,
   "metadata": {
    "scrolled": true
   },
   "outputs": [
    {
     "name": "stderr",
     "output_type": "stream",
     "text": [
      "Training (23 / 30000 Steps) (loss=2.78987): 100%|██████████| 24/24 [00:18<00:00,  1.32it/s]\n",
      "Training (47 / 30000 Steps) (loss=2.67545): 100%|██████████| 24/24 [00:14<00:00,  1.62it/s]\n",
      "Training (71 / 30000 Steps) (loss=2.60299): 100%|██████████| 24/24 [00:14<00:00,  1.61it/s]\n",
      "Training (95 / 30000 Steps) (loss=2.41919): 100%|██████████| 24/24 [00:14<00:00,  1.65it/s]\n",
      "Training (119 / 30000 Steps) (loss=2.39653): 100%|██████████| 24/24 [00:14<00:00,  1.66it/s]\n",
      "Training (143 / 30000 Steps) (loss=2.35529): 100%|██████████| 24/24 [00:14<00:00,  1.65it/s]\n",
      "Training (167 / 30000 Steps) (loss=2.33275): 100%|██████████| 24/24 [00:14<00:00,  1.64it/s]\n",
      "Training (191 / 30000 Steps) (loss=2.38185): 100%|██████████| 24/24 [00:14<00:00,  1.65it/s]\n",
      "Training (215 / 30000 Steps) (loss=2.28756): 100%|██████████| 24/24 [00:14<00:00,  1.63it/s]\n",
      "Training (239 / 30000 Steps) (loss=2.22992): 100%|██████████| 24/24 [00:14<00:00,  1.60it/s]\n",
      "Training (263 / 30000 Steps) (loss=2.22413): 100%|██████████| 24/24 [00:15<00:00,  1.57it/s]\n",
      "Training (287 / 30000 Steps) (loss=2.14289): 100%|██████████| 24/24 [00:15<00:00,  1.59it/s]\n",
      "Training (311 / 30000 Steps) (loss=2.08136): 100%|██████████| 24/24 [00:15<00:00,  1.59it/s]\n",
      "Training (335 / 30000 Steps) (loss=2.38394): 100%|██████████| 24/24 [00:15<00:00,  1.51it/s]\n",
      "Training (359 / 30000 Steps) (loss=2.16538): 100%|██████████| 24/24 [00:15<00:00,  1.50it/s]\n",
      "Training (383 / 30000 Steps) (loss=2.02801): 100%|██████████| 24/24 [00:15<00:00,  1.51it/s]\n",
      "Training (407 / 30000 Steps) (loss=2.15101): 100%|██████████| 24/24 [00:16<00:00,  1.49it/s]\n",
      "Training (431 / 30000 Steps) (loss=2.08428): 100%|██████████| 24/24 [00:16<00:00,  1.49it/s]\n",
      "Training (455 / 30000 Steps) (loss=1.94763): 100%|██████████| 24/24 [00:16<00:00,  1.49it/s]\n",
      "Training (479 / 30000 Steps) (loss=2.04526): 100%|██████████| 24/24 [00:15<00:00,  1.54it/s]\n",
      "Validate (480 / 10 Steps): 100%|██████████| 6/6 [00:13<00:00,  2.27s/it]14<00:02,  1.66it/s]\n",
      "Training (500 / 30000 Steps) (loss=1.85066):  88%|████████▊ | 21/24 [00:28<00:14,  4.98s/it]"
     ]
    },
    {
     "name": "stdout",
     "output_type": "stream",
     "text": [
      "Model Was Saved ! Current Best Avg. Dice: 0.10430439561605453 Current Avg. Dice: 0.10430439561605453\n"
     ]
    },
    {
     "name": "stderr",
     "output_type": "stream",
     "text": [
      "Training (503 / 30000 Steps) (loss=2.09976): 100%|██████████| 24/24 [00:30<00:00,  1.28s/it]\n",
      "Training (527 / 30000 Steps) (loss=1.79441): 100%|██████████| 24/24 [00:15<00:00,  1.51it/s]\n",
      "Training (551 / 30000 Steps) (loss=1.79122): 100%|██████████| 24/24 [00:15<00:00,  1.50it/s]\n",
      "Training (575 / 30000 Steps) (loss=1.85173): 100%|██████████| 24/24 [00:15<00:00,  1.52it/s]\n",
      "Training (599 / 30000 Steps) (loss=1.94188): 100%|██████████| 24/24 [00:15<00:00,  1.52it/s]\n",
      "Training (623 / 30000 Steps) (loss=1.74127): 100%|██████████| 24/24 [00:15<00:00,  1.53it/s]\n",
      "Training (647 / 30000 Steps) (loss=1.81068): 100%|██████████| 24/24 [00:15<00:00,  1.52it/s]\n",
      "Training (671 / 30000 Steps) (loss=1.60420): 100%|██████████| 24/24 [00:15<00:00,  1.54it/s]\n",
      "Training (695 / 30000 Steps) (loss=1.67976): 100%|██████████| 24/24 [00:15<00:00,  1.53it/s]\n",
      "Training (719 / 30000 Steps) (loss=1.85345): 100%|██████████| 24/24 [00:15<00:00,  1.52it/s]\n",
      "Training (743 / 30000 Steps) (loss=1.78571): 100%|██████████| 24/24 [00:15<00:00,  1.51it/s]\n",
      "Training (767 / 30000 Steps) (loss=1.84688): 100%|██████████| 24/24 [00:15<00:00,  1.57it/s]\n",
      "Training (791 / 30000 Steps) (loss=1.60553): 100%|██████████| 24/24 [00:15<00:00,  1.52it/s]\n",
      "Training (815 / 30000 Steps) (loss=1.72036): 100%|██████████| 24/24 [00:15<00:00,  1.52it/s]\n",
      "Training (839 / 30000 Steps) (loss=1.60869): 100%|██████████| 24/24 [00:15<00:00,  1.53it/s]\n",
      "Training (863 / 30000 Steps) (loss=1.68000): 100%|██████████| 24/24 [00:15<00:00,  1.53it/s]\n",
      "Training (887 / 30000 Steps) (loss=1.63476): 100%|██████████| 24/24 [00:15<00:00,  1.54it/s]\n",
      "Training (911 / 30000 Steps) (loss=1.50502): 100%|██████████| 24/24 [00:15<00:00,  1.56it/s]\n",
      "Training (935 / 30000 Steps) (loss=1.52505): 100%|██████████| 24/24 [00:15<00:00,  1.55it/s]\n",
      "Training (959 / 30000 Steps) (loss=1.44678): 100%|██████████| 24/24 [00:15<00:00,  1.52it/s]\n",
      "Training (983 / 30000 Steps) (loss=1.52587): 100%|██████████| 24/24 [00:15<00:00,  1.52it/s]\n",
      "Validate (984 / 10 Steps): 100%|██████████| 6/6 [00:12<00:00,  2.17s/it]:11<00:04,  1.70it/s]\n",
      "Training (1000 / 30000 Steps) (loss=1.41375):  71%|███████   | 17/24 [00:25<00:33,  4.80s/it]"
     ]
    },
    {
     "name": "stdout",
     "output_type": "stream",
     "text": [
      "Model Was Saved ! Current Best Avg. Dice: 0.1307261735200882 Current Avg. Dice: 0.1307261735200882\n"
     ]
    },
    {
     "name": "stderr",
     "output_type": "stream",
     "text": [
      "Training (1007 / 30000 Steps) (loss=1.43422): 100%|██████████| 24/24 [00:29<00:00,  1.23s/it]\n",
      "Training (1031 / 30000 Steps) (loss=1.69252): 100%|██████████| 24/24 [00:15<00:00,  1.53it/s]\n",
      "Training (1055 / 30000 Steps) (loss=1.36798): 100%|██████████| 24/24 [00:15<00:00,  1.56it/s]\n",
      "Training (1079 / 30000 Steps) (loss=1.70504): 100%|██████████| 24/24 [00:15<00:00,  1.54it/s]\n",
      "Training (1103 / 30000 Steps) (loss=1.43126): 100%|██████████| 24/24 [00:15<00:00,  1.54it/s]\n",
      "Training (1127 / 30000 Steps) (loss=1.55234): 100%|██████████| 24/24 [00:15<00:00,  1.53it/s]\n",
      "Training (1151 / 30000 Steps) (loss=1.32631): 100%|██████████| 24/24 [00:15<00:00,  1.50it/s]\n",
      "Training (1175 / 30000 Steps) (loss=1.62008): 100%|██████████| 24/24 [00:15<00:00,  1.52it/s]\n",
      "Training (1199 / 30000 Steps) (loss=1.31837): 100%|██████████| 24/24 [00:15<00:00,  1.56it/s]\n",
      "Training (1223 / 30000 Steps) (loss=1.39332): 100%|██████████| 24/24 [00:15<00:00,  1.51it/s]\n",
      "Training (1247 / 30000 Steps) (loss=1.52088): 100%|██████████| 24/24 [00:15<00:00,  1.51it/s]\n",
      "Training (1271 / 30000 Steps) (loss=1.37123): 100%|██████████| 24/24 [00:15<00:00,  1.52it/s]\n",
      "Training (1295 / 30000 Steps) (loss=1.71926): 100%|██████████| 24/24 [00:15<00:00,  1.57it/s]\n",
      "Training (1319 / 30000 Steps) (loss=2.06630): 100%|██████████| 24/24 [00:15<00:00,  1.54it/s]\n",
      "Training (1343 / 30000 Steps) (loss=1.44958): 100%|██████████| 24/24 [00:15<00:00,  1.51it/s]\n",
      "Training (1367 / 30000 Steps) (loss=1.42771): 100%|██████████| 24/24 [00:15<00:00,  1.54it/s]\n",
      "Training (1391 / 30000 Steps) (loss=1.31808): 100%|██████████| 24/24 [00:15<00:00,  1.56it/s]\n",
      "Training (1415 / 30000 Steps) (loss=1.27521): 100%|██████████| 24/24 [00:15<00:00,  1.52it/s]\n",
      "Training (1439 / 30000 Steps) (loss=1.51247): 100%|██████████| 24/24 [00:16<00:00,  1.46it/s]\n",
      "Training (1463 / 30000 Steps) (loss=1.38948): 100%|██████████| 24/24 [00:15<00:00,  1.54it/s]\n",
      "Training (1487 / 30000 Steps) (loss=1.40596): 100%|██████████| 24/24 [00:15<00:00,  1.54it/s]\n",
      "Validate (1488 / 10 Steps): 100%|██████████| 6/6 [00:12<00:00,  2.16s/it]08<00:07,  1.69it/s]\n",
      "Training (1500 / 30000 Steps) (loss=1.49916):  54%|█████▍    | 13/24 [00:22<00:52,  4.78s/it]"
     ]
    },
    {
     "name": "stdout",
     "output_type": "stream",
     "text": [
      "Model Was Saved ! Current Best Avg. Dice: 0.13216473162174225 Current Avg. Dice: 0.13216473162174225\n"
     ]
    },
    {
     "name": "stderr",
     "output_type": "stream",
     "text": [
      "Training (1511 / 30000 Steps) (loss=1.23827): 100%|██████████| 24/24 [00:29<00:00,  1.23s/it]\n",
      "Training (1535 / 30000 Steps) (loss=1.38888): 100%|██████████| 24/24 [00:15<00:00,  1.56it/s]\n",
      "Training (1559 / 30000 Steps) (loss=1.36125): 100%|██████████| 24/24 [00:15<00:00,  1.51it/s]\n",
      "Training (1583 / 30000 Steps) (loss=1.18338): 100%|██████████| 24/24 [00:15<00:00,  1.54it/s]\n",
      "Training (1607 / 30000 Steps) (loss=1.92825): 100%|██████████| 24/24 [00:15<00:00,  1.51it/s]\n",
      "Training (1631 / 30000 Steps) (loss=1.47192): 100%|██████████| 24/24 [00:15<00:00,  1.53it/s]\n",
      "Training (1655 / 30000 Steps) (loss=1.47051): 100%|██████████| 24/24 [00:15<00:00,  1.50it/s]\n",
      "Training (1679 / 30000 Steps) (loss=1.26063): 100%|██████████| 24/24 [00:15<00:00,  1.55it/s]\n",
      "Training (1703 / 30000 Steps) (loss=1.29046): 100%|██████████| 24/24 [00:15<00:00,  1.51it/s]\n",
      "Training (1727 / 30000 Steps) (loss=1.41898): 100%|██████████| 24/24 [00:15<00:00,  1.51it/s]\n",
      "Training (1751 / 30000 Steps) (loss=1.27595): 100%|██████████| 24/24 [00:15<00:00,  1.52it/s]\n",
      "Training (1775 / 30000 Steps) (loss=1.23633): 100%|██████████| 24/24 [00:15<00:00,  1.54it/s]\n",
      "Training (1799 / 30000 Steps) (loss=1.34513): 100%|██████████| 24/24 [00:15<00:00,  1.52it/s]\n",
      "Training (1823 / 30000 Steps) (loss=1.44255): 100%|██████████| 24/24 [00:15<00:00,  1.57it/s]\n",
      "Training (1847 / 30000 Steps) (loss=1.32563): 100%|██████████| 24/24 [00:15<00:00,  1.52it/s]\n",
      "Training (1871 / 30000 Steps) (loss=1.18412): 100%|██████████| 24/24 [00:16<00:00,  1.48it/s]\n",
      "Training (1895 / 30000 Steps) (loss=1.20479): 100%|██████████| 24/24 [00:15<00:00,  1.53it/s]\n",
      "Training (1919 / 30000 Steps) (loss=1.37372): 100%|██████████| 24/24 [00:15<00:00,  1.51it/s]\n",
      "Training (1943 / 30000 Steps) (loss=1.21191): 100%|██████████| 24/24 [00:15<00:00,  1.51it/s]\n",
      "Training (1967 / 30000 Steps) (loss=1.34811): 100%|██████████| 24/24 [00:15<00:00,  1.53it/s]\n",
      "Training (1991 / 30000 Steps) (loss=1.30100): 100%|██████████| 24/24 [00:15<00:00,  1.53it/s]\n",
      "Validate (1992 / 10 Steps): 100%|██████████| 6/6 [00:13<00:00,  2.18s/it]6<00:09,  1.61it/s]\n",
      "Training (2000 / 30000 Steps) (loss=1.12625):  38%|███▊      | 9/24 [00:20<01:14,  5.00s/it]"
     ]
    },
    {
     "name": "stdout",
     "output_type": "stream",
     "text": [
      "Model Was Saved ! Current Best Avg. Dice: 0.1455538272857666 Current Avg. Dice: 0.1455538272857666\n"
     ]
    },
    {
     "name": "stderr",
     "output_type": "stream",
     "text": [
      "Training (2015 / 30000 Steps) (loss=1.38219): 100%|██████████| 24/24 [00:29<00:00,  1.23s/it]\n",
      "Training (2039 / 30000 Steps) (loss=1.15091): 100%|██████████| 24/24 [00:15<00:00,  1.52it/s]\n",
      "Training (2063 / 30000 Steps) (loss=1.26166): 100%|██████████| 24/24 [00:15<00:00,  1.51it/s]\n",
      "Training (2087 / 30000 Steps) (loss=1.32276): 100%|██████████| 24/24 [00:15<00:00,  1.54it/s]\n",
      "Training (2111 / 30000 Steps) (loss=1.29758): 100%|██████████| 24/24 [00:15<00:00,  1.53it/s]\n",
      "Training (2135 / 30000 Steps) (loss=1.26786): 100%|██████████| 24/24 [00:15<00:00,  1.52it/s]\n",
      "Training (2159 / 30000 Steps) (loss=1.23752): 100%|██████████| 24/24 [00:15<00:00,  1.56it/s]\n",
      "Training (2183 / 30000 Steps) (loss=1.29501): 100%|██████████| 24/24 [00:15<00:00,  1.52it/s]\n",
      "Training (2207 / 30000 Steps) (loss=1.21874): 100%|██████████| 24/24 [00:15<00:00,  1.56it/s]\n",
      "Training (2231 / 30000 Steps) (loss=1.29905): 100%|██████████| 24/24 [00:15<00:00,  1.57it/s]\n",
      "Training (2255 / 30000 Steps) (loss=1.36002): 100%|██████████| 24/24 [00:15<00:00,  1.54it/s]\n",
      "Training (2279 / 30000 Steps) (loss=1.25582): 100%|██████████| 24/24 [00:15<00:00,  1.52it/s]\n",
      "Training (2303 / 30000 Steps) (loss=1.16884): 100%|██████████| 24/24 [00:15<00:00,  1.53it/s]\n",
      "Training (2327 / 30000 Steps) (loss=1.26556): 100%|██████████| 24/24 [00:15<00:00,  1.55it/s]\n",
      "Training (2351 / 30000 Steps) (loss=1.15761): 100%|██████████| 24/24 [00:15<00:00,  1.52it/s]\n",
      "Training (2375 / 30000 Steps) (loss=1.27853): 100%|██████████| 24/24 [00:15<00:00,  1.52it/s]\n",
      "Training (2399 / 30000 Steps) (loss=1.29538): 100%|██████████| 24/24 [00:15<00:00,  1.51it/s]\n",
      "Training (2423 / 30000 Steps) (loss=1.14442): 100%|██████████| 24/24 [00:15<00:00,  1.57it/s]\n",
      "Training (2447 / 30000 Steps) (loss=1.12740): 100%|██████████| 24/24 [00:15<00:00,  1.51it/s]\n",
      "Training (2471 / 30000 Steps) (loss=1.16544): 100%|██████████| 24/24 [00:15<00:00,  1.51it/s]\n",
      "Training (2495 / 30000 Steps) (loss=1.16856): 100%|██████████| 24/24 [00:15<00:00,  1.53it/s]\n",
      "Validate (2496 / 10 Steps): 100%|██████████| 6/6 [00:12<00:00,  2.14s/it]4<00:16,  1.19it/s]\n",
      "Training (2500 / 30000 Steps) (loss=1.16261):  21%|██        | 5/24 [00:18<01:48,  5.72s/it]"
     ]
    },
    {
     "name": "stdout",
     "output_type": "stream",
     "text": [
      "Model Was Saved ! Current Best Avg. Dice: 0.15324781835079193 Current Avg. Dice: 0.15324781835079193\n"
     ]
    },
    {
     "name": "stderr",
     "output_type": "stream",
     "text": [
      "Training (2519 / 30000 Steps) (loss=1.45778): 100%|██████████| 24/24 [00:29<00:00,  1.25s/it]\n",
      "Training (2543 / 30000 Steps) (loss=1.28505): 100%|██████████| 24/24 [00:15<00:00,  1.51it/s]\n",
      "Training (2567 / 30000 Steps) (loss=1.34891): 100%|██████████| 24/24 [00:15<00:00,  1.52it/s]\n",
      "Training (2591 / 30000 Steps) (loss=1.31843): 100%|██████████| 24/24 [00:15<00:00,  1.54it/s]\n",
      "Training (2615 / 30000 Steps) (loss=1.21118): 100%|██████████| 24/24 [00:15<00:00,  1.54it/s]\n",
      "Training (2639 / 30000 Steps) (loss=1.23321): 100%|██████████| 24/24 [00:15<00:00,  1.55it/s]\n",
      "Training (2663 / 30000 Steps) (loss=1.19268): 100%|██████████| 24/24 [00:15<00:00,  1.54it/s]\n",
      "Training (2687 / 30000 Steps) (loss=1.23848): 100%|██████████| 24/24 [00:15<00:00,  1.52it/s]\n",
      "Training (2711 / 30000 Steps) (loss=1.34649): 100%|██████████| 24/24 [00:15<00:00,  1.53it/s]\n",
      "Training (2735 / 30000 Steps) (loss=1.25384): 100%|██████████| 24/24 [00:15<00:00,  1.53it/s]\n",
      "Training (2759 / 30000 Steps) (loss=1.13014): 100%|██████████| 24/24 [00:15<00:00,  1.54it/s]\n",
      "Training (2783 / 30000 Steps) (loss=1.18274): 100%|██████████| 24/24 [00:15<00:00,  1.51it/s]\n",
      "Training (2807 / 30000 Steps) (loss=1.68534): 100%|██████████| 24/24 [00:15<00:00,  1.54it/s]\n",
      "Training (2831 / 30000 Steps) (loss=1.17089): 100%|██████████| 24/24 [00:15<00:00,  1.52it/s]\n",
      "Training (2855 / 30000 Steps) (loss=1.34892): 100%|██████████| 24/24 [00:15<00:00,  1.54it/s]\n",
      "Training (2879 / 30000 Steps) (loss=1.33050): 100%|██████████| 24/24 [00:15<00:00,  1.53it/s]\n",
      "Training (2903 / 30000 Steps) (loss=1.64168): 100%|██████████| 24/24 [00:15<00:00,  1.54it/s]\n",
      "Training (2927 / 30000 Steps) (loss=1.15439): 100%|██████████| 24/24 [00:15<00:00,  1.53it/s]\n",
      "Training (2951 / 30000 Steps) (loss=1.24062): 100%|██████████| 24/24 [00:15<00:00,  1.56it/s]\n",
      "Training (2975 / 30000 Steps) (loss=1.58598): 100%|██████████| 24/24 [00:15<00:00,  1.52it/s]\n",
      "Training (2999 / 30000 Steps) (loss=1.44682): 100%|██████████| 24/24 [00:15<00:00,  1.53it/s]\n",
      "Validate (3000 / 10 Steps): 100%|██████████| 6/6 [00:12<00:00,  2.16s/it]1<?, ?it/s]\n",
      "Training (3000 / 30000 Steps) (loss=1.11692):   4%|▍         | 1/24 [00:15<05:59, 15.61s/it]"
     ]
    },
    {
     "name": "stdout",
     "output_type": "stream",
     "text": [
      "Model Was Saved ! Current Best Avg. Dice: 0.1676572561264038 Current Avg. Dice: 0.1676572561264038\n"
     ]
    },
    {
     "name": "stderr",
     "output_type": "stream",
     "text": [
      "Training (3023 / 30000 Steps) (loss=1.33655): 100%|██████████| 24/24 [00:29<00:00,  1.22s/it]\n",
      "Training (3047 / 30000 Steps) (loss=1.27548): 100%|██████████| 24/24 [00:15<00:00,  1.55it/s]\n",
      "Training (3071 / 30000 Steps) (loss=1.41228): 100%|██████████| 24/24 [00:15<00:00,  1.51it/s]\n",
      "Training (3095 / 30000 Steps) (loss=1.15421): 100%|██████████| 24/24 [00:15<00:00,  1.56it/s]\n",
      "Training (3119 / 30000 Steps) (loss=1.19592): 100%|██████████| 24/24 [00:15<00:00,  1.52it/s]\n",
      "Training (3143 / 30000 Steps) (loss=1.13810): 100%|██████████| 24/24 [00:15<00:00,  1.56it/s]\n",
      "Training (3167 / 30000 Steps) (loss=1.18174): 100%|██████████| 24/24 [00:15<00:00,  1.54it/s]\n",
      "Training (3191 / 30000 Steps) (loss=1.17939): 100%|██████████| 24/24 [00:15<00:00,  1.53it/s]\n",
      "Training (3215 / 30000 Steps) (loss=1.11553): 100%|██████████| 24/24 [00:15<00:00,  1.52it/s]\n",
      "Training (3239 / 30000 Steps) (loss=1.21160): 100%|██████████| 24/24 [00:15<00:00,  1.56it/s]\n",
      "Training (3263 / 30000 Steps) (loss=1.26544): 100%|██████████| 24/24 [00:15<00:00,  1.56it/s]\n",
      "Training (3287 / 30000 Steps) (loss=1.18590): 100%|██████████| 24/24 [00:15<00:00,  1.54it/s]\n",
      "Training (3311 / 30000 Steps) (loss=1.21005): 100%|██████████| 24/24 [00:15<00:00,  1.51it/s]\n",
      "Training (3335 / 30000 Steps) (loss=1.15441): 100%|██████████| 24/24 [00:15<00:00,  1.52it/s]\n",
      "Training (3359 / 30000 Steps) (loss=1.23237): 100%|██████████| 24/24 [00:15<00:00,  1.53it/s]\n",
      "Training (3383 / 30000 Steps) (loss=1.28833): 100%|██████████| 24/24 [00:15<00:00,  1.55it/s]\n",
      "Training (3407 / 30000 Steps) (loss=1.05861): 100%|██████████| 24/24 [00:15<00:00,  1.54it/s]\n",
      "Training (3431 / 30000 Steps) (loss=1.09231): 100%|██████████| 24/24 [00:15<00:00,  1.52it/s]\n",
      "Training (3455 / 30000 Steps) (loss=1.04798): 100%|██████████| 24/24 [00:15<00:00,  1.54it/s]\n",
      "Training (3479 / 30000 Steps) (loss=1.10560): 100%|██████████| 24/24 [00:15<00:00,  1.54it/s]\n",
      "Validate (3480 / 10 Steps): 100%|██████████| 6/6 [00:13<00:00,  2.18s/it]13<00:02,  1.72it/s]\n",
      "Training (3500 / 30000 Steps) (loss=1.25306):  88%|████████▊ | 21/24 [00:27<00:14,  4.78s/it]"
     ]
    },
    {
     "name": "stdout",
     "output_type": "stream",
     "text": [
      "Model Was Saved ! Current Best Avg. Dice: 0.1949024200439453 Current Avg. Dice: 0.1949024200439453\n"
     ]
    },
    {
     "name": "stderr",
     "output_type": "stream",
     "text": [
      "Training (3503 / 30000 Steps) (loss=2.22788): 100%|██████████| 24/24 [00:29<00:00,  1.23s/it]\n",
      "Training (3527 / 30000 Steps) (loss=1.18888): 100%|██████████| 24/24 [00:15<00:00,  1.55it/s]\n",
      "Training (3551 / 30000 Steps) (loss=1.09296): 100%|██████████| 24/24 [00:15<00:00,  1.53it/s]\n",
      "Training (3575 / 30000 Steps) (loss=1.14095): 100%|██████████| 24/24 [00:15<00:00,  1.53it/s]\n",
      "Training (3599 / 30000 Steps) (loss=1.17485): 100%|██████████| 24/24 [00:15<00:00,  1.53it/s]\n",
      "Training (3623 / 30000 Steps) (loss=1.10694): 100%|██████████| 24/24 [00:15<00:00,  1.54it/s]\n",
      "Training (3647 / 30000 Steps) (loss=1.16822): 100%|██████████| 24/24 [00:15<00:00,  1.51it/s]\n",
      "Training (3671 / 30000 Steps) (loss=1.14492): 100%|██████████| 24/24 [00:15<00:00,  1.55it/s]\n",
      "Training (3695 / 30000 Steps) (loss=1.14498): 100%|██████████| 24/24 [00:15<00:00,  1.53it/s]\n",
      "Training (3719 / 30000 Steps) (loss=1.25320): 100%|██████████| 24/24 [00:15<00:00,  1.54it/s]\n",
      "Training (3743 / 30000 Steps) (loss=1.08518): 100%|██████████| 24/24 [00:15<00:00,  1.56it/s]\n",
      "Training (3767 / 30000 Steps) (loss=1.05529): 100%|██████████| 24/24 [00:15<00:00,  1.54it/s]\n",
      "Training (3791 / 30000 Steps) (loss=1.10647): 100%|██████████| 24/24 [00:15<00:00,  1.52it/s]\n",
      "Training (3815 / 30000 Steps) (loss=1.05879): 100%|██████████| 24/24 [00:15<00:00,  1.52it/s]\n",
      "Training (3839 / 30000 Steps) (loss=1.19326): 100%|██████████| 24/24 [00:15<00:00,  1.57it/s]\n",
      "Training (3863 / 30000 Steps) (loss=1.10225): 100%|██████████| 24/24 [00:15<00:00,  1.54it/s]\n",
      "Training (3887 / 30000 Steps) (loss=0.99751): 100%|██████████| 24/24 [00:15<00:00,  1.53it/s]\n",
      "Training (3911 / 30000 Steps) (loss=1.30196): 100%|██████████| 24/24 [00:15<00:00,  1.56it/s]\n",
      "Training (3935 / 30000 Steps) (loss=1.12403): 100%|██████████| 24/24 [00:15<00:00,  1.55it/s]\n",
      "Training (3959 / 30000 Steps) (loss=1.12600): 100%|██████████| 24/24 [00:15<00:00,  1.55it/s]\n",
      "Training (3983 / 30000 Steps) (loss=1.26513): 100%|██████████| 24/24 [00:15<00:00,  1.53it/s]\n",
      "Validate (3984 / 10 Steps): 100%|██████████| 6/6 [00:13<00:00,  2.18s/it]11<00:04,  1.70it/s]\n",
      "Training (4000 / 30000 Steps) (loss=1.27950):  71%|███████   | 17/24 [00:25<00:33,  4.81s/it]"
     ]
    },
    {
     "name": "stdout",
     "output_type": "stream",
     "text": [
      "Model Was Saved ! Current Best Avg. Dice: 0.2711106240749359 Current Avg. Dice: 0.2711106240749359\n"
     ]
    },
    {
     "name": "stderr",
     "output_type": "stream",
     "text": [
      "Training (4007 / 30000 Steps) (loss=1.21023): 100%|██████████| 24/24 [00:29<00:00,  1.24s/it]\n",
      "Training (4031 / 30000 Steps) (loss=1.22912): 100%|██████████| 24/24 [00:15<00:00,  1.52it/s]\n",
      "Training (4055 / 30000 Steps) (loss=1.10593): 100%|██████████| 24/24 [00:15<00:00,  1.52it/s]\n",
      "Training (4079 / 30000 Steps) (loss=1.06012): 100%|██████████| 24/24 [00:15<00:00,  1.51it/s]\n",
      "Training (4103 / 30000 Steps) (loss=1.15946): 100%|██████████| 24/24 [00:15<00:00,  1.52it/s]\n",
      "Training (4127 / 30000 Steps) (loss=1.25369): 100%|██████████| 24/24 [00:15<00:00,  1.53it/s]\n",
      "Training (4151 / 30000 Steps) (loss=1.26051): 100%|██████████| 24/24 [00:15<00:00,  1.54it/s]\n",
      "Training (4175 / 30000 Steps) (loss=1.11151): 100%|██████████| 24/24 [00:15<00:00,  1.51it/s]\n",
      "Training (4199 / 30000 Steps) (loss=1.14183): 100%|██████████| 24/24 [00:15<00:00,  1.54it/s]\n",
      "Training (4223 / 30000 Steps) (loss=1.11642): 100%|██████████| 24/24 [00:15<00:00,  1.53it/s]\n",
      "Training (4247 / 30000 Steps) (loss=0.98162): 100%|██████████| 24/24 [00:15<00:00,  1.54it/s]\n",
      "Training (4271 / 30000 Steps) (loss=1.15276): 100%|██████████| 24/24 [00:15<00:00,  1.53it/s]\n",
      "Training (4295 / 30000 Steps) (loss=1.81428): 100%|██████████| 24/24 [00:15<00:00,  1.55it/s]\n",
      "Training (4319 / 30000 Steps) (loss=1.06243): 100%|██████████| 24/24 [00:15<00:00,  1.54it/s]\n",
      "Training (4343 / 30000 Steps) (loss=0.99869): 100%|██████████| 24/24 [00:15<00:00,  1.53it/s]\n",
      "Training (4367 / 30000 Steps) (loss=1.08200): 100%|██████████| 24/24 [00:16<00:00,  1.50it/s]\n",
      "Training (4391 / 30000 Steps) (loss=1.10283): 100%|██████████| 24/24 [00:15<00:00,  1.54it/s]\n",
      "Training (4415 / 30000 Steps) (loss=1.08654): 100%|██████████| 24/24 [00:15<00:00,  1.54it/s]\n",
      "Training (4439 / 30000 Steps) (loss=1.08225): 100%|██████████| 24/24 [00:15<00:00,  1.53it/s]\n",
      "Training (4463 / 30000 Steps) (loss=1.11784): 100%|██████████| 24/24 [00:15<00:00,  1.51it/s]\n",
      "Training (4487 / 30000 Steps) (loss=1.08745): 100%|██████████| 24/24 [00:15<00:00,  1.54it/s]\n",
      "Validate (4488 / 10 Steps): 100%|██████████| 6/6 [00:12<00:00,  2.16s/it]09<00:07,  1.70it/s]\n",
      "Training (4500 / 30000 Steps) (loss=1.00958):  54%|█████▍    | 13/24 [00:22<00:52,  4.80s/it]"
     ]
    },
    {
     "name": "stdout",
     "output_type": "stream",
     "text": [
      "Model Was Saved ! Current Best Avg. Dice: 0.29326629638671875 Current Avg. Dice: 0.29326629638671875\n"
     ]
    },
    {
     "name": "stderr",
     "output_type": "stream",
     "text": [
      "Training (4511 / 30000 Steps) (loss=1.03686): 100%|██████████| 24/24 [00:29<00:00,  1.23s/it]\n",
      "Training (4535 / 30000 Steps) (loss=1.07835): 100%|██████████| 24/24 [00:15<00:00,  1.54it/s]\n",
      "Training (4559 / 30000 Steps) (loss=1.06951): 100%|██████████| 24/24 [00:15<00:00,  1.52it/s]\n",
      "Training (4583 / 30000 Steps) (loss=1.15341): 100%|██████████| 24/24 [00:16<00:00,  1.50it/s]\n",
      "Training (4607 / 30000 Steps) (loss=1.87614): 100%|██████████| 24/24 [00:15<00:00,  1.51it/s]\n",
      "Training (4631 / 30000 Steps) (loss=1.30906): 100%|██████████| 24/24 [00:15<00:00,  1.51it/s]\n",
      "Training (4655 / 30000 Steps) (loss=1.29101): 100%|██████████| 24/24 [00:16<00:00,  1.50it/s]\n",
      "Training (4679 / 30000 Steps) (loss=1.13674): 100%|██████████| 24/24 [00:15<00:00,  1.53it/s]\n",
      "Training (4703 / 30000 Steps) (loss=1.11748): 100%|██████████| 24/24 [00:15<00:00,  1.51it/s]\n",
      "Training (4727 / 30000 Steps) (loss=1.02872): 100%|██████████| 24/24 [00:15<00:00,  1.53it/s]\n",
      "Training (4751 / 30000 Steps) (loss=1.73965): 100%|██████████| 24/24 [00:15<00:00,  1.53it/s]\n",
      "Training (4775 / 30000 Steps) (loss=1.05857): 100%|██████████| 24/24 [00:15<00:00,  1.53it/s]\n",
      "Training (4799 / 30000 Steps) (loss=1.22311): 100%|██████████| 24/24 [00:15<00:00,  1.55it/s]\n",
      "Training (4823 / 30000 Steps) (loss=1.33002): 100%|██████████| 24/24 [00:16<00:00,  1.50it/s]\n",
      "Training (4847 / 30000 Steps) (loss=1.14498): 100%|██████████| 24/24 [00:15<00:00,  1.54it/s]\n",
      "Training (4871 / 30000 Steps) (loss=1.13018): 100%|██████████| 24/24 [00:15<00:00,  1.54it/s]\n",
      "Training (4895 / 30000 Steps) (loss=1.08085): 100%|██████████| 24/24 [00:15<00:00,  1.51it/s]\n",
      "Training (4919 / 30000 Steps) (loss=1.04434): 100%|██████████| 24/24 [00:15<00:00,  1.54it/s]\n",
      "Training (4943 / 30000 Steps) (loss=1.06426): 100%|██████████| 24/24 [00:15<00:00,  1.50it/s]\n",
      "Training (4967 / 30000 Steps) (loss=1.04197): 100%|██████████| 24/24 [00:15<00:00,  1.52it/s]\n",
      "Training (4991 / 30000 Steps) (loss=1.30140): 100%|██████████| 24/24 [00:15<00:00,  1.55it/s]\n",
      "Validate (4992 / 10 Steps): 100%|██████████| 6/6 [00:13<00:00,  2.17s/it]6<00:10,  1.59it/s]\n",
      "Training (5000 / 30000 Steps) (loss=1.10102):  38%|███▊      | 9/24 [00:20<01:14,  4.97s/it]"
     ]
    },
    {
     "name": "stdout",
     "output_type": "stream",
     "text": [
      "Model Was Saved ! Current Best Avg. Dice: 0.3228659927845001 Current Avg. Dice: 0.3228659927845001\n"
     ]
    },
    {
     "name": "stderr",
     "output_type": "stream",
     "text": [
      "Training (5015 / 30000 Steps) (loss=1.10861): 100%|██████████| 24/24 [00:29<00:00,  1.24s/it]\n",
      "Training (5039 / 30000 Steps) (loss=1.11797): 100%|██████████| 24/24 [00:15<00:00,  1.55it/s]\n",
      "Training (5063 / 30000 Steps) (loss=0.97402): 100%|██████████| 24/24 [00:15<00:00,  1.55it/s]\n",
      "Training (5087 / 30000 Steps) (loss=0.99946): 100%|██████████| 24/24 [00:15<00:00,  1.51it/s]\n",
      "Training (5111 / 30000 Steps) (loss=1.07705): 100%|██████████| 24/24 [00:15<00:00,  1.51it/s]\n",
      "Training (5135 / 30000 Steps) (loss=1.05603): 100%|██████████| 24/24 [00:15<00:00,  1.52it/s]\n",
      "Training (5159 / 30000 Steps) (loss=0.99798): 100%|██████████| 24/24 [00:15<00:00,  1.57it/s]\n",
      "Training (5183 / 30000 Steps) (loss=1.13195): 100%|██████████| 24/24 [00:15<00:00,  1.54it/s]\n",
      "Training (5207 / 30000 Steps) (loss=1.01729): 100%|██████████| 24/24 [00:15<00:00,  1.51it/s]\n",
      "Training (5231 / 30000 Steps) (loss=1.07754): 100%|██████████| 24/24 [00:15<00:00,  1.52it/s]\n",
      "Training (5255 / 30000 Steps) (loss=1.29461): 100%|██████████| 24/24 [00:15<00:00,  1.51it/s]\n",
      "Training (5279 / 30000 Steps) (loss=1.13731): 100%|██████████| 24/24 [00:15<00:00,  1.51it/s]\n",
      "Training (5303 / 30000 Steps) (loss=1.13285): 100%|██████████| 24/24 [00:15<00:00,  1.54it/s]\n",
      "Training (5327 / 30000 Steps) (loss=1.04529): 100%|██████████| 24/24 [00:15<00:00,  1.52it/s]\n",
      "Training (5351 / 30000 Steps) (loss=1.01529): 100%|██████████| 24/24 [00:15<00:00,  1.56it/s]\n",
      "Training (5375 / 30000 Steps) (loss=1.01176): 100%|██████████| 24/24 [00:15<00:00,  1.56it/s]\n",
      "Training (5399 / 30000 Steps) (loss=0.99203): 100%|██████████| 24/24 [00:15<00:00,  1.50it/s]\n",
      "Training (5423 / 30000 Steps) (loss=1.06195): 100%|██████████| 24/24 [00:15<00:00,  1.51it/s]\n",
      "Training (5447 / 30000 Steps) (loss=1.07777): 100%|██████████| 24/24 [00:15<00:00,  1.53it/s]\n",
      "Training (5471 / 30000 Steps) (loss=1.00893): 100%|██████████| 24/24 [00:15<00:00,  1.55it/s]\n",
      "Training (5495 / 30000 Steps) (loss=1.00609): 100%|██████████| 24/24 [00:15<00:00,  1.52it/s]\n",
      "Validate (5496 / 10 Steps): 100%|██████████| 6/6 [00:13<00:00,  2.18s/it]4<00:16,  1.25it/s]\n",
      "Training (5500 / 30000 Steps) (loss=1.08591):  21%|██        | 5/24 [00:18<01:50,  5.80s/it]"
     ]
    },
    {
     "name": "stdout",
     "output_type": "stream",
     "text": [
      "Model Was Saved ! Current Best Avg. Dice: 0.3464120328426361 Current Avg. Dice: 0.3464120328426361\n"
     ]
    },
    {
     "name": "stderr",
     "output_type": "stream",
     "text": [
      "Training (5519 / 30000 Steps) (loss=1.03176): 100%|██████████| 24/24 [00:29<00:00,  1.25s/it]\n",
      "Training (5543 / 30000 Steps) (loss=0.95864): 100%|██████████| 24/24 [00:16<00:00,  1.50it/s]\n",
      "Training (5567 / 30000 Steps) (loss=1.16177): 100%|██████████| 24/24 [00:15<00:00,  1.53it/s]\n",
      "Training (5591 / 30000 Steps) (loss=0.97777): 100%|██████████| 24/24 [00:15<00:00,  1.52it/s]\n",
      "Training (5615 / 30000 Steps) (loss=1.04151): 100%|██████████| 24/24 [00:15<00:00,  1.52it/s]\n",
      "Training (5639 / 30000 Steps) (loss=1.00344): 100%|██████████| 24/24 [00:15<00:00,  1.55it/s]\n",
      "Training (5663 / 30000 Steps) (loss=0.97341): 100%|██████████| 24/24 [00:15<00:00,  1.54it/s]\n",
      "Training (5687 / 30000 Steps) (loss=0.97833): 100%|██████████| 24/24 [00:15<00:00,  1.52it/s]\n",
      "Training (5711 / 30000 Steps) (loss=1.10639): 100%|██████████| 24/24 [00:15<00:00,  1.53it/s]\n",
      "Training (5735 / 30000 Steps) (loss=1.07950): 100%|██████████| 24/24 [00:16<00:00,  1.50it/s]\n",
      "Training (5759 / 30000 Steps) (loss=0.98503): 100%|██████████| 24/24 [00:15<00:00,  1.53it/s]\n",
      "Training (5783 / 30000 Steps) (loss=1.19647): 100%|██████████| 24/24 [00:15<00:00,  1.56it/s]\n",
      "Training (5807 / 30000 Steps) (loss=1.07332): 100%|██████████| 24/24 [00:15<00:00,  1.50it/s]\n",
      "Training (5831 / 30000 Steps) (loss=1.02394): 100%|██████████| 24/24 [00:15<00:00,  1.56it/s]\n",
      "Training (5855 / 30000 Steps) (loss=1.04521): 100%|██████████| 24/24 [00:15<00:00,  1.51it/s]\n",
      "Training (5879 / 30000 Steps) (loss=0.97946): 100%|██████████| 24/24 [00:15<00:00,  1.51it/s]\n",
      "Training (5903 / 30000 Steps) (loss=1.05988): 100%|██████████| 24/24 [00:16<00:00,  1.50it/s]\n",
      "Training (5927 / 30000 Steps) (loss=1.08223): 100%|██████████| 24/24 [00:15<00:00,  1.53it/s]\n",
      "Training (5951 / 30000 Steps) (loss=1.10327): 100%|██████████| 24/24 [00:15<00:00,  1.51it/s]\n",
      "Training (5975 / 30000 Steps) (loss=1.29213): 100%|██████████| 24/24 [00:15<00:00,  1.55it/s]\n",
      "Training (5999 / 30000 Steps) (loss=0.97100): 100%|██████████| 24/24 [00:15<00:00,  1.50it/s]\n",
      "Validate (6000 / 10 Steps): 100%|██████████| 6/6 [00:13<00:00,  2.31s/it]2<?, ?it/s]\n",
      "Training (6000 / 30000 Steps) (loss=1.10788):   4%|▍         | 1/24 [00:17<06:32, 17.06s/it]"
     ]
    },
    {
     "name": "stdout",
     "output_type": "stream",
     "text": [
      "Model Was Saved ! Current Best Avg. Dice: 0.39188602566719055 Current Avg. Dice: 0.39188602566719055\n"
     ]
    },
    {
     "name": "stderr",
     "output_type": "stream",
     "text": [
      "Training (6023 / 30000 Steps) (loss=1.10348): 100%|██████████| 24/24 [00:30<00:00,  1.28s/it]\n",
      "Training (6047 / 30000 Steps) (loss=1.05381): 100%|██████████| 24/24 [00:16<00:00,  1.50it/s]\n",
      "Training (6071 / 30000 Steps) (loss=1.12576): 100%|██████████| 24/24 [00:15<00:00,  1.51it/s]\n",
      "Training (6095 / 30000 Steps) (loss=0.99880): 100%|██████████| 24/24 [00:16<00:00,  1.48it/s]\n",
      "Training (6119 / 30000 Steps) (loss=1.14587): 100%|██████████| 24/24 [00:15<00:00,  1.53it/s]\n",
      "Training (6143 / 30000 Steps) (loss=0.91771): 100%|██████████| 24/24 [00:15<00:00,  1.52it/s]\n",
      "Training (6167 / 30000 Steps) (loss=1.03977): 100%|██████████| 24/24 [00:15<00:00,  1.50it/s]\n",
      "Training (6191 / 30000 Steps) (loss=0.99522): 100%|██████████| 24/24 [00:15<00:00,  1.54it/s]\n",
      "Training (6215 / 30000 Steps) (loss=0.96810): 100%|██████████| 24/24 [00:15<00:00,  1.55it/s]\n",
      "Training (6239 / 30000 Steps) (loss=0.99566): 100%|██████████| 24/24 [00:15<00:00,  1.56it/s]\n",
      "Training (6263 / 30000 Steps) (loss=0.97738): 100%|██████████| 24/24 [00:15<00:00,  1.51it/s]\n",
      "Training (6287 / 30000 Steps) (loss=1.09253): 100%|██████████| 24/24 [00:15<00:00,  1.54it/s]\n",
      "Training (6311 / 30000 Steps) (loss=0.97110): 100%|██████████| 24/24 [00:16<00:00,  1.49it/s]\n",
      "Training (6335 / 30000 Steps) (loss=0.96947): 100%|██████████| 24/24 [00:15<00:00,  1.52it/s]\n",
      "Training (6359 / 30000 Steps) (loss=0.99420): 100%|██████████| 24/24 [00:15<00:00,  1.52it/s]\n",
      "Training (6383 / 30000 Steps) (loss=1.05138): 100%|██████████| 24/24 [00:15<00:00,  1.53it/s]\n",
      "Training (6407 / 30000 Steps) (loss=1.05483): 100%|██████████| 24/24 [00:15<00:00,  1.52it/s]\n",
      "Training (6431 / 30000 Steps) (loss=1.16348): 100%|██████████| 24/24 [00:15<00:00,  1.50it/s]\n",
      "Training (6455 / 30000 Steps) (loss=1.11777): 100%|██████████| 24/24 [00:15<00:00,  1.50it/s]\n",
      "Training (6479 / 30000 Steps) (loss=1.14065): 100%|██████████| 24/24 [00:15<00:00,  1.57it/s]\n",
      "Validate (6480 / 10 Steps): 100%|██████████| 6/6 [00:13<00:00,  2.19s/it]13<00:02,  1.70it/s]\n",
      "Training (6500 / 30000 Steps) (loss=1.08370):  88%|████████▊ | 21/24 [00:27<00:14,  4.82s/it]"
     ]
    },
    {
     "name": "stdout",
     "output_type": "stream",
     "text": [
      "Model Was Saved ! Current Best Avg. Dice: 0.40322017669677734 Current Avg. Dice: 0.40322017669677734\n"
     ]
    },
    {
     "name": "stderr",
     "output_type": "stream",
     "text": [
      "Training (6503 / 30000 Steps) (loss=0.96587): 100%|██████████| 24/24 [00:29<00:00,  1.24s/it]\n",
      "Training (6527 / 30000 Steps) (loss=1.09331): 100%|██████████| 24/24 [00:15<00:00,  1.55it/s]\n",
      "Training (6551 / 30000 Steps) (loss=0.97071): 100%|██████████| 24/24 [00:15<00:00,  1.54it/s]\n",
      "Training (6575 / 30000 Steps) (loss=1.02525): 100%|██████████| 24/24 [00:15<00:00,  1.51it/s]\n",
      "Training (6599 / 30000 Steps) (loss=1.06361): 100%|██████████| 24/24 [00:15<00:00,  1.50it/s]\n",
      "Training (6623 / 30000 Steps) (loss=0.93068): 100%|██████████| 24/24 [00:15<00:00,  1.55it/s]\n",
      "Training (6647 / 30000 Steps) (loss=1.12187): 100%|██████████| 24/24 [00:15<00:00,  1.55it/s]\n",
      "Training (6671 / 30000 Steps) (loss=0.94180): 100%|██████████| 24/24 [00:15<00:00,  1.54it/s]\n",
      "Training (6695 / 30000 Steps) (loss=0.97413): 100%|██████████| 24/24 [00:15<00:00,  1.55it/s]\n",
      "Training (6719 / 30000 Steps) (loss=0.94015): 100%|██████████| 24/24 [00:15<00:00,  1.54it/s]\n",
      "Training (6743 / 30000 Steps) (loss=1.01174): 100%|██████████| 24/24 [00:15<00:00,  1.52it/s]\n",
      "Training (6767 / 30000 Steps) (loss=1.51812): 100%|██████████| 24/24 [00:15<00:00,  1.54it/s]\n",
      "Training (6791 / 30000 Steps) (loss=1.00488): 100%|██████████| 24/24 [00:15<00:00,  1.51it/s]\n",
      "Training (6815 / 30000 Steps) (loss=0.91241): 100%|██████████| 24/24 [00:15<00:00,  1.52it/s]\n",
      "Training (6839 / 30000 Steps) (loss=1.19613): 100%|██████████| 24/24 [00:15<00:00,  1.51it/s]\n",
      "Training (6863 / 30000 Steps) (loss=1.15135): 100%|██████████| 24/24 [00:16<00:00,  1.49it/s]\n",
      "Training (6887 / 30000 Steps) (loss=1.08560): 100%|██████████| 24/24 [00:15<00:00,  1.51it/s]\n",
      "Training (6911 / 30000 Steps) (loss=1.12807): 100%|██████████| 24/24 [00:15<00:00,  1.53it/s]\n",
      "Training (6935 / 30000 Steps) (loss=0.93556): 100%|██████████| 24/24 [00:15<00:00,  1.54it/s]\n",
      "Training (6959 / 30000 Steps) (loss=1.04948): 100%|██████████| 24/24 [00:15<00:00,  1.55it/s]\n",
      "Training (6983 / 30000 Steps) (loss=0.92268): 100%|██████████| 24/24 [00:15<00:00,  1.51it/s]\n",
      "Validate (6984 / 10 Steps): 100%|██████████| 6/6 [00:13<00:00,  2.17s/it]11<00:04,  1.70it/s]\n",
      "Training (7000 / 30000 Steps) (loss=0.93648):  71%|███████   | 17/24 [00:24<00:31,  4.51s/it]"
     ]
    },
    {
     "name": "stdout",
     "output_type": "stream",
     "text": [
      "Model Was Not Saved ! Current Best Avg. Dice: 0.40322017669677734 Current Avg. Dice: 0.39734911918640137\n"
     ]
    },
    {
     "name": "stderr",
     "output_type": "stream",
     "text": [
      "Training (7007 / 30000 Steps) (loss=0.97114): 100%|██████████| 24/24 [00:28<00:00,  1.20s/it]\n",
      "Training (7031 / 30000 Steps) (loss=0.95767): 100%|██████████| 24/24 [00:15<00:00,  1.52it/s]\n",
      "Training (7055 / 30000 Steps) (loss=1.03341): 100%|██████████| 24/24 [00:15<00:00,  1.52it/s]\n",
      "Training (7079 / 30000 Steps) (loss=0.99105): 100%|██████████| 24/24 [00:15<00:00,  1.56it/s]\n",
      "Training (7103 / 30000 Steps) (loss=1.18650): 100%|██████████| 24/24 [00:15<00:00,  1.54it/s]\n",
      "Training (7127 / 30000 Steps) (loss=0.98944): 100%|██████████| 24/24 [00:15<00:00,  1.53it/s]\n",
      "Training (7151 / 30000 Steps) (loss=1.01704): 100%|██████████| 24/24 [00:15<00:00,  1.52it/s]\n",
      "Training (7175 / 30000 Steps) (loss=0.99913): 100%|██████████| 24/24 [00:15<00:00,  1.55it/s]\n",
      "Training (7199 / 30000 Steps) (loss=0.94688): 100%|██████████| 24/24 [00:15<00:00,  1.56it/s]\n",
      "Training (7223 / 30000 Steps) (loss=0.96917): 100%|██████████| 24/24 [00:15<00:00,  1.52it/s]\n",
      "Training (7247 / 30000 Steps) (loss=1.12708): 100%|██████████| 24/24 [00:15<00:00,  1.54it/s]\n",
      "Training (7271 / 30000 Steps) (loss=1.03233): 100%|██████████| 24/24 [00:15<00:00,  1.53it/s]\n",
      "Training (7295 / 30000 Steps) (loss=0.90474): 100%|██████████| 24/24 [00:16<00:00,  1.49it/s]\n",
      "Training (7319 / 30000 Steps) (loss=0.94046): 100%|██████████| 24/24 [00:15<00:00,  1.50it/s]\n",
      "Training (7343 / 30000 Steps) (loss=1.05013): 100%|██████████| 24/24 [00:15<00:00,  1.54it/s]\n",
      "Training (7367 / 30000 Steps) (loss=0.92544): 100%|██████████| 24/24 [00:15<00:00,  1.55it/s]\n",
      "Training (7391 / 30000 Steps) (loss=1.04778): 100%|██████████| 24/24 [00:15<00:00,  1.56it/s]\n",
      "Training (7415 / 30000 Steps) (loss=1.00175): 100%|██████████| 24/24 [00:15<00:00,  1.51it/s]\n",
      "Training (7439 / 30000 Steps) (loss=0.98009): 100%|██████████| 24/24 [00:15<00:00,  1.57it/s]\n",
      "Training (7463 / 30000 Steps) (loss=1.07370): 100%|██████████| 24/24 [00:15<00:00,  1.54it/s]\n",
      "Training (7487 / 30000 Steps) (loss=0.99956): 100%|██████████| 24/24 [00:15<00:00,  1.52it/s]\n",
      "Validate (7488 / 10 Steps): 100%|██████████| 6/6 [00:13<00:00,  2.18s/it]08<00:07,  1.68it/s]\n",
      "Training (7500 / 30000 Steps) (loss=1.02868):  54%|█████▍    | 13/24 [00:22<00:50,  4.55s/it]"
     ]
    },
    {
     "name": "stdout",
     "output_type": "stream",
     "text": [
      "Model Was Not Saved ! Current Best Avg. Dice: 0.40322017669677734 Current Avg. Dice: 0.4027663767337799\n"
     ]
    },
    {
     "name": "stderr",
     "output_type": "stream",
     "text": [
      "Training (7511 / 30000 Steps) (loss=0.93364): 100%|██████████| 24/24 [00:28<00:00,  1.19s/it]\n",
      "Training (7535 / 30000 Steps) (loss=1.11026): 100%|██████████| 24/24 [00:15<00:00,  1.55it/s]\n",
      "Training (7559 / 30000 Steps) (loss=0.92375): 100%|██████████| 24/24 [00:15<00:00,  1.54it/s]\n",
      "Training (7583 / 30000 Steps) (loss=0.97503): 100%|██████████| 24/24 [00:15<00:00,  1.52it/s]\n",
      "Training (7607 / 30000 Steps) (loss=0.93471): 100%|██████████| 24/24 [00:15<00:00,  1.53it/s]\n",
      "Training (7631 / 30000 Steps) (loss=1.02836): 100%|██████████| 24/24 [00:15<00:00,  1.53it/s]\n",
      "Training (7655 / 30000 Steps) (loss=1.02820): 100%|██████████| 24/24 [00:15<00:00,  1.51it/s]\n",
      "Training (7679 / 30000 Steps) (loss=1.04677): 100%|██████████| 24/24 [00:15<00:00,  1.54it/s]\n",
      "Training (7703 / 30000 Steps) (loss=0.89408): 100%|██████████| 24/24 [00:15<00:00,  1.51it/s]\n",
      "Training (7727 / 30000 Steps) (loss=1.07045): 100%|██████████| 24/24 [00:15<00:00,  1.57it/s]\n",
      "Training (7751 / 30000 Steps) (loss=1.13651): 100%|██████████| 24/24 [00:15<00:00,  1.51it/s]\n",
      "Training (7775 / 30000 Steps) (loss=0.94589): 100%|██████████| 24/24 [00:15<00:00,  1.54it/s]\n",
      "Training (7799 / 30000 Steps) (loss=0.93996): 100%|██████████| 24/24 [00:15<00:00,  1.55it/s]\n",
      "Training (7823 / 30000 Steps) (loss=0.94023): 100%|██████████| 24/24 [00:15<00:00,  1.51it/s]\n",
      "Training (7847 / 30000 Steps) (loss=1.06463): 100%|██████████| 24/24 [00:15<00:00,  1.54it/s]\n",
      "Training (7871 / 30000 Steps) (loss=0.94865): 100%|██████████| 24/24 [00:15<00:00,  1.57it/s]\n",
      "Training (7895 / 30000 Steps) (loss=0.98632): 100%|██████████| 24/24 [00:15<00:00,  1.54it/s]\n",
      "Training (7919 / 30000 Steps) (loss=0.85855): 100%|██████████| 24/24 [00:15<00:00,  1.54it/s]\n",
      "Training (7943 / 30000 Steps) (loss=0.97890): 100%|██████████| 24/24 [00:15<00:00,  1.56it/s]\n",
      "Training (7967 / 30000 Steps) (loss=0.94829): 100%|██████████| 24/24 [00:15<00:00,  1.55it/s]\n",
      "Training (7991 / 30000 Steps) (loss=1.21209): 100%|██████████| 24/24 [00:15<00:00,  1.55it/s]\n",
      "Validate (7992 / 10 Steps): 100%|██████████| 6/6 [00:13<00:00,  2.17s/it]6<00:09,  1.60it/s]\n",
      "Training (8000 / 30000 Steps) (loss=1.06481):  38%|███▊      | 9/24 [00:20<01:14,  4.99s/it]"
     ]
    },
    {
     "name": "stdout",
     "output_type": "stream",
     "text": [
      "Model Was Saved ! Current Best Avg. Dice: 0.4111802875995636 Current Avg. Dice: 0.4111802875995636\n"
     ]
    },
    {
     "name": "stderr",
     "output_type": "stream",
     "text": [
      "Training (8015 / 30000 Steps) (loss=0.88934): 100%|██████████| 24/24 [00:29<00:00,  1.24s/it]\n",
      "Training (8039 / 30000 Steps) (loss=0.93647): 100%|██████████| 24/24 [00:15<00:00,  1.51it/s]\n",
      "Training (8063 / 30000 Steps) (loss=1.11738): 100%|██████████| 24/24 [00:15<00:00,  1.53it/s]\n",
      "Training (8087 / 30000 Steps) (loss=0.93259): 100%|██████████| 24/24 [00:15<00:00,  1.53it/s]\n",
      "Training (8111 / 30000 Steps) (loss=1.18853): 100%|██████████| 24/24 [00:15<00:00,  1.54it/s]\n",
      "Training (8135 / 30000 Steps) (loss=0.96882): 100%|██████████| 24/24 [00:15<00:00,  1.52it/s]\n",
      "Training (8159 / 30000 Steps) (loss=0.90866): 100%|██████████| 24/24 [00:15<00:00,  1.54it/s]\n",
      "Training (8183 / 30000 Steps) (loss=1.02448): 100%|██████████| 24/24 [00:15<00:00,  1.55it/s]\n",
      "Training (8207 / 30000 Steps) (loss=0.93872): 100%|██████████| 24/24 [00:15<00:00,  1.53it/s]\n",
      "Training (8231 / 30000 Steps) (loss=0.90588): 100%|██████████| 24/24 [00:15<00:00,  1.51it/s]\n",
      "Training (8255 / 30000 Steps) (loss=1.01455): 100%|██████████| 24/24 [00:15<00:00,  1.52it/s]\n",
      "Training (8279 / 30000 Steps) (loss=0.87871): 100%|██████████| 24/24 [00:16<00:00,  1.44it/s]\n",
      "Training (8303 / 30000 Steps) (loss=0.96674): 100%|██████████| 24/24 [00:15<00:00,  1.51it/s]\n",
      "Training (8327 / 30000 Steps) (loss=0.88029): 100%|██████████| 24/24 [00:15<00:00,  1.53it/s]\n",
      "Training (8351 / 30000 Steps) (loss=1.02425): 100%|██████████| 24/24 [00:15<00:00,  1.50it/s]\n",
      "Training (8375 / 30000 Steps) (loss=0.95495): 100%|██████████| 24/24 [00:15<00:00,  1.51it/s]\n",
      "Training (8399 / 30000 Steps) (loss=0.93546): 100%|██████████| 24/24 [00:15<00:00,  1.55it/s]\n",
      "Training (8423 / 30000 Steps) (loss=0.96010): 100%|██████████| 24/24 [00:16<00:00,  1.48it/s]\n",
      "Training (8447 / 30000 Steps) (loss=1.08596): 100%|██████████| 24/24 [00:15<00:00,  1.51it/s]\n",
      "Training (8471 / 30000 Steps) (loss=0.98521): 100%|██████████| 24/24 [00:15<00:00,  1.53it/s]\n",
      "Training (8495 / 30000 Steps) (loss=0.89515): 100%|██████████| 24/24 [00:15<00:00,  1.52it/s]\n",
      "Validate (8496 / 10 Steps): 100%|██████████| 6/6 [00:13<00:00,  2.19s/it]4<00:15,  1.33it/s]\n",
      "Training (8500 / 30000 Steps) (loss=0.98196):  21%|██        | 5/24 [00:18<01:49,  5.77s/it]"
     ]
    },
    {
     "name": "stdout",
     "output_type": "stream",
     "text": [
      "Model Was Saved ! Current Best Avg. Dice: 0.42738547921180725 Current Avg. Dice: 0.42738547921180725\n"
     ]
    },
    {
     "name": "stderr",
     "output_type": "stream",
     "text": [
      "Training (8519 / 30000 Steps) (loss=0.92696): 100%|██████████| 24/24 [00:29<00:00,  1.23s/it]\n",
      "Training (8543 / 30000 Steps) (loss=0.89215): 100%|██████████| 24/24 [00:15<00:00,  1.52it/s]\n",
      "Training (8567 / 30000 Steps) (loss=1.03702): 100%|██████████| 24/24 [00:15<00:00,  1.53it/s]\n",
      "Training (8591 / 30000 Steps) (loss=0.88110): 100%|██████████| 24/24 [00:15<00:00,  1.51it/s]\n",
      "Training (8615 / 30000 Steps) (loss=0.89408): 100%|██████████| 24/24 [00:15<00:00,  1.54it/s]\n",
      "Training (8639 / 30000 Steps) (loss=0.89252): 100%|██████████| 24/24 [00:15<00:00,  1.51it/s]\n",
      "Training (8663 / 30000 Steps) (loss=0.89975): 100%|██████████| 24/24 [00:15<00:00,  1.51it/s]\n",
      "Training (8687 / 30000 Steps) (loss=0.88990): 100%|██████████| 24/24 [00:15<00:00,  1.54it/s]\n",
      "Training (8711 / 30000 Steps) (loss=0.95266): 100%|██████████| 24/24 [00:15<00:00,  1.57it/s]\n",
      "Training (8735 / 30000 Steps) (loss=0.89842): 100%|██████████| 24/24 [00:15<00:00,  1.52it/s]\n",
      "Training (8759 / 30000 Steps) (loss=0.89649): 100%|██████████| 24/24 [00:15<00:00,  1.52it/s]\n",
      "Training (8783 / 30000 Steps) (loss=0.97189): 100%|██████████| 24/24 [00:15<00:00,  1.52it/s]\n",
      "Training (8807 / 30000 Steps) (loss=0.98521): 100%|██████████| 24/24 [00:15<00:00,  1.53it/s]\n",
      "Training (8831 / 30000 Steps) (loss=0.91603): 100%|██████████| 24/24 [00:15<00:00,  1.55it/s]\n",
      "Training (8855 / 30000 Steps) (loss=1.01601): 100%|██████████| 24/24 [00:15<00:00,  1.51it/s]\n",
      "Training (8879 / 30000 Steps) (loss=0.90400): 100%|██████████| 24/24 [00:15<00:00,  1.56it/s]\n",
      "Training (8903 / 30000 Steps) (loss=0.86321): 100%|██████████| 24/24 [00:15<00:00,  1.54it/s]\n",
      "Training (8927 / 30000 Steps) (loss=0.94455): 100%|██████████| 24/24 [00:16<00:00,  1.49it/s]\n",
      "Training (8951 / 30000 Steps) (loss=0.97048): 100%|██████████| 24/24 [00:15<00:00,  1.51it/s]\n",
      "Training (8975 / 30000 Steps) (loss=1.17537): 100%|██████████| 24/24 [00:15<00:00,  1.55it/s]\n",
      "Training (8999 / 30000 Steps) (loss=0.92242): 100%|██████████| 24/24 [00:15<00:00,  1.54it/s]\n",
      "Validate (9000 / 10 Steps): 100%|██████████| 6/6 [00:13<00:00,  2.20s/it]1<?, ?it/s]\n",
      "Training (9000 / 30000 Steps) (loss=0.86139):   4%|▍         | 1/24 [00:15<06:05, 15.87s/it]"
     ]
    },
    {
     "name": "stdout",
     "output_type": "stream",
     "text": [
      "Model Was Saved ! Current Best Avg. Dice: 0.43000873923301697 Current Avg. Dice: 0.43000873923301697\n"
     ]
    },
    {
     "name": "stderr",
     "output_type": "stream",
     "text": [
      "Training (9023 / 30000 Steps) (loss=1.05187): 100%|██████████| 24/24 [00:29<00:00,  1.23s/it]\n",
      "Training (9047 / 30000 Steps) (loss=0.93136): 100%|██████████| 24/24 [00:15<00:00,  1.52it/s]\n",
      "Training (9071 / 30000 Steps) (loss=0.84697): 100%|██████████| 24/24 [00:15<00:00,  1.54it/s]\n",
      "Training (9095 / 30000 Steps) (loss=0.86615): 100%|██████████| 24/24 [00:15<00:00,  1.52it/s]\n",
      "Training (9119 / 30000 Steps) (loss=0.91900): 100%|██████████| 24/24 [00:15<00:00,  1.51it/s]\n",
      "Training (9143 / 30000 Steps) (loss=0.89052): 100%|██████████| 24/24 [00:15<00:00,  1.53it/s]\n",
      "Training (9167 / 30000 Steps) (loss=0.93575): 100%|██████████| 24/24 [00:15<00:00,  1.56it/s]\n",
      "Training (9191 / 30000 Steps) (loss=0.93045): 100%|██████████| 24/24 [00:16<00:00,  1.50it/s]\n",
      "Training (9215 / 30000 Steps) (loss=0.88887): 100%|██████████| 24/24 [00:16<00:00,  1.49it/s]\n",
      "Training (9239 / 30000 Steps) (loss=1.26328): 100%|██████████| 24/24 [00:15<00:00,  1.52it/s]\n",
      "Training (9263 / 30000 Steps) (loss=0.84698): 100%|██████████| 24/24 [00:15<00:00,  1.54it/s]\n",
      "Training (9287 / 30000 Steps) (loss=1.09988): 100%|██████████| 24/24 [00:15<00:00,  1.56it/s]\n",
      "Training (9311 / 30000 Steps) (loss=0.88858): 100%|██████████| 24/24 [00:15<00:00,  1.53it/s]\n",
      "Training (9335 / 30000 Steps) (loss=0.85187): 100%|██████████| 24/24 [00:15<00:00,  1.50it/s]\n",
      "Training (9359 / 30000 Steps) (loss=0.94510): 100%|██████████| 24/24 [00:15<00:00,  1.56it/s]\n",
      "Training (9383 / 30000 Steps) (loss=1.22670): 100%|██████████| 24/24 [00:15<00:00,  1.54it/s]\n",
      "Training (9407 / 30000 Steps) (loss=0.92019): 100%|██████████| 24/24 [00:15<00:00,  1.53it/s]\n",
      "Training (9431 / 30000 Steps) (loss=0.86571): 100%|██████████| 24/24 [00:15<00:00,  1.52it/s]\n",
      "Training (9455 / 30000 Steps) (loss=0.87783): 100%|██████████| 24/24 [00:15<00:00,  1.54it/s]\n",
      "Training (9479 / 30000 Steps) (loss=0.97438): 100%|██████████| 24/24 [00:15<00:00,  1.53it/s]\n",
      "Validate (9480 / 10 Steps): 100%|██████████| 6/6 [00:13<00:00,  2.18s/it]13<00:02,  1.69it/s]\n",
      "Training (9500 / 30000 Steps) (loss=0.92708):  88%|████████▊ | 21/24 [00:27<00:14,  4.78s/it]"
     ]
    },
    {
     "name": "stdout",
     "output_type": "stream",
     "text": [
      "Model Was Saved ! Current Best Avg. Dice: 0.48594895005226135 Current Avg. Dice: 0.48594895005226135\n"
     ]
    },
    {
     "name": "stderr",
     "output_type": "stream",
     "text": [
      "Training (9503 / 30000 Steps) (loss=0.86503): 100%|██████████| 24/24 [00:29<00:00,  1.24s/it]\n",
      "Training (9527 / 30000 Steps) (loss=0.83116): 100%|██████████| 24/24 [00:15<00:00,  1.54it/s]\n",
      "Training (9551 / 30000 Steps) (loss=0.82594): 100%|██████████| 24/24 [00:15<00:00,  1.56it/s]\n",
      "Training (9575 / 30000 Steps) (loss=0.83983): 100%|██████████| 24/24 [00:16<00:00,  1.49it/s]\n",
      "Training (9599 / 30000 Steps) (loss=0.92772): 100%|██████████| 24/24 [00:15<00:00,  1.53it/s]\n",
      "Training (9623 / 30000 Steps) (loss=0.96919): 100%|██████████| 24/24 [00:15<00:00,  1.53it/s]\n",
      "Training (9647 / 30000 Steps) (loss=0.75243): 100%|██████████| 24/24 [00:15<00:00,  1.56it/s]\n",
      "Training (9671 / 30000 Steps) (loss=0.90327): 100%|██████████| 24/24 [00:15<00:00,  1.51it/s]\n",
      "Training (9695 / 30000 Steps) (loss=0.85193): 100%|██████████| 24/24 [00:15<00:00,  1.55it/s]\n",
      "Training (9719 / 30000 Steps) (loss=0.86147): 100%|██████████| 24/24 [00:16<00:00,  1.49it/s]\n",
      "Training (9743 / 30000 Steps) (loss=0.84487): 100%|██████████| 24/24 [00:15<00:00,  1.53it/s]\n",
      "Training (9767 / 30000 Steps) (loss=0.92360): 100%|██████████| 24/24 [00:15<00:00,  1.56it/s]\n",
      "Training (9791 / 30000 Steps) (loss=0.82506): 100%|██████████| 24/24 [00:16<00:00,  1.50it/s]\n",
      "Training (9815 / 30000 Steps) (loss=0.82428): 100%|██████████| 24/24 [00:15<00:00,  1.55it/s]\n",
      "Training (9839 / 30000 Steps) (loss=0.92562): 100%|██████████| 24/24 [00:15<00:00,  1.52it/s]\n",
      "Training (9863 / 30000 Steps) (loss=0.85647): 100%|██████████| 24/24 [00:16<00:00,  1.50it/s]\n",
      "Training (9887 / 30000 Steps) (loss=0.83893): 100%|██████████| 24/24 [00:15<00:00,  1.54it/s]\n",
      "Training (9911 / 30000 Steps) (loss=1.16028): 100%|██████████| 24/24 [00:15<00:00,  1.55it/s]\n",
      "Training (9935 / 30000 Steps) (loss=0.90177): 100%|██████████| 24/24 [00:16<00:00,  1.50it/s]\n",
      "Training (9959 / 30000 Steps) (loss=0.81926): 100%|██████████| 24/24 [00:15<00:00,  1.52it/s]\n",
      "Training (9983 / 30000 Steps) (loss=0.77615): 100%|██████████| 24/24 [00:15<00:00,  1.53it/s]\n",
      "Validate (9984 / 10 Steps): 100%|██████████| 6/6 [00:13<00:00,  2.18s/it]:11<00:04,  1.70it/s]\n",
      "Training (10000 / 30000 Steps) (loss=0.88254):  71%|███████   | 17/24 [00:25<00:33,  4.82s/it]"
     ]
    },
    {
     "name": "stdout",
     "output_type": "stream",
     "text": [
      "Model Was Saved ! Current Best Avg. Dice: 0.5635433793067932 Current Avg. Dice: 0.5635433793067932\n"
     ]
    },
    {
     "name": "stderr",
     "output_type": "stream",
     "text": [
      "Training (10007 / 30000 Steps) (loss=0.90659): 100%|██████████| 24/24 [00:29<00:00,  1.23s/it]\n",
      "Training (10031 / 30000 Steps) (loss=0.90069): 100%|██████████| 24/24 [00:15<00:00,  1.51it/s]\n",
      "Training (10055 / 30000 Steps) (loss=0.82312): 100%|██████████| 24/24 [00:15<00:00,  1.55it/s]\n",
      "Training (10079 / 30000 Steps) (loss=0.85684): 100%|██████████| 24/24 [00:15<00:00,  1.52it/s]\n",
      "Training (10103 / 30000 Steps) (loss=0.86210): 100%|██████████| 24/24 [00:15<00:00,  1.55it/s]\n",
      "Training (10127 / 30000 Steps) (loss=0.93078): 100%|██████████| 24/24 [00:15<00:00,  1.51it/s]\n",
      "Training (10151 / 30000 Steps) (loss=0.79042): 100%|██████████| 24/24 [00:15<00:00,  1.55it/s]\n",
      "Training (10175 / 30000 Steps) (loss=0.97052): 100%|██████████| 24/24 [00:15<00:00,  1.55it/s]\n",
      "Training (10199 / 30000 Steps) (loss=0.96388): 100%|██████████| 24/24 [00:15<00:00,  1.52it/s]\n",
      "Training (10223 / 30000 Steps) (loss=0.95385): 100%|██████████| 24/24 [00:15<00:00,  1.53it/s]\n",
      "Training (10247 / 30000 Steps) (loss=0.91831): 100%|██████████| 24/24 [00:16<00:00,  1.49it/s]\n",
      "Training (10271 / 30000 Steps) (loss=1.52472): 100%|██████████| 24/24 [00:15<00:00,  1.52it/s]\n",
      "Training (10295 / 30000 Steps) (loss=0.85438): 100%|██████████| 24/24 [00:15<00:00,  1.54it/s]\n",
      "Training (10319 / 30000 Steps) (loss=0.91506): 100%|██████████| 24/24 [00:15<00:00,  1.53it/s]\n",
      "Training (10343 / 30000 Steps) (loss=0.87254): 100%|██████████| 24/24 [00:15<00:00,  1.52it/s]\n",
      "Training (10367 / 30000 Steps) (loss=0.88828): 100%|██████████| 24/24 [00:15<00:00,  1.50it/s]\n",
      "Training (10391 / 30000 Steps) (loss=0.93643): 100%|██████████| 24/24 [00:16<00:00,  1.49it/s]\n",
      "Training (10415 / 30000 Steps) (loss=0.82410): 100%|██████████| 24/24 [00:15<00:00,  1.50it/s]\n",
      "Training (10439 / 30000 Steps) (loss=0.89443): 100%|██████████| 24/24 [00:15<00:00,  1.51it/s]\n",
      "Training (10463 / 30000 Steps) (loss=0.98910): 100%|██████████| 24/24 [00:16<00:00,  1.50it/s]\n",
      "Training (10487 / 30000 Steps) (loss=0.87590): 100%|██████████| 24/24 [00:15<00:00,  1.53it/s]\n",
      "Validate (10488 / 10 Steps): 100%|██████████| 6/6 [00:13<00:00,  2.19s/it]09<00:07,  1.68it/s]\n",
      "Training (10500 / 30000 Steps) (loss=0.83617):  54%|█████▍    | 13/24 [00:23<00:53,  4.84s/it]"
     ]
    },
    {
     "name": "stdout",
     "output_type": "stream",
     "text": [
      "Model Was Saved ! Current Best Avg. Dice: 0.6014114022254944 Current Avg. Dice: 0.6014114022254944\n"
     ]
    },
    {
     "name": "stderr",
     "output_type": "stream",
     "text": [
      "Training (10511 / 30000 Steps) (loss=0.89834): 100%|██████████| 24/24 [00:30<00:00,  1.25s/it]\n",
      "Training (10535 / 30000 Steps) (loss=0.81745): 100%|██████████| 24/24 [00:15<00:00,  1.55it/s]\n",
      "Training (10559 / 30000 Steps) (loss=0.79979): 100%|██████████| 24/24 [00:15<00:00,  1.50it/s]\n",
      "Training (10583 / 30000 Steps) (loss=0.93083): 100%|██████████| 24/24 [00:15<00:00,  1.52it/s]\n",
      "Training (10607 / 30000 Steps) (loss=0.81880): 100%|██████████| 24/24 [00:15<00:00,  1.54it/s]\n",
      "Training (10631 / 30000 Steps) (loss=0.92308): 100%|██████████| 24/24 [00:15<00:00,  1.55it/s]\n",
      "Training (10655 / 30000 Steps) (loss=1.02516): 100%|██████████| 24/24 [00:15<00:00,  1.52it/s]\n",
      "Training (10679 / 30000 Steps) (loss=0.77748): 100%|██████████| 24/24 [00:15<00:00,  1.51it/s]\n",
      "Training (10703 / 30000 Steps) (loss=0.89095): 100%|██████████| 24/24 [00:15<00:00,  1.51it/s]\n",
      "Training (10727 / 30000 Steps) (loss=0.87969): 100%|██████████| 24/24 [00:15<00:00,  1.53it/s]\n",
      "Training (10751 / 30000 Steps) (loss=0.82930): 100%|██████████| 24/24 [00:15<00:00,  1.52it/s]\n",
      "Training (10775 / 30000 Steps) (loss=0.99197): 100%|██████████| 24/24 [00:15<00:00,  1.55it/s]\n",
      "Training (10799 / 30000 Steps) (loss=0.79577): 100%|██████████| 24/24 [00:16<00:00,  1.50it/s]\n",
      "Training (10823 / 30000 Steps) (loss=0.79108): 100%|██████████| 24/24 [00:15<00:00,  1.53it/s]\n",
      "Training (10847 / 30000 Steps) (loss=0.79817): 100%|██████████| 24/24 [00:15<00:00,  1.51it/s]\n",
      "Training (10871 / 30000 Steps) (loss=0.88299): 100%|██████████| 24/24 [00:15<00:00,  1.50it/s]\n",
      "Training (10895 / 30000 Steps) (loss=0.79424): 100%|██████████| 24/24 [00:15<00:00,  1.52it/s]\n",
      "Training (10919 / 30000 Steps) (loss=0.87025): 100%|██████████| 24/24 [00:15<00:00,  1.55it/s]\n",
      "Training (10943 / 30000 Steps) (loss=0.86891): 100%|██████████| 24/24 [00:15<00:00,  1.51it/s]\n",
      "Training (10967 / 30000 Steps) (loss=0.97105): 100%|██████████| 24/24 [00:15<00:00,  1.54it/s]\n",
      "Training (10991 / 30000 Steps) (loss=0.90410): 100%|██████████| 24/24 [00:15<00:00,  1.52it/s]\n",
      "Validate (10992 / 10 Steps): 100%|██████████| 6/6 [00:13<00:00,  2.18s/it]6<00:09,  1.60it/s]\n",
      "Training (11000 / 30000 Steps) (loss=0.72689):  38%|███▊      | 9/24 [00:20<01:14,  4.96s/it]"
     ]
    },
    {
     "name": "stdout",
     "output_type": "stream",
     "text": [
      "Model Was Saved ! Current Best Avg. Dice: 0.6085138320922852 Current Avg. Dice: 0.6085138320922852\n"
     ]
    },
    {
     "name": "stderr",
     "output_type": "stream",
     "text": [
      "Training (11015 / 30000 Steps) (loss=0.83957): 100%|██████████| 24/24 [00:29<00:00,  1.24s/it]\n",
      "Training (11039 / 30000 Steps) (loss=0.95267): 100%|██████████| 24/24 [00:15<00:00,  1.52it/s]\n",
      "Training (11063 / 30000 Steps) (loss=0.93694): 100%|██████████| 24/24 [00:15<00:00,  1.52it/s]\n",
      "Training (11087 / 30000 Steps) (loss=0.85906): 100%|██████████| 24/24 [00:16<00:00,  1.50it/s]\n",
      "Training (11111 / 30000 Steps) (loss=0.79906): 100%|██████████| 24/24 [00:16<00:00,  1.49it/s]\n",
      "Training (11135 / 30000 Steps) (loss=0.91127): 100%|██████████| 24/24 [00:15<00:00,  1.54it/s]\n",
      "Training (11159 / 30000 Steps) (loss=0.90573): 100%|██████████| 24/24 [00:16<00:00,  1.50it/s]\n",
      "Training (11183 / 30000 Steps) (loss=0.90186): 100%|██████████| 24/24 [00:15<00:00,  1.52it/s]\n",
      "Training (11207 / 30000 Steps) (loss=0.92494): 100%|██████████| 24/24 [00:15<00:00,  1.53it/s]\n",
      "Training (11231 / 30000 Steps) (loss=0.80256): 100%|██████████| 24/24 [00:15<00:00,  1.53it/s]\n",
      "Training (11255 / 30000 Steps) (loss=0.89980): 100%|██████████| 24/24 [00:16<00:00,  1.49it/s]\n",
      "Training (11279 / 30000 Steps) (loss=0.95126): 100%|██████████| 24/24 [00:15<00:00,  1.53it/s]\n",
      "Training (11303 / 30000 Steps) (loss=0.76953): 100%|██████████| 24/24 [00:15<00:00,  1.54it/s]\n",
      "Training (11327 / 30000 Steps) (loss=0.88670): 100%|██████████| 24/24 [00:15<00:00,  1.53it/s]\n",
      "Training (11351 / 30000 Steps) (loss=0.99979): 100%|██████████| 24/24 [00:15<00:00,  1.51it/s]\n",
      "Training (11375 / 30000 Steps) (loss=0.86054): 100%|██████████| 24/24 [00:15<00:00,  1.53it/s]\n",
      "Training (11399 / 30000 Steps) (loss=0.80599): 100%|██████████| 24/24 [00:15<00:00,  1.54it/s]\n",
      "Training (11423 / 30000 Steps) (loss=1.03822): 100%|██████████| 24/24 [00:15<00:00,  1.52it/s]\n",
      "Training (11447 / 30000 Steps) (loss=0.85355): 100%|██████████| 24/24 [00:15<00:00,  1.50it/s]\n",
      "Training (11471 / 30000 Steps) (loss=0.89833): 100%|██████████| 24/24 [00:15<00:00,  1.50it/s]\n",
      "Training (11495 / 30000 Steps) (loss=0.87978): 100%|██████████| 24/24 [00:15<00:00,  1.53it/s]\n",
      "Validate (11496 / 10 Steps): 100%|██████████| 6/6 [00:13<00:00,  2.20s/it]4<00:15,  1.26it/s]\n",
      "Training (11500 / 30000 Steps) (loss=0.93632):  21%|██        | 5/24 [00:18<01:50,  5.81s/it]"
     ]
    },
    {
     "name": "stdout",
     "output_type": "stream",
     "text": [
      "Model Was Saved ! Current Best Avg. Dice: 0.6205546855926514 Current Avg. Dice: 0.6205546855926514\n"
     ]
    },
    {
     "name": "stderr",
     "output_type": "stream",
     "text": [
      "Training (11519 / 30000 Steps) (loss=0.78417): 100%|██████████| 24/24 [00:29<00:00,  1.24s/it]\n",
      "Training (11543 / 30000 Steps) (loss=0.83012): 100%|██████████| 24/24 [00:16<00:00,  1.49it/s]\n",
      "Training (11567 / 30000 Steps) (loss=0.75032): 100%|██████████| 24/24 [00:15<00:00,  1.52it/s]\n",
      "Training (11591 / 30000 Steps) (loss=0.77042): 100%|██████████| 24/24 [00:15<00:00,  1.54it/s]\n",
      "Training (11615 / 30000 Steps) (loss=0.85188): 100%|██████████| 24/24 [00:15<00:00,  1.51it/s]\n",
      "Training (11639 / 30000 Steps) (loss=0.77237): 100%|██████████| 24/24 [00:15<00:00,  1.51it/s]\n",
      "Training (11663 / 30000 Steps) (loss=0.85756): 100%|██████████| 24/24 [00:15<00:00,  1.53it/s]\n",
      "Training (11687 / 30000 Steps) (loss=0.80009): 100%|██████████| 24/24 [00:15<00:00,  1.50it/s]\n",
      "Training (11711 / 30000 Steps) (loss=0.72887): 100%|██████████| 24/24 [00:15<00:00,  1.55it/s]\n",
      "Training (11735 / 30000 Steps) (loss=0.96323): 100%|██████████| 24/24 [00:15<00:00,  1.56it/s]\n",
      "Training (11759 / 30000 Steps) (loss=0.90274): 100%|██████████| 24/24 [00:16<00:00,  1.50it/s]\n",
      "Training (11783 / 30000 Steps) (loss=0.76806): 100%|██████████| 24/24 [00:16<00:00,  1.50it/s]\n",
      "Training (11807 / 30000 Steps) (loss=0.84702): 100%|██████████| 24/24 [00:15<00:00,  1.55it/s]\n",
      "Training (11831 / 30000 Steps) (loss=0.82911): 100%|██████████| 24/24 [00:15<00:00,  1.51it/s]\n",
      "Training (11855 / 30000 Steps) (loss=0.66137): 100%|██████████| 24/24 [00:15<00:00,  1.50it/s]\n",
      "Training (11879 / 30000 Steps) (loss=0.86637): 100%|██████████| 24/24 [00:15<00:00,  1.51it/s]\n",
      "Training (11903 / 30000 Steps) (loss=0.86104): 100%|██████████| 24/24 [00:15<00:00,  1.53it/s]\n",
      "Training (11927 / 30000 Steps) (loss=0.77367): 100%|██████████| 24/24 [00:15<00:00,  1.51it/s]\n",
      "Training (11951 / 30000 Steps) (loss=0.67907): 100%|██████████| 24/24 [00:16<00:00,  1.46it/s]\n",
      "Training (11975 / 30000 Steps) (loss=0.87119): 100%|██████████| 24/24 [00:16<00:00,  1.50it/s]\n",
      "Training (11999 / 30000 Steps) (loss=0.97921): 100%|██████████| 24/24 [00:15<00:00,  1.54it/s]\n",
      "Validate (12000 / 10 Steps): 100%|██████████| 6/6 [00:12<00:00,  2.16s/it]2<?, ?it/s]\n",
      "Training (12000 / 30000 Steps) (loss=0.94353):   4%|▍         | 1/24 [00:16<06:18, 16.45s/it]"
     ]
    },
    {
     "name": "stdout",
     "output_type": "stream",
     "text": [
      "Model Was Saved ! Current Best Avg. Dice: 0.6524679660797119 Current Avg. Dice: 0.6524679660797119\n"
     ]
    },
    {
     "name": "stderr",
     "output_type": "stream",
     "text": [
      "Training (12023 / 30000 Steps) (loss=0.73133): 100%|██████████| 24/24 [00:30<00:00,  1.26s/it]\n",
      "Training (12047 / 30000 Steps) (loss=0.72907): 100%|██████████| 24/24 [00:15<00:00,  1.55it/s]\n",
      "Training (12071 / 30000 Steps) (loss=0.78523): 100%|██████████| 24/24 [00:15<00:00,  1.54it/s]\n",
      "Training (12095 / 30000 Steps) (loss=0.64387): 100%|██████████| 24/24 [00:15<00:00,  1.54it/s]\n",
      "Training (12119 / 30000 Steps) (loss=1.16838): 100%|██████████| 24/24 [00:15<00:00,  1.52it/s]\n",
      "Training (12143 / 30000 Steps) (loss=0.73356): 100%|██████████| 24/24 [00:15<00:00,  1.53it/s]\n",
      "Training (12167 / 30000 Steps) (loss=0.94325): 100%|██████████| 24/24 [00:15<00:00,  1.53it/s]\n",
      "Training (12191 / 30000 Steps) (loss=0.97551): 100%|██████████| 24/24 [00:15<00:00,  1.53it/s]\n",
      "Training (12215 / 30000 Steps) (loss=0.91039): 100%|██████████| 24/24 [00:15<00:00,  1.53it/s]\n",
      "Training (12239 / 30000 Steps) (loss=0.87527): 100%|██████████| 24/24 [00:15<00:00,  1.52it/s]\n",
      "Training (12263 / 30000 Steps) (loss=0.88144): 100%|██████████| 24/24 [00:15<00:00,  1.51it/s]\n",
      "Training (12287 / 30000 Steps) (loss=0.74261): 100%|██████████| 24/24 [00:15<00:00,  1.52it/s]\n",
      "Training (12311 / 30000 Steps) (loss=0.82558): 100%|██████████| 24/24 [00:15<00:00,  1.52it/s]\n",
      "Training (12335 / 30000 Steps) (loss=0.89801): 100%|██████████| 24/24 [00:16<00:00,  1.50it/s]\n",
      "Training (12359 / 30000 Steps) (loss=0.85545): 100%|██████████| 24/24 [00:15<00:00,  1.52it/s]\n",
      "Training (12383 / 30000 Steps) (loss=0.85261): 100%|██████████| 24/24 [00:15<00:00,  1.51it/s]\n",
      "Training (12407 / 30000 Steps) (loss=0.87726): 100%|██████████| 24/24 [00:15<00:00,  1.51it/s]\n",
      "Training (12431 / 30000 Steps) (loss=0.90125): 100%|██████████| 24/24 [00:16<00:00,  1.49it/s]\n",
      "Training (12455 / 30000 Steps) (loss=0.82982): 100%|██████████| 24/24 [00:15<00:00,  1.50it/s]\n",
      "Training (12479 / 30000 Steps) (loss=0.84461): 100%|██████████| 24/24 [00:15<00:00,  1.55it/s]\n",
      "Validate (12480 / 10 Steps): 100%|██████████| 6/6 [00:13<00:00,  2.19s/it]14<00:02,  1.71it/s]\n",
      "Training (12500 / 30000 Steps) (loss=0.68406):  88%|████████▊ | 21/24 [00:28<00:14,  4.82s/it]"
     ]
    },
    {
     "name": "stdout",
     "output_type": "stream",
     "text": [
      "Model Was Saved ! Current Best Avg. Dice: 0.6566911935806274 Current Avg. Dice: 0.6566911935806274\n"
     ]
    },
    {
     "name": "stderr",
     "output_type": "stream",
     "text": [
      "Training (12503 / 30000 Steps) (loss=0.70406): 100%|██████████| 24/24 [00:30<00:00,  1.26s/it]\n",
      "Training (12527 / 30000 Steps) (loss=0.69889): 100%|██████████| 24/24 [00:15<00:00,  1.52it/s]\n",
      "Training (12551 / 30000 Steps) (loss=0.68235): 100%|██████████| 24/24 [00:15<00:00,  1.52it/s]\n",
      "Training (12575 / 30000 Steps) (loss=0.88384): 100%|██████████| 24/24 [00:16<00:00,  1.49it/s]\n",
      "Training (12599 / 30000 Steps) (loss=0.86780): 100%|██████████| 24/24 [00:16<00:00,  1.49it/s]\n",
      "Training (12623 / 30000 Steps) (loss=0.90187): 100%|██████████| 24/24 [00:15<00:00,  1.54it/s]\n",
      "Training (12647 / 30000 Steps) (loss=0.93138): 100%|██████████| 24/24 [00:15<00:00,  1.55it/s]\n",
      "Training (12671 / 30000 Steps) (loss=0.65529): 100%|██████████| 24/24 [00:15<00:00,  1.54it/s]\n",
      "Training (12695 / 30000 Steps) (loss=0.71587): 100%|██████████| 24/24 [00:15<00:00,  1.53it/s]\n",
      "Training (12719 / 30000 Steps) (loss=0.73361): 100%|██████████| 24/24 [00:16<00:00,  1.50it/s]\n",
      "Training (12743 / 30000 Steps) (loss=0.90863): 100%|██████████| 24/24 [00:15<00:00,  1.52it/s]\n",
      "Training (12767 / 30000 Steps) (loss=0.81344): 100%|██████████| 24/24 [00:15<00:00,  1.50it/s]\n",
      "Training (12791 / 30000 Steps) (loss=0.79398): 100%|██████████| 24/24 [00:15<00:00,  1.54it/s]\n",
      "Training (12815 / 30000 Steps) (loss=1.03417): 100%|██████████| 24/24 [00:16<00:00,  1.49it/s]\n",
      "Training (12839 / 30000 Steps) (loss=0.99520): 100%|██████████| 24/24 [00:15<00:00,  1.51it/s]\n",
      "Training (12863 / 30000 Steps) (loss=0.87108): 100%|██████████| 24/24 [00:15<00:00,  1.54it/s]\n",
      "Training (12887 / 30000 Steps) (loss=0.79319): 100%|██████████| 24/24 [00:15<00:00,  1.55it/s]\n",
      "Training (12911 / 30000 Steps) (loss=0.70134): 100%|██████████| 24/24 [00:15<00:00,  1.53it/s]\n",
      "Training (12935 / 30000 Steps) (loss=0.70252): 100%|██████████| 24/24 [00:15<00:00,  1.52it/s]\n",
      "Training (12959 / 30000 Steps) (loss=0.90790): 100%|██████████| 24/24 [00:15<00:00,  1.52it/s]\n",
      "Training (12983 / 30000 Steps) (loss=0.75083): 100%|██████████| 24/24 [00:15<00:00,  1.54it/s]\n",
      "Validate (12984 / 10 Steps): 100%|██████████| 6/6 [00:13<00:00,  2.21s/it]11<00:04,  1.72it/s]\n",
      "Training (13000 / 30000 Steps) (loss=0.79417):  71%|███████   | 17/24 [00:25<00:34,  4.86s/it]"
     ]
    },
    {
     "name": "stdout",
     "output_type": "stream",
     "text": [
      "Model Was Saved ! Current Best Avg. Dice: 0.6675369739532471 Current Avg. Dice: 0.6675369739532471\n"
     ]
    },
    {
     "name": "stderr",
     "output_type": "stream",
     "text": [
      "Training (13007 / 30000 Steps) (loss=0.81248): 100%|██████████| 24/24 [00:29<00:00,  1.25s/it]\n",
      "Training (13031 / 30000 Steps) (loss=0.78824): 100%|██████████| 24/24 [00:15<00:00,  1.55it/s]\n",
      "Training (13055 / 30000 Steps) (loss=0.76325): 100%|██████████| 24/24 [00:16<00:00,  1.49it/s]\n",
      "Training (13079 / 30000 Steps) (loss=0.81469): 100%|██████████| 24/24 [00:15<00:00,  1.52it/s]\n",
      "Training (13103 / 30000 Steps) (loss=0.81020): 100%|██████████| 24/24 [00:16<00:00,  1.49it/s]\n",
      "Training (13127 / 30000 Steps) (loss=0.73046): 100%|██████████| 24/24 [00:16<00:00,  1.49it/s]\n",
      "Training (13151 / 30000 Steps) (loss=0.73941): 100%|██████████| 24/24 [00:15<00:00,  1.54it/s]\n",
      "Training (13175 / 30000 Steps) (loss=0.65216): 100%|██████████| 24/24 [00:15<00:00,  1.52it/s]\n",
      "Training (13199 / 30000 Steps) (loss=0.75042): 100%|██████████| 24/24 [00:15<00:00,  1.54it/s]\n",
      "Training (13223 / 30000 Steps) (loss=0.85218): 100%|██████████| 24/24 [00:15<00:00,  1.55it/s]\n",
      "Training (13247 / 30000 Steps) (loss=0.83635): 100%|██████████| 24/24 [00:15<00:00,  1.50it/s]\n",
      "Training (13271 / 30000 Steps) (loss=0.74546): 100%|██████████| 24/24 [00:16<00:00,  1.49it/s]\n",
      "Training (13295 / 30000 Steps) (loss=0.69369): 100%|██████████| 24/24 [00:15<00:00,  1.51it/s]\n",
      "Training (13319 / 30000 Steps) (loss=0.81420): 100%|██████████| 24/24 [00:15<00:00,  1.55it/s]\n",
      "Training (13343 / 30000 Steps) (loss=0.84017): 100%|██████████| 24/24 [00:16<00:00,  1.47it/s]\n",
      "Training (13367 / 30000 Steps) (loss=0.78465): 100%|██████████| 24/24 [00:15<00:00,  1.51it/s]\n",
      "Training (13391 / 30000 Steps) (loss=0.78038): 100%|██████████| 24/24 [00:16<00:00,  1.43it/s]\n",
      "Training (13415 / 30000 Steps) (loss=0.87776): 100%|██████████| 24/24 [00:16<00:00,  1.50it/s]\n",
      "Training (13439 / 30000 Steps) (loss=0.71589): 100%|██████████| 24/24 [00:16<00:00,  1.49it/s]\n",
      "Training (13463 / 30000 Steps) (loss=0.72502): 100%|██████████| 24/24 [00:15<00:00,  1.53it/s]\n",
      "Training (13487 / 30000 Steps) (loss=0.71882): 100%|██████████| 24/24 [00:15<00:00,  1.53it/s]\n",
      "Validate (13488 / 10 Steps): 100%|██████████| 6/6 [00:13<00:00,  2.19s/it]09<00:07,  1.68it/s]\n",
      "Training (13500 / 30000 Steps) (loss=0.75053):  54%|█████▍    | 13/24 [00:23<00:53,  4.86s/it]"
     ]
    },
    {
     "name": "stdout",
     "output_type": "stream",
     "text": [
      "Model Was Saved ! Current Best Avg. Dice: 0.6796724200248718 Current Avg. Dice: 0.6796724200248718\n"
     ]
    },
    {
     "name": "stderr",
     "output_type": "stream",
     "text": [
      "Training (13511 / 30000 Steps) (loss=0.78956): 100%|██████████| 24/24 [00:29<00:00,  1.24s/it]\n",
      "Training (13535 / 30000 Steps) (loss=0.90848): 100%|██████████| 24/24 [00:15<00:00,  1.52it/s]\n",
      "Training (13559 / 30000 Steps) (loss=1.07591): 100%|██████████| 24/24 [00:16<00:00,  1.49it/s]\n",
      "Training (13583 / 30000 Steps) (loss=0.91602): 100%|██████████| 24/24 [00:15<00:00,  1.52it/s]\n",
      "Training (13607 / 30000 Steps) (loss=0.69527): 100%|██████████| 24/24 [00:15<00:00,  1.51it/s]\n",
      "Training (13631 / 30000 Steps) (loss=0.72988): 100%|██████████| 24/24 [00:15<00:00,  1.55it/s]\n",
      "Training (13655 / 30000 Steps) (loss=0.82422): 100%|██████████| 24/24 [00:15<00:00,  1.51it/s]\n",
      "Training (13679 / 30000 Steps) (loss=0.76991): 100%|██████████| 24/24 [00:15<00:00,  1.53it/s]\n",
      "Training (13703 / 30000 Steps) (loss=0.90257): 100%|██████████| 24/24 [00:15<00:00,  1.53it/s]\n",
      "Training (13727 / 30000 Steps) (loss=0.78931): 100%|██████████| 24/24 [00:15<00:00,  1.53it/s]\n",
      "Training (13751 / 30000 Steps) (loss=0.92230): 100%|██████████| 24/24 [00:15<00:00,  1.53it/s]\n",
      "Training (13775 / 30000 Steps) (loss=0.60025): 100%|██████████| 24/24 [00:15<00:00,  1.53it/s]\n",
      "Training (13799 / 30000 Steps) (loss=0.77276): 100%|██████████| 24/24 [00:16<00:00,  1.50it/s]\n",
      "Training (13823 / 30000 Steps) (loss=1.00747): 100%|██████████| 24/24 [00:15<00:00,  1.53it/s]\n",
      "Training (13847 / 30000 Steps) (loss=0.78407): 100%|██████████| 24/24 [00:15<00:00,  1.54it/s]\n",
      "Training (13871 / 30000 Steps) (loss=0.79556): 100%|██████████| 24/24 [00:15<00:00,  1.51it/s]\n",
      "Training (13895 / 30000 Steps) (loss=0.73699): 100%|██████████| 24/24 [00:15<00:00,  1.52it/s]\n",
      "Training (13919 / 30000 Steps) (loss=0.74437): 100%|██████████| 24/24 [00:15<00:00,  1.55it/s]\n",
      "Training (13943 / 30000 Steps) (loss=0.89848): 100%|██████████| 24/24 [00:15<00:00,  1.52it/s]\n",
      "Training (13967 / 30000 Steps) (loss=0.70981): 100%|██████████| 24/24 [00:16<00:00,  1.48it/s]\n",
      "Training (13991 / 30000 Steps) (loss=0.65472): 100%|██████████| 24/24 [00:15<00:00,  1.51it/s]\n",
      "Validate (13992 / 10 Steps): 100%|██████████| 6/6 [00:13<00:00,  2.18s/it]6<00:09,  1.62it/s]\n",
      "Training (14000 / 30000 Steps) (loss=0.83022):  38%|███▊      | 9/24 [00:20<01:14,  4.98s/it]"
     ]
    },
    {
     "name": "stdout",
     "output_type": "stream",
     "text": [
      "Model Was Saved ! Current Best Avg. Dice: 0.693595826625824 Current Avg. Dice: 0.693595826625824\n"
     ]
    },
    {
     "name": "stderr",
     "output_type": "stream",
     "text": [
      "Training (14015 / 30000 Steps) (loss=0.63937): 100%|██████████| 24/24 [00:29<00:00,  1.24s/it]\n",
      "Training (14039 / 30000 Steps) (loss=0.92504): 100%|██████████| 24/24 [00:16<00:00,  1.50it/s]\n",
      "Training (14063 / 30000 Steps) (loss=0.87647): 100%|██████████| 24/24 [00:15<00:00,  1.51it/s]\n",
      "Training (14087 / 30000 Steps) (loss=0.72738): 100%|██████████| 24/24 [00:15<00:00,  1.52it/s]\n",
      "Training (14111 / 30000 Steps) (loss=0.77509): 100%|██████████| 24/24 [00:15<00:00,  1.50it/s]\n",
      "Training (14135 / 30000 Steps) (loss=0.80385): 100%|██████████| 24/24 [00:15<00:00,  1.53it/s]\n",
      "Training (14159 / 30000 Steps) (loss=0.79119): 100%|██████████| 24/24 [00:15<00:00,  1.52it/s]\n",
      "Training (14183 / 30000 Steps) (loss=0.91700): 100%|██████████| 24/24 [00:16<00:00,  1.50it/s]\n",
      "Training (14207 / 30000 Steps) (loss=0.91979): 100%|██████████| 24/24 [00:15<00:00,  1.53it/s]\n",
      "Training (14231 / 30000 Steps) (loss=0.92543): 100%|██████████| 24/24 [00:15<00:00,  1.50it/s]\n",
      "Training (14255 / 30000 Steps) (loss=0.75187): 100%|██████████| 24/24 [00:16<00:00,  1.50it/s]\n",
      "Training (14279 / 30000 Steps) (loss=0.82071): 100%|██████████| 24/24 [00:15<00:00,  1.52it/s]\n",
      "Training (14303 / 30000 Steps) (loss=0.83879): 100%|██████████| 24/24 [00:15<00:00,  1.51it/s]\n",
      "Training (14327 / 30000 Steps) (loss=0.83434): 100%|██████████| 24/24 [00:15<00:00,  1.54it/s]\n",
      "Training (14351 / 30000 Steps) (loss=0.91970): 100%|██████████| 24/24 [00:15<00:00,  1.54it/s]\n",
      "Training (14375 / 30000 Steps) (loss=0.63397): 100%|██████████| 24/24 [00:16<00:00,  1.49it/s]\n",
      "Training (14399 / 30000 Steps) (loss=0.78086): 100%|██████████| 24/24 [00:15<00:00,  1.56it/s]\n",
      "Training (14423 / 30000 Steps) (loss=1.05300): 100%|██████████| 24/24 [00:16<00:00,  1.49it/s]\n",
      "Training (14447 / 30000 Steps) (loss=0.88353): 100%|██████████| 24/24 [00:15<00:00,  1.53it/s]\n",
      "Training (14471 / 30000 Steps) (loss=0.70097): 100%|██████████| 24/24 [00:16<00:00,  1.49it/s]\n",
      "Training (14495 / 30000 Steps) (loss=0.72709): 100%|██████████| 24/24 [00:15<00:00,  1.51it/s]\n",
      "Validate (14496 / 10 Steps): 100%|██████████| 6/6 [00:13<00:00,  2.17s/it]4<00:15,  1.26it/s]\n",
      "Training (14500 / 30000 Steps) (loss=0.66557):  21%|██        | 5/24 [00:18<01:49,  5.78s/it]"
     ]
    },
    {
     "name": "stdout",
     "output_type": "stream",
     "text": [
      "Model Was Saved ! Current Best Avg. Dice: 0.703741729259491 Current Avg. Dice: 0.703741729259491\n"
     ]
    },
    {
     "name": "stderr",
     "output_type": "stream",
     "text": [
      "Training (14519 / 30000 Steps) (loss=0.82587): 100%|██████████| 24/24 [00:29<00:00,  1.24s/it]\n",
      "Training (14543 / 30000 Steps) (loss=0.76287): 100%|██████████| 24/24 [00:15<00:00,  1.52it/s]\n",
      "Training (14567 / 30000 Steps) (loss=0.87312): 100%|██████████| 24/24 [00:16<00:00,  1.49it/s]\n",
      "Training (14591 / 30000 Steps) (loss=0.73962): 100%|██████████| 24/24 [00:16<00:00,  1.48it/s]\n",
      "Training (14615 / 30000 Steps) (loss=0.74379): 100%|██████████| 24/24 [00:15<00:00,  1.53it/s]\n",
      "Training (14639 / 30000 Steps) (loss=0.87137): 100%|██████████| 24/24 [00:15<00:00,  1.52it/s]\n",
      "Training (14663 / 30000 Steps) (loss=0.73578): 100%|██████████| 24/24 [00:15<00:00,  1.53it/s]\n",
      "Training (14687 / 30000 Steps) (loss=0.82538): 100%|██████████| 24/24 [00:15<00:00,  1.51it/s]\n",
      "Training (14711 / 30000 Steps) (loss=0.91523): 100%|██████████| 24/24 [00:15<00:00,  1.51it/s]\n",
      "Training (14735 / 30000 Steps) (loss=0.85604): 100%|██████████| 24/24 [00:15<00:00,  1.53it/s]\n",
      "Training (14759 / 30000 Steps) (loss=0.58606): 100%|██████████| 24/24 [00:15<00:00,  1.52it/s]\n",
      "Training (14783 / 30000 Steps) (loss=0.94014): 100%|██████████| 24/24 [00:15<00:00,  1.50it/s]\n",
      "Training (14807 / 30000 Steps) (loss=0.75545): 100%|██████████| 24/24 [00:15<00:00,  1.51it/s]\n",
      "Training (14831 / 30000 Steps) (loss=0.77211): 100%|██████████| 24/24 [00:15<00:00,  1.55it/s]\n",
      "Training (14855 / 30000 Steps) (loss=0.78860): 100%|██████████| 24/24 [00:15<00:00,  1.52it/s]\n",
      "Training (14879 / 30000 Steps) (loss=0.78938): 100%|██████████| 24/24 [00:15<00:00,  1.51it/s]\n",
      "Training (14903 / 30000 Steps) (loss=0.84135): 100%|██████████| 24/24 [00:15<00:00,  1.50it/s]\n",
      "Training (14927 / 30000 Steps) (loss=0.83486): 100%|██████████| 24/24 [00:16<00:00,  1.50it/s]\n",
      "Training (14951 / 30000 Steps) (loss=0.63016): 100%|██████████| 24/24 [00:15<00:00,  1.53it/s]\n",
      "Training (14975 / 30000 Steps) (loss=0.79408): 100%|██████████| 24/24 [00:15<00:00,  1.51it/s]\n",
      "Training (14999 / 30000 Steps) (loss=0.64158): 100%|██████████| 24/24 [00:15<00:00,  1.52it/s]\n",
      "Validate (15000 / 10 Steps): 100%|██████████| 6/6 [00:12<00:00,  2.17s/it]2<?, ?it/s]\n",
      "Training (15000 / 30000 Steps) (loss=0.81346):   4%|▍         | 1/24 [00:16<06:15, 16.32s/it]"
     ]
    },
    {
     "name": "stdout",
     "output_type": "stream",
     "text": [
      "Model Was Saved ! Current Best Avg. Dice: 0.7074517607688904 Current Avg. Dice: 0.7074517607688904\n"
     ]
    },
    {
     "name": "stderr",
     "output_type": "stream",
     "text": [
      "Training (15023 / 30000 Steps) (loss=0.79887): 100%|██████████| 24/24 [00:30<00:00,  1.25s/it]\n",
      "Training (15047 / 30000 Steps) (loss=0.89878): 100%|██████████| 24/24 [00:15<00:00,  1.53it/s]\n",
      "Training (15071 / 30000 Steps) (loss=0.76008): 100%|██████████| 24/24 [00:15<00:00,  1.55it/s]\n",
      "Training (15095 / 30000 Steps) (loss=0.76023): 100%|██████████| 24/24 [00:15<00:00,  1.50it/s]\n",
      "Training (15119 / 30000 Steps) (loss=0.69345): 100%|██████████| 24/24 [00:16<00:00,  1.50it/s]\n",
      "Training (15143 / 30000 Steps) (loss=0.68257): 100%|██████████| 24/24 [00:15<00:00,  1.56it/s]\n",
      "Training (15167 / 30000 Steps) (loss=0.76266): 100%|██████████| 24/24 [00:15<00:00,  1.53it/s]\n",
      "Training (15191 / 30000 Steps) (loss=0.78481): 100%|██████████| 24/24 [00:15<00:00,  1.51it/s]\n",
      "Training (15215 / 30000 Steps) (loss=0.86413): 100%|██████████| 24/24 [00:16<00:00,  1.50it/s]\n",
      "Training (15239 / 30000 Steps) (loss=0.83020): 100%|██████████| 24/24 [00:15<00:00,  1.54it/s]\n",
      "Training (15263 / 30000 Steps) (loss=0.78301): 100%|██████████| 24/24 [00:15<00:00,  1.55it/s]\n",
      "Training (15287 / 30000 Steps) (loss=0.77313): 100%|██████████| 24/24 [00:15<00:00,  1.52it/s]\n",
      "Training (15311 / 30000 Steps) (loss=0.74695): 100%|██████████| 24/24 [00:16<00:00,  1.43it/s]\n",
      "Training (15335 / 30000 Steps) (loss=0.78864): 100%|██████████| 24/24 [00:15<00:00,  1.51it/s]\n",
      "Training (15359 / 30000 Steps) (loss=0.73101): 100%|██████████| 24/24 [00:15<00:00,  1.52it/s]\n",
      "Training (15383 / 30000 Steps) (loss=0.89424): 100%|██████████| 24/24 [00:15<00:00,  1.52it/s]\n",
      "Training (15407 / 30000 Steps) (loss=0.93462): 100%|██████████| 24/24 [00:15<00:00,  1.54it/s]\n",
      "Training (15431 / 30000 Steps) (loss=0.81898): 100%|██████████| 24/24 [00:15<00:00,  1.51it/s]\n",
      "Training (15455 / 30000 Steps) (loss=0.60640): 100%|██████████| 24/24 [00:16<00:00,  1.48it/s]\n",
      "Training (15479 / 30000 Steps) (loss=0.62225): 100%|██████████| 24/24 [00:16<00:00,  1.48it/s]\n",
      "Validate (15480 / 10 Steps): 100%|██████████| 6/6 [00:13<00:00,  2.17s/it]13<00:02,  1.72it/s]\n",
      "Training (15500 / 30000 Steps) (loss=0.63257):  88%|████████▊ | 21/24 [00:27<00:14,  4.78s/it]"
     ]
    },
    {
     "name": "stdout",
     "output_type": "stream",
     "text": [
      "Model Was Saved ! Current Best Avg. Dice: 0.7084811329841614 Current Avg. Dice: 0.7084811329841614\n"
     ]
    },
    {
     "name": "stderr",
     "output_type": "stream",
     "text": [
      "Training (15503 / 30000 Steps) (loss=0.90106): 100%|██████████| 24/24 [00:29<00:00,  1.24s/it]\n",
      "Training (15527 / 30000 Steps) (loss=0.69445): 100%|██████████| 24/24 [00:16<00:00,  1.48it/s]\n",
      "Training (15551 / 30000 Steps) (loss=0.87431): 100%|██████████| 24/24 [00:15<00:00,  1.52it/s]\n",
      "Training (15575 / 30000 Steps) (loss=0.61835): 100%|██████████| 24/24 [00:15<00:00,  1.51it/s]\n",
      "Training (15599 / 30000 Steps) (loss=0.83165): 100%|██████████| 24/24 [00:15<00:00,  1.55it/s]\n",
      "Training (15623 / 30000 Steps) (loss=1.05090): 100%|██████████| 24/24 [00:15<00:00,  1.53it/s]\n",
      "Training (15647 / 30000 Steps) (loss=0.83090): 100%|██████████| 24/24 [00:15<00:00,  1.50it/s]\n",
      "Training (15671 / 30000 Steps) (loss=0.51890): 100%|██████████| 24/24 [00:15<00:00,  1.55it/s]\n",
      "Training (15695 / 30000 Steps) (loss=0.84885): 100%|██████████| 24/24 [00:15<00:00,  1.55it/s]\n",
      "Training (15719 / 30000 Steps) (loss=0.64593): 100%|██████████| 24/24 [00:15<00:00,  1.51it/s]\n",
      "Training (15743 / 30000 Steps) (loss=1.03938): 100%|██████████| 24/24 [00:15<00:00,  1.50it/s]\n",
      "Training (15767 / 30000 Steps) (loss=0.68464): 100%|██████████| 24/24 [00:16<00:00,  1.50it/s]\n",
      "Training (15791 / 30000 Steps) (loss=0.81759): 100%|██████████| 24/24 [00:15<00:00,  1.51it/s]\n",
      "Training (15815 / 30000 Steps) (loss=0.90461): 100%|██████████| 24/24 [00:15<00:00,  1.55it/s]\n",
      "Training (15839 / 30000 Steps) (loss=0.96591): 100%|██████████| 24/24 [00:15<00:00,  1.53it/s]\n",
      "Training (15863 / 30000 Steps) (loss=0.74207): 100%|██████████| 24/24 [00:15<00:00,  1.51it/s]\n",
      "Training (15887 / 30000 Steps) (loss=0.71486): 100%|██████████| 24/24 [00:15<00:00,  1.55it/s]\n",
      "Training (15911 / 30000 Steps) (loss=0.71213): 100%|██████████| 24/24 [00:15<00:00,  1.53it/s]\n",
      "Training (15935 / 30000 Steps) (loss=0.95788): 100%|██████████| 24/24 [00:16<00:00,  1.48it/s]\n",
      "Training (15959 / 30000 Steps) (loss=0.58485): 100%|██████████| 24/24 [00:15<00:00,  1.53it/s]\n",
      "Training (15983 / 30000 Steps) (loss=0.67501): 100%|██████████| 24/24 [00:15<00:00,  1.50it/s]\n",
      "Validate (15984 / 10 Steps): 100%|██████████| 6/6 [00:13<00:00,  2.19s/it]11<00:04,  1.73it/s]\n",
      "Training (16000 / 30000 Steps) (loss=1.33424):  71%|███████   | 17/24 [00:25<00:33,  4.78s/it]"
     ]
    },
    {
     "name": "stdout",
     "output_type": "stream",
     "text": [
      "Model Was Saved ! Current Best Avg. Dice: 0.7221896648406982 Current Avg. Dice: 0.7221896648406982\n"
     ]
    },
    {
     "name": "stderr",
     "output_type": "stream",
     "text": [
      "Training (16007 / 30000 Steps) (loss=0.74951): 100%|██████████| 24/24 [00:29<00:00,  1.24s/it]\n",
      "Training (16031 / 30000 Steps) (loss=0.62207): 100%|██████████| 24/24 [00:15<00:00,  1.51it/s]\n",
      "Training (16055 / 30000 Steps) (loss=0.83563): 100%|██████████| 24/24 [00:16<00:00,  1.49it/s]\n",
      "Training (16079 / 30000 Steps) (loss=0.91329): 100%|██████████| 24/24 [00:15<00:00,  1.53it/s]\n",
      "Training (16103 / 30000 Steps) (loss=0.75625): 100%|██████████| 24/24 [00:16<00:00,  1.45it/s]\n",
      "Training (16127 / 30000 Steps) (loss=0.91749): 100%|██████████| 24/24 [00:15<00:00,  1.51it/s]\n",
      "Training (16151 / 30000 Steps) (loss=0.81058): 100%|██████████| 24/24 [00:15<00:00,  1.51it/s]\n",
      "Training (16175 / 30000 Steps) (loss=0.67199): 100%|██████████| 24/24 [00:15<00:00,  1.52it/s]\n",
      "Training (16199 / 30000 Steps) (loss=0.77187): 100%|██████████| 24/24 [00:15<00:00,  1.53it/s]\n",
      "Training (16223 / 30000 Steps) (loss=0.82460): 100%|██████████| 24/24 [00:15<00:00,  1.53it/s]\n",
      "Training (16247 / 30000 Steps) (loss=0.86808): 100%|██████████| 24/24 [00:15<00:00,  1.53it/s]\n",
      "Training (16271 / 30000 Steps) (loss=0.97661): 100%|██████████| 24/24 [00:16<00:00,  1.48it/s]\n",
      "Training (16295 / 30000 Steps) (loss=0.61473): 100%|██████████| 24/24 [00:15<00:00,  1.54it/s]\n",
      "Training (16319 / 30000 Steps) (loss=0.79785): 100%|██████████| 24/24 [00:15<00:00,  1.51it/s]\n",
      "Training (16343 / 30000 Steps) (loss=0.62748): 100%|██████████| 24/24 [00:15<00:00,  1.55it/s]\n",
      "Training (16367 / 30000 Steps) (loss=0.78819): 100%|██████████| 24/24 [00:15<00:00,  1.54it/s]\n",
      "Training (16391 / 30000 Steps) (loss=0.77412): 100%|██████████| 24/24 [00:15<00:00,  1.53it/s]\n",
      "Training (16415 / 30000 Steps) (loss=0.74691): 100%|██████████| 24/24 [00:16<00:00,  1.49it/s]\n",
      "Training (16439 / 30000 Steps) (loss=0.49624): 100%|██████████| 24/24 [00:16<00:00,  1.47it/s]\n",
      "Training (16463 / 30000 Steps) (loss=0.69588): 100%|██████████| 24/24 [00:15<00:00,  1.50it/s]\n",
      "Training (16487 / 30000 Steps) (loss=0.71946): 100%|██████████| 24/24 [00:16<00:00,  1.50it/s]\n",
      "Validate (16488 / 10 Steps): 100%|██████████| 6/6 [00:13<00:00,  2.18s/it]08<00:07,  1.70it/s]\n",
      "Training (16500 / 30000 Steps) (loss=0.77937):  54%|█████▍    | 13/24 [00:21<00:50,  4.55s/it]"
     ]
    },
    {
     "name": "stdout",
     "output_type": "stream",
     "text": [
      "Model Was Not Saved ! Current Best Avg. Dice: 0.7221896648406982 Current Avg. Dice: 0.7220690846443176\n"
     ]
    },
    {
     "name": "stderr",
     "output_type": "stream",
     "text": [
      "Training (16511 / 30000 Steps) (loss=0.83604): 100%|██████████| 24/24 [00:28<00:00,  1.19s/it]\n",
      "Training (16535 / 30000 Steps) (loss=0.83672): 100%|██████████| 24/24 [00:16<00:00,  1.50it/s]\n",
      "Training (16559 / 30000 Steps) (loss=0.64253): 100%|██████████| 24/24 [00:16<00:00,  1.49it/s]\n",
      "Training (16583 / 30000 Steps) (loss=0.70001): 100%|██████████| 24/24 [00:15<00:00,  1.55it/s]\n",
      "Training (16607 / 30000 Steps) (loss=0.73020): 100%|██████████| 24/24 [00:15<00:00,  1.51it/s]\n",
      "Training (16631 / 30000 Steps) (loss=0.72145): 100%|██████████| 24/24 [00:15<00:00,  1.51it/s]\n",
      "Training (16655 / 30000 Steps) (loss=0.69445): 100%|██████████| 24/24 [00:15<00:00,  1.52it/s]\n",
      "Training (16679 / 30000 Steps) (loss=0.68818): 100%|██████████| 24/24 [00:15<00:00,  1.52it/s]\n",
      "Training (16703 / 30000 Steps) (loss=0.96096): 100%|██████████| 24/24 [00:15<00:00,  1.56it/s]\n",
      "Training (16727 / 30000 Steps) (loss=0.70723): 100%|██████████| 24/24 [00:15<00:00,  1.53it/s]\n",
      "Training (16751 / 30000 Steps) (loss=0.79565): 100%|██████████| 24/24 [00:15<00:00,  1.53it/s]\n",
      "Training (16775 / 30000 Steps) (loss=0.89378): 100%|██████████| 24/24 [00:15<00:00,  1.55it/s]\n",
      "Training (16799 / 30000 Steps) (loss=0.67273): 100%|██████████| 24/24 [00:15<00:00,  1.53it/s]\n",
      "Training (16823 / 30000 Steps) (loss=0.70369): 100%|██████████| 24/24 [00:16<00:00,  1.50it/s]\n",
      "Training (16847 / 30000 Steps) (loss=0.84993): 100%|██████████| 24/24 [00:16<00:00,  1.50it/s]\n",
      "Training (16871 / 30000 Steps) (loss=0.62969): 100%|██████████| 24/24 [00:16<00:00,  1.49it/s]\n",
      "Training (16895 / 30000 Steps) (loss=0.69603): 100%|██████████| 24/24 [00:15<00:00,  1.53it/s]\n",
      "Training (16919 / 30000 Steps) (loss=0.69526): 100%|██████████| 24/24 [00:16<00:00,  1.50it/s]\n",
      "Training (16943 / 30000 Steps) (loss=0.67207): 100%|██████████| 24/24 [00:16<00:00,  1.47it/s]\n",
      "Training (16967 / 30000 Steps) (loss=0.72811): 100%|██████████| 24/24 [00:15<00:00,  1.54it/s]\n",
      "Training (16991 / 30000 Steps) (loss=0.85005): 100%|██████████| 24/24 [00:16<00:00,  1.49it/s]\n",
      "Validate (16992 / 10 Steps): 100%|██████████| 6/6 [00:13<00:00,  2.19s/it]6<00:09,  1.62it/s]\n",
      "Training (17000 / 30000 Steps) (loss=0.58959):  38%|███▊      | 9/24 [00:19<01:10,  4.72s/it]"
     ]
    },
    {
     "name": "stdout",
     "output_type": "stream",
     "text": [
      "Model Was Not Saved ! Current Best Avg. Dice: 0.7221896648406982 Current Avg. Dice: 0.7182507514953613\n"
     ]
    },
    {
     "name": "stderr",
     "output_type": "stream",
     "text": [
      "Training (17015 / 30000 Steps) (loss=0.79545): 100%|██████████| 24/24 [00:28<00:00,  1.20s/it]\n",
      "Training (17039 / 30000 Steps) (loss=0.55876): 100%|██████████| 24/24 [00:15<00:00,  1.52it/s]\n",
      "Training (17063 / 30000 Steps) (loss=0.71316): 100%|██████████| 24/24 [00:16<00:00,  1.48it/s]\n",
      "Training (17087 / 30000 Steps) (loss=0.73229): 100%|██████████| 24/24 [00:16<00:00,  1.48it/s]\n",
      "Training (17111 / 30000 Steps) (loss=0.77646): 100%|██████████| 24/24 [00:15<00:00,  1.51it/s]\n",
      "Training (17135 / 30000 Steps) (loss=1.03971): 100%|██████████| 24/24 [00:15<00:00,  1.51it/s]\n",
      "Training (17159 / 30000 Steps) (loss=0.73024): 100%|██████████| 24/24 [00:15<00:00,  1.54it/s]\n",
      "Training (17183 / 30000 Steps) (loss=0.67898): 100%|██████████| 24/24 [00:15<00:00,  1.51it/s]\n",
      "Training (17207 / 30000 Steps) (loss=0.74124): 100%|██████████| 24/24 [00:15<00:00,  1.54it/s]\n",
      "Training (17231 / 30000 Steps) (loss=0.64773): 100%|██████████| 24/24 [00:15<00:00,  1.53it/s]\n",
      "Training (17255 / 30000 Steps) (loss=0.81890): 100%|██████████| 24/24 [00:15<00:00,  1.51it/s]\n",
      "Training (17279 / 30000 Steps) (loss=0.88796): 100%|██████████| 24/24 [00:15<00:00,  1.53it/s]\n",
      "Training (17303 / 30000 Steps) (loss=0.54762): 100%|██████████| 24/24 [00:15<00:00,  1.52it/s]\n",
      "Training (17327 / 30000 Steps) (loss=0.84350): 100%|██████████| 24/24 [00:15<00:00,  1.52it/s]\n",
      "Training (17351 / 30000 Steps) (loss=0.75718): 100%|██████████| 24/24 [00:16<00:00,  1.49it/s]\n",
      "Training (17375 / 30000 Steps) (loss=0.66700): 100%|██████████| 24/24 [00:16<00:00,  1.48it/s]\n",
      "Training (17399 / 30000 Steps) (loss=0.79307): 100%|██████████| 24/24 [00:15<00:00,  1.52it/s]\n",
      "Training (17423 / 30000 Steps) (loss=0.82530): 100%|██████████| 24/24 [00:15<00:00,  1.53it/s]\n",
      "Training (17447 / 30000 Steps) (loss=0.73384): 100%|██████████| 24/24 [00:15<00:00,  1.51it/s]\n",
      "Training (17471 / 30000 Steps) (loss=0.72332): 100%|██████████| 24/24 [00:16<00:00,  1.50it/s]\n",
      "Training (17495 / 30000 Steps) (loss=0.67991): 100%|██████████| 24/24 [00:15<00:00,  1.53it/s]\n",
      "Validate (17496 / 10 Steps): 100%|██████████| 6/6 [00:13<00:00,  2.17s/it]4<00:16,  1.19it/s]\n",
      "Training (17500 / 30000 Steps) (loss=0.73973):  21%|██        | 5/24 [00:18<01:49,  5.79s/it]"
     ]
    },
    {
     "name": "stdout",
     "output_type": "stream",
     "text": [
      "Model Was Saved ! Current Best Avg. Dice: 0.7353699207305908 Current Avg. Dice: 0.7353699207305908\n"
     ]
    },
    {
     "name": "stderr",
     "output_type": "stream",
     "text": [
      "Training (17519 / 30000 Steps) (loss=0.66161): 100%|██████████| 24/24 [00:30<00:00,  1.26s/it]\n",
      "Training (17543 / 30000 Steps) (loss=0.80995): 100%|██████████| 24/24 [00:15<00:00,  1.55it/s]\n",
      "Training (17567 / 30000 Steps) (loss=0.87282): 100%|██████████| 24/24 [00:15<00:00,  1.52it/s]\n",
      "Training (17591 / 30000 Steps) (loss=0.63938): 100%|██████████| 24/24 [00:16<00:00,  1.49it/s]\n",
      "Training (17615 / 30000 Steps) (loss=0.87872): 100%|██████████| 24/24 [00:16<00:00,  1.50it/s]\n",
      "Training (17639 / 30000 Steps) (loss=0.65786): 100%|██████████| 24/24 [00:15<00:00,  1.52it/s]\n",
      "Training (17663 / 30000 Steps) (loss=0.72383): 100%|██████████| 24/24 [00:15<00:00,  1.52it/s]\n",
      "Training (17687 / 30000 Steps) (loss=0.69881): 100%|██████████| 24/24 [00:15<00:00,  1.51it/s]\n",
      "Training (17711 / 30000 Steps) (loss=0.78047): 100%|██████████| 24/24 [00:15<00:00,  1.54it/s]\n",
      "Training (17735 / 30000 Steps) (loss=0.80082): 100%|██████████| 24/24 [00:15<00:00,  1.52it/s]\n",
      "Training (17759 / 30000 Steps) (loss=0.74712): 100%|██████████| 24/24 [00:15<00:00,  1.53it/s]\n",
      "Training (17783 / 30000 Steps) (loss=0.66902): 100%|██████████| 24/24 [00:16<00:00,  1.48it/s]\n",
      "Training (17807 / 30000 Steps) (loss=0.55206): 100%|██████████| 24/24 [00:15<00:00,  1.53it/s]\n",
      "Training (17831 / 30000 Steps) (loss=0.50809): 100%|██████████| 24/24 [00:15<00:00,  1.52it/s]\n",
      "Training (17855 / 30000 Steps) (loss=0.82161): 100%|██████████| 24/24 [00:16<00:00,  1.49it/s]\n",
      "Training (17879 / 30000 Steps) (loss=0.62827): 100%|██████████| 24/24 [00:15<00:00,  1.52it/s]\n",
      "Training (17903 / 30000 Steps) (loss=0.93410): 100%|██████████| 24/24 [00:16<00:00,  1.50it/s]\n",
      "Training (17927 / 30000 Steps) (loss=0.82916): 100%|██████████| 24/24 [00:15<00:00,  1.51it/s]\n",
      "Training (17951 / 30000 Steps) (loss=0.62566): 100%|██████████| 24/24 [00:16<00:00,  1.48it/s]\n",
      "Training (17975 / 30000 Steps) (loss=0.79310): 100%|██████████| 24/24 [00:15<00:00,  1.54it/s]\n",
      "Training (17999 / 30000 Steps) (loss=0.86260): 100%|██████████| 24/24 [00:15<00:00,  1.55it/s]\n",
      "Validate (18000 / 10 Steps): 100%|██████████| 6/6 [00:13<00:00,  2.18s/it]2<?, ?it/s]\n",
      "Training (18000 / 30000 Steps) (loss=0.51977):   4%|▍         | 1/24 [00:16<06:16, 16.36s/it]"
     ]
    },
    {
     "name": "stdout",
     "output_type": "stream",
     "text": [
      "Model Was Saved ! Current Best Avg. Dice: 0.7378007769584656 Current Avg. Dice: 0.7378007769584656\n"
     ]
    },
    {
     "name": "stderr",
     "output_type": "stream",
     "text": [
      "Training (18023 / 30000 Steps) (loss=0.82403): 100%|██████████| 24/24 [00:30<00:00,  1.25s/it]\n",
      "Training (18047 / 30000 Steps) (loss=0.72624): 100%|██████████| 24/24 [00:15<00:00,  1.51it/s]\n",
      "Training (18071 / 30000 Steps) (loss=0.77733): 100%|██████████| 24/24 [00:15<00:00,  1.53it/s]\n",
      "Training (18095 / 30000 Steps) (loss=0.80130): 100%|██████████| 24/24 [00:15<00:00,  1.55it/s]\n",
      "Training (18119 / 30000 Steps) (loss=0.88473): 100%|██████████| 24/24 [00:16<00:00,  1.50it/s]\n",
      "Training (18143 / 30000 Steps) (loss=0.78326): 100%|██████████| 24/24 [00:15<00:00,  1.52it/s]\n",
      "Training (18167 / 30000 Steps) (loss=0.68573): 100%|██████████| 24/24 [00:15<00:00,  1.52it/s]\n",
      "Training (18191 / 30000 Steps) (loss=0.74675): 100%|██████████| 24/24 [00:15<00:00,  1.51it/s]\n",
      "Training (18215 / 30000 Steps) (loss=0.68339): 100%|██████████| 24/24 [00:16<00:00,  1.49it/s]\n",
      "Training (18239 / 30000 Steps) (loss=0.61895): 100%|██████████| 24/24 [00:16<00:00,  1.47it/s]\n",
      "Training (18263 / 30000 Steps) (loss=0.90332): 100%|██████████| 24/24 [00:16<00:00,  1.44it/s]\n",
      "Training (18287 / 30000 Steps) (loss=0.68909): 100%|██████████| 24/24 [00:15<00:00,  1.54it/s]\n",
      "Training (18311 / 30000 Steps) (loss=0.76992): 100%|██████████| 24/24 [00:15<00:00,  1.53it/s]\n",
      "Training (18335 / 30000 Steps) (loss=0.79672): 100%|██████████| 24/24 [00:15<00:00,  1.55it/s]\n",
      "Training (18359 / 30000 Steps) (loss=0.66162): 100%|██████████| 24/24 [00:15<00:00,  1.51it/s]\n",
      "Training (18383 / 30000 Steps) (loss=0.86780): 100%|██████████| 24/24 [00:15<00:00,  1.50it/s]\n",
      "Training (18407 / 30000 Steps) (loss=0.65512): 100%|██████████| 24/24 [00:16<00:00,  1.49it/s]\n",
      "Training (18431 / 30000 Steps) (loss=0.81495): 100%|██████████| 24/24 [00:15<00:00,  1.52it/s]\n",
      "Training (18455 / 30000 Steps) (loss=0.69795): 100%|██████████| 24/24 [00:15<00:00,  1.51it/s]\n",
      "Training (18479 / 30000 Steps) (loss=0.58053): 100%|██████████| 24/24 [00:15<00:00,  1.51it/s]\n",
      "Validate (18480 / 10 Steps): 100%|██████████| 6/6 [00:13<00:00,  2.19s/it]14<00:02,  1.73it/s]\n",
      "Training (18500 / 30000 Steps) (loss=0.83230):  88%|████████▊ | 21/24 [00:27<00:13,  4.53s/it]"
     ]
    },
    {
     "name": "stdout",
     "output_type": "stream",
     "text": [
      "Model Was Not Saved ! Current Best Avg. Dice: 0.7378007769584656 Current Avg. Dice: 0.7233017086982727\n"
     ]
    },
    {
     "name": "stderr",
     "output_type": "stream",
     "text": [
      "Training (18503 / 30000 Steps) (loss=0.85553): 100%|██████████| 24/24 [00:29<00:00,  1.22s/it]\n",
      "Training (18527 / 30000 Steps) (loss=0.61670): 100%|██████████| 24/24 [00:16<00:00,  1.48it/s]\n",
      "Training (18551 / 30000 Steps) (loss=0.81029): 100%|██████████| 24/24 [00:15<00:00,  1.51it/s]\n",
      "Training (18575 / 30000 Steps) (loss=0.64811): 100%|██████████| 24/24 [00:15<00:00,  1.51it/s]\n",
      "Training (18599 / 30000 Steps) (loss=0.79202): 100%|██████████| 24/24 [00:15<00:00,  1.56it/s]\n",
      "Training (18623 / 30000 Steps) (loss=0.85354): 100%|██████████| 24/24 [00:15<00:00,  1.51it/s]\n",
      "Training (18647 / 30000 Steps) (loss=0.59420): 100%|██████████| 24/24 [00:16<00:00,  1.48it/s]\n",
      "Training (18671 / 30000 Steps) (loss=0.69637): 100%|██████████| 24/24 [00:15<00:00,  1.53it/s]\n",
      "Training (18695 / 30000 Steps) (loss=0.80385): 100%|██████████| 24/24 [00:15<00:00,  1.52it/s]\n",
      "Training (18719 / 30000 Steps) (loss=0.62428): 100%|██████████| 24/24 [00:16<00:00,  1.49it/s]\n",
      "Training (18743 / 30000 Steps) (loss=0.56838): 100%|██████████| 24/24 [00:16<00:00,  1.50it/s]\n",
      "Training (18767 / 30000 Steps) (loss=0.76391): 100%|██████████| 24/24 [00:15<00:00,  1.53it/s]\n",
      "Training (18791 / 30000 Steps) (loss=0.89568): 100%|██████████| 24/24 [00:16<00:00,  1.50it/s]\n",
      "Training (18815 / 30000 Steps) (loss=0.63000): 100%|██████████| 24/24 [00:15<00:00,  1.55it/s]\n",
      "Training (18839 / 30000 Steps) (loss=0.66605): 100%|██████████| 24/24 [00:15<00:00,  1.52it/s]\n",
      "Training (18863 / 30000 Steps) (loss=0.77983): 100%|██████████| 24/24 [00:16<00:00,  1.50it/s]\n",
      "Training (18887 / 30000 Steps) (loss=0.78100): 100%|██████████| 24/24 [00:15<00:00,  1.55it/s]\n",
      "Training (18911 / 30000 Steps) (loss=0.68240): 100%|██████████| 24/24 [00:15<00:00,  1.53it/s]\n",
      "Training (18935 / 30000 Steps) (loss=0.81362): 100%|██████████| 24/24 [00:15<00:00,  1.52it/s]\n",
      "Training (18959 / 30000 Steps) (loss=0.67883): 100%|██████████| 24/24 [00:15<00:00,  1.51it/s]\n",
      "Training (18983 / 30000 Steps) (loss=0.70949): 100%|██████████| 24/24 [00:15<00:00,  1.55it/s]\n",
      "Validate (18984 / 10 Steps): 100%|██████████| 6/6 [00:13<00:00,  2.19s/it]11<00:04,  1.71it/s]\n",
      "Training (19000 / 30000 Steps) (loss=0.81328):  71%|███████   | 17/24 [00:24<00:31,  4.54s/it]"
     ]
    },
    {
     "name": "stdout",
     "output_type": "stream",
     "text": [
      "Model Was Not Saved ! Current Best Avg. Dice: 0.7378007769584656 Current Avg. Dice: 0.7353682518005371\n"
     ]
    },
    {
     "name": "stderr",
     "output_type": "stream",
     "text": [
      "Training (19007 / 30000 Steps) (loss=0.70105): 100%|██████████| 24/24 [00:29<00:00,  1.22s/it]\n",
      "Training (19031 / 30000 Steps) (loss=0.52792): 100%|██████████| 24/24 [00:15<00:00,  1.53it/s]\n",
      "Training (19055 / 30000 Steps) (loss=0.73598): 100%|██████████| 24/24 [00:15<00:00,  1.52it/s]\n",
      "Training (19079 / 30000 Steps) (loss=0.83812): 100%|██████████| 24/24 [00:15<00:00,  1.50it/s]\n",
      "Training (19103 / 30000 Steps) (loss=0.72273): 100%|██████████| 24/24 [00:15<00:00,  1.52it/s]\n",
      "Training (19127 / 30000 Steps) (loss=0.62925): 100%|██████████| 24/24 [00:16<00:00,  1.49it/s]\n",
      "Training (19151 / 30000 Steps) (loss=0.68792): 100%|██████████| 24/24 [00:15<00:00,  1.51it/s]\n",
      "Training (19175 / 30000 Steps) (loss=0.79489): 100%|██████████| 24/24 [00:15<00:00,  1.51it/s]\n",
      "Training (19199 / 30000 Steps) (loss=0.71317): 100%|██████████| 24/24 [00:16<00:00,  1.50it/s]\n",
      "Training (19223 / 30000 Steps) (loss=0.89098): 100%|██████████| 24/24 [00:16<00:00,  1.50it/s]\n",
      "Training (19247 / 30000 Steps) (loss=0.57681): 100%|██████████| 24/24 [00:15<00:00,  1.51it/s]\n",
      "Training (19271 / 30000 Steps) (loss=0.72298): 100%|██████████| 24/24 [00:16<00:00,  1.49it/s]\n",
      "Training (19295 / 30000 Steps) (loss=0.93264): 100%|██████████| 24/24 [00:15<00:00,  1.51it/s]\n",
      "Training (19319 / 30000 Steps) (loss=0.73826): 100%|██████████| 24/24 [00:15<00:00,  1.52it/s]\n",
      "Training (19343 / 30000 Steps) (loss=0.47748): 100%|██████████| 24/24 [00:15<00:00,  1.51it/s]\n",
      "Training (19367 / 30000 Steps) (loss=0.75938): 100%|██████████| 24/24 [00:15<00:00,  1.51it/s]\n",
      "Training (19391 / 30000 Steps) (loss=0.61396): 100%|██████████| 24/24 [00:15<00:00,  1.53it/s]\n",
      "Training (19415 / 30000 Steps) (loss=1.02127): 100%|██████████| 24/24 [00:15<00:00,  1.51it/s]\n",
      "Training (19439 / 30000 Steps) (loss=0.73887): 100%|██████████| 24/24 [00:15<00:00,  1.51it/s]\n",
      "Training (19463 / 30000 Steps) (loss=0.81392): 100%|██████████| 24/24 [00:16<00:00,  1.50it/s]\n",
      "Training (19487 / 30000 Steps) (loss=0.51477): 100%|██████████| 24/24 [00:15<00:00,  1.52it/s]\n",
      "Validate (19488 / 10 Steps): 100%|██████████| 6/6 [00:13<00:00,  2.17s/it]09<00:07,  1.68it/s]\n",
      "Training (19500 / 30000 Steps) (loss=0.60809):  54%|█████▍    | 13/24 [00:22<00:50,  4.55s/it]"
     ]
    },
    {
     "name": "stdout",
     "output_type": "stream",
     "text": [
      "Model Was Not Saved ! Current Best Avg. Dice: 0.7378007769584656 Current Avg. Dice: 0.7158629298210144\n"
     ]
    },
    {
     "name": "stderr",
     "output_type": "stream",
     "text": [
      "Training (19511 / 30000 Steps) (loss=0.88193): 100%|██████████| 24/24 [00:28<00:00,  1.21s/it]\n",
      "Training (19535 / 30000 Steps) (loss=0.81228): 100%|██████████| 24/24 [00:16<00:00,  1.48it/s]\n",
      "Training (19559 / 30000 Steps) (loss=0.59746): 100%|██████████| 24/24 [00:15<00:00,  1.52it/s]\n",
      "Training (19583 / 30000 Steps) (loss=0.83368): 100%|██████████| 24/24 [00:15<00:00,  1.53it/s]\n",
      "Training (19607 / 30000 Steps) (loss=0.76526): 100%|██████████| 24/24 [00:15<00:00,  1.54it/s]\n",
      "Training (19631 / 30000 Steps) (loss=0.96347): 100%|██████████| 24/24 [00:16<00:00,  1.49it/s]\n",
      "Training (19655 / 30000 Steps) (loss=0.73141): 100%|██████████| 24/24 [00:16<00:00,  1.49it/s]\n",
      "Training (19679 / 30000 Steps) (loss=0.87443): 100%|██████████| 24/24 [00:15<00:00,  1.52it/s]\n",
      "Training (19703 / 30000 Steps) (loss=0.58302): 100%|██████████| 24/24 [00:16<00:00,  1.48it/s]\n",
      "Training (19727 / 30000 Steps) (loss=0.81281): 100%|██████████| 24/24 [00:15<00:00,  1.52it/s]\n",
      "Training (19751 / 30000 Steps) (loss=0.85674): 100%|██████████| 24/24 [00:15<00:00,  1.51it/s]\n",
      "Training (19775 / 30000 Steps) (loss=0.76705): 100%|██████████| 24/24 [00:15<00:00,  1.52it/s]\n",
      "Training (19799 / 30000 Steps) (loss=0.70136): 100%|██████████| 24/24 [00:15<00:00,  1.52it/s]\n",
      "Training (19823 / 30000 Steps) (loss=0.74919): 100%|██████████| 24/24 [00:15<00:00,  1.51it/s]\n",
      "Training (19847 / 30000 Steps) (loss=0.66426): 100%|██████████| 24/24 [00:15<00:00,  1.51it/s]\n",
      "Training (19871 / 30000 Steps) (loss=0.86308): 100%|██████████| 24/24 [00:15<00:00,  1.53it/s]\n",
      "Training (19895 / 30000 Steps) (loss=0.85562): 100%|██████████| 24/24 [00:15<00:00,  1.51it/s]\n",
      "Training (19919 / 30000 Steps) (loss=0.76655): 100%|██████████| 24/24 [00:16<00:00,  1.49it/s]\n",
      "Training (19943 / 30000 Steps) (loss=0.66559): 100%|██████████| 24/24 [00:15<00:00,  1.51it/s]\n",
      "Training (19967 / 30000 Steps) (loss=0.58864): 100%|██████████| 24/24 [00:15<00:00,  1.52it/s]\n",
      "Training (19991 / 30000 Steps) (loss=0.76224): 100%|██████████| 24/24 [00:16<00:00,  1.49it/s]\n",
      "Validate (19992 / 10 Steps): 100%|██████████| 6/6 [00:12<00:00,  2.17s/it]7<00:10,  1.57it/s]\n",
      "Training (20000 / 30000 Steps) (loss=0.73055):  38%|███▊      | 9/24 [00:20<01:10,  4.69s/it]"
     ]
    },
    {
     "name": "stdout",
     "output_type": "stream",
     "text": [
      "Model Was Not Saved ! Current Best Avg. Dice: 0.7378007769584656 Current Avg. Dice: 0.7372958064079285\n"
     ]
    },
    {
     "name": "stderr",
     "output_type": "stream",
     "text": [
      "Training (20015 / 30000 Steps) (loss=0.70939): 100%|██████████| 24/24 [00:29<00:00,  1.23s/it]\n",
      "Training (20039 / 30000 Steps) (loss=0.81108): 100%|██████████| 24/24 [00:15<00:00,  1.52it/s]\n",
      "Training (20063 / 30000 Steps) (loss=0.80326): 100%|██████████| 24/24 [00:15<00:00,  1.51it/s]\n",
      "Training (20087 / 30000 Steps) (loss=0.62309): 100%|██████████| 24/24 [00:16<00:00,  1.49it/s]\n",
      "Training (20111 / 30000 Steps) (loss=0.85336): 100%|██████████| 24/24 [00:16<00:00,  1.49it/s]\n",
      "Training (20135 / 30000 Steps) (loss=0.52440): 100%|██████████| 24/24 [00:15<00:00,  1.53it/s]\n",
      "Training (20159 / 30000 Steps) (loss=0.75732): 100%|██████████| 24/24 [00:15<00:00,  1.52it/s]\n",
      "Training (20183 / 30000 Steps) (loss=0.69006): 100%|██████████| 24/24 [00:15<00:00,  1.51it/s]\n",
      "Training (20207 / 30000 Steps) (loss=0.71913): 100%|██████████| 24/24 [00:15<00:00,  1.50it/s]\n",
      "Training (20231 / 30000 Steps) (loss=0.80275): 100%|██████████| 24/24 [00:15<00:00,  1.51it/s]\n",
      "Training (20255 / 30000 Steps) (loss=0.46369): 100%|██████████| 24/24 [00:16<00:00,  1.49it/s]\n",
      "Training (20279 / 30000 Steps) (loss=0.87471): 100%|██████████| 24/24 [00:15<00:00,  1.55it/s]\n",
      "Training (20303 / 30000 Steps) (loss=0.70113): 100%|██████████| 24/24 [00:15<00:00,  1.51it/s]\n",
      "Training (20327 / 30000 Steps) (loss=0.71047): 100%|██████████| 24/24 [00:15<00:00,  1.50it/s]\n",
      "Training (20351 / 30000 Steps) (loss=0.66726): 100%|██████████| 24/24 [00:16<00:00,  1.47it/s]\n",
      "Training (20375 / 30000 Steps) (loss=0.75331): 100%|██████████| 24/24 [00:15<00:00,  1.50it/s]\n",
      "Training (20399 / 30000 Steps) (loss=0.80831): 100%|██████████| 24/24 [00:15<00:00,  1.51it/s]\n",
      "Training (20423 / 30000 Steps) (loss=0.71777): 100%|██████████| 24/24 [00:15<00:00,  1.52it/s]\n",
      "Training (20447 / 30000 Steps) (loss=0.69079): 100%|██████████| 24/24 [00:15<00:00,  1.53it/s]\n",
      "Training (20471 / 30000 Steps) (loss=0.70367): 100%|██████████| 24/24 [00:15<00:00,  1.54it/s]\n",
      "Training (20495 / 30000 Steps) (loss=0.67532): 100%|██████████| 24/24 [00:16<00:00,  1.49it/s]\n",
      "Validate (20496 / 10 Steps): 100%|██████████| 6/6 [00:13<00:00,  2.19s/it]4<00:16,  1.21it/s]\n",
      "Training (20500 / 30000 Steps) (loss=0.70815):  21%|██        | 5/24 [00:17<01:44,  5.48s/it]"
     ]
    },
    {
     "name": "stdout",
     "output_type": "stream",
     "text": [
      "Model Was Not Saved ! Current Best Avg. Dice: 0.7378007769584656 Current Avg. Dice: 0.7197677493095398\n"
     ]
    },
    {
     "name": "stderr",
     "output_type": "stream",
     "text": [
      "Training (20519 / 30000 Steps) (loss=0.68717): 100%|██████████| 24/24 [00:29<00:00,  1.22s/it]\n",
      "Training (20543 / 30000 Steps) (loss=0.66566): 100%|██████████| 24/24 [00:15<00:00,  1.54it/s]\n",
      "Training (20567 / 30000 Steps) (loss=0.87132): 100%|██████████| 24/24 [00:15<00:00,  1.54it/s]\n",
      "Training (20591 / 30000 Steps) (loss=0.82360): 100%|██████████| 24/24 [00:16<00:00,  1.49it/s]\n",
      "Training (20615 / 30000 Steps) (loss=0.87495): 100%|██████████| 24/24 [00:15<00:00,  1.54it/s]\n",
      "Training (20639 / 30000 Steps) (loss=0.75677): 100%|██████████| 24/24 [00:15<00:00,  1.54it/s]\n",
      "Training (20663 / 30000 Steps) (loss=0.69783): 100%|██████████| 24/24 [00:15<00:00,  1.51it/s]\n",
      "Training (20687 / 30000 Steps) (loss=0.83115): 100%|██████████| 24/24 [00:16<00:00,  1.48it/s]\n",
      "Training (20711 / 30000 Steps) (loss=0.75886): 100%|██████████| 24/24 [00:15<00:00,  1.51it/s]\n",
      "Training (20735 / 30000 Steps) (loss=0.72778): 100%|██████████| 24/24 [00:15<00:00,  1.52it/s]\n",
      "Training (20759 / 30000 Steps) (loss=0.56356): 100%|██████████| 24/24 [00:16<00:00,  1.46it/s]\n",
      "Training (20783 / 30000 Steps) (loss=0.78952): 100%|██████████| 24/24 [00:15<00:00,  1.51it/s]\n",
      "Training (20807 / 30000 Steps) (loss=0.80568): 100%|██████████| 24/24 [00:15<00:00,  1.50it/s]\n",
      "Training (20831 / 30000 Steps) (loss=0.70490): 100%|██████████| 24/24 [00:16<00:00,  1.50it/s]\n",
      "Training (20855 / 30000 Steps) (loss=0.84248): 100%|██████████| 24/24 [00:15<00:00,  1.52it/s]\n",
      "Training (20879 / 30000 Steps) (loss=0.73996): 100%|██████████| 24/24 [00:15<00:00,  1.51it/s]\n",
      "Training (20903 / 30000 Steps) (loss=0.67396): 100%|██████████| 24/24 [00:15<00:00,  1.53it/s]\n",
      "Training (20927 / 30000 Steps) (loss=0.96219): 100%|██████████| 24/24 [00:15<00:00,  1.51it/s]\n",
      "Training (20951 / 30000 Steps) (loss=0.77859): 100%|██████████| 24/24 [00:15<00:00,  1.51it/s]\n",
      "Training (20975 / 30000 Steps) (loss=0.75256): 100%|██████████| 24/24 [00:16<00:00,  1.49it/s]\n",
      "Training (20999 / 30000 Steps) (loss=0.91393): 100%|██████████| 24/24 [00:15<00:00,  1.52it/s]\n",
      "Validate (21000 / 10 Steps): 100%|██████████| 6/6 [00:13<00:00,  2.18s/it]2<?, ?it/s]\n",
      "Training (21000 / 30000 Steps) (loss=0.64464):   4%|▍         | 1/24 [00:16<06:18, 16.44s/it]"
     ]
    },
    {
     "name": "stdout",
     "output_type": "stream",
     "text": [
      "Model Was Saved ! Current Best Avg. Dice: 0.7387893795967102 Current Avg. Dice: 0.7387893795967102\n"
     ]
    },
    {
     "name": "stderr",
     "output_type": "stream",
     "text": [
      "Training (21023 / 30000 Steps) (loss=0.75881): 100%|██████████| 24/24 [00:30<00:00,  1.26s/it]\n",
      "Training (21047 / 30000 Steps) (loss=0.71789): 100%|██████████| 24/24 [00:15<00:00,  1.54it/s]\n",
      "Training (21071 / 30000 Steps) (loss=0.78993): 100%|██████████| 24/24 [00:15<00:00,  1.51it/s]\n",
      "Training (21095 / 30000 Steps) (loss=1.17070): 100%|██████████| 24/24 [00:16<00:00,  1.48it/s]\n",
      "Training (21119 / 30000 Steps) (loss=0.85908): 100%|██████████| 24/24 [00:15<00:00,  1.51it/s]\n",
      "Training (21143 / 30000 Steps) (loss=0.69191): 100%|██████████| 24/24 [00:16<00:00,  1.48it/s]\n",
      "Training (21167 / 30000 Steps) (loss=0.62106): 100%|██████████| 24/24 [00:15<00:00,  1.50it/s]\n",
      "Training (21191 / 30000 Steps) (loss=0.69132): 100%|██████████| 24/24 [00:15<00:00,  1.53it/s]\n",
      "Training (21215 / 30000 Steps) (loss=0.88569): 100%|██████████| 24/24 [00:16<00:00,  1.49it/s]\n",
      "Training (21239 / 30000 Steps) (loss=0.65453): 100%|██████████| 24/24 [00:15<00:00,  1.51it/s]\n",
      "Training (21263 / 30000 Steps) (loss=0.69935): 100%|██████████| 24/24 [00:15<00:00,  1.55it/s]\n",
      "Training (21287 / 30000 Steps) (loss=0.58788): 100%|██████████| 24/24 [00:16<00:00,  1.49it/s]\n",
      "Training (21311 / 30000 Steps) (loss=0.66701): 100%|██████████| 24/24 [00:15<00:00,  1.51it/s]\n",
      "Training (21335 / 30000 Steps) (loss=0.57615): 100%|██████████| 24/24 [00:15<00:00,  1.52it/s]\n",
      "Training (21359 / 30000 Steps) (loss=0.64045): 100%|██████████| 24/24 [00:15<00:00,  1.53it/s]\n",
      "Training (21383 / 30000 Steps) (loss=0.79849): 100%|██████████| 24/24 [00:15<00:00,  1.54it/s]\n",
      "Training (21407 / 30000 Steps) (loss=0.75282): 100%|██████████| 24/24 [00:16<00:00,  1.49it/s]\n",
      "Training (21431 / 30000 Steps) (loss=0.66057): 100%|██████████| 24/24 [00:16<00:00,  1.50it/s]\n",
      "Training (21455 / 30000 Steps) (loss=0.79393): 100%|██████████| 24/24 [00:15<00:00,  1.54it/s]\n",
      "Training (21479 / 30000 Steps) (loss=0.58325): 100%|██████████| 24/24 [00:15<00:00,  1.55it/s]\n",
      "Validate (21480 / 10 Steps): 100%|██████████| 6/6 [00:13<00:00,  2.20s/it]13<00:02,  1.69it/s]\n",
      "Training (21500 / 30000 Steps) (loss=0.74495):  88%|████████▊ | 21/24 [00:27<00:13,  4.54s/it]"
     ]
    },
    {
     "name": "stdout",
     "output_type": "stream",
     "text": [
      "Model Was Not Saved ! Current Best Avg. Dice: 0.7387893795967102 Current Avg. Dice: 0.7367947697639465\n"
     ]
    },
    {
     "name": "stderr",
     "output_type": "stream",
     "text": [
      "Training (21503 / 30000 Steps) (loss=0.89849): 100%|██████████| 24/24 [00:28<00:00,  1.21s/it]\n",
      "Training (21527 / 30000 Steps) (loss=0.61402): 100%|██████████| 24/24 [00:16<00:00,  1.49it/s]\n",
      "Training (21551 / 30000 Steps) (loss=0.79389): 100%|██████████| 24/24 [00:15<00:00,  1.52it/s]\n",
      "Training (21575 / 30000 Steps) (loss=0.71604): 100%|██████████| 24/24 [00:15<00:00,  1.53it/s]\n",
      "Training (21599 / 30000 Steps) (loss=0.71774): 100%|██████████| 24/24 [00:15<00:00,  1.53it/s]\n",
      "Training (21623 / 30000 Steps) (loss=1.07869): 100%|██████████| 24/24 [00:16<00:00,  1.47it/s]\n",
      "Training (21647 / 30000 Steps) (loss=0.66716): 100%|██████████| 24/24 [00:15<00:00,  1.54it/s]\n",
      "Training (21671 / 30000 Steps) (loss=0.92561): 100%|██████████| 24/24 [00:16<00:00,  1.49it/s]\n",
      "Training (21695 / 30000 Steps) (loss=0.74651): 100%|██████████| 24/24 [00:16<00:00,  1.49it/s]\n",
      "Training (21719 / 30000 Steps) (loss=0.59693): 100%|██████████| 24/24 [00:15<00:00,  1.51it/s]\n",
      "Training (21743 / 30000 Steps) (loss=0.70714): 100%|██████████| 24/24 [00:15<00:00,  1.51it/s]\n",
      "Training (21767 / 30000 Steps) (loss=0.68556): 100%|██████████| 24/24 [00:15<00:00,  1.52it/s]\n",
      "Training (21791 / 30000 Steps) (loss=0.80142): 100%|██████████| 24/24 [00:16<00:00,  1.49it/s]\n",
      "Training (21815 / 30000 Steps) (loss=0.75844): 100%|██████████| 24/24 [00:15<00:00,  1.55it/s]\n",
      "Training (21839 / 30000 Steps) (loss=0.73606): 100%|██████████| 24/24 [00:16<00:00,  1.49it/s]\n",
      "Training (21863 / 30000 Steps) (loss=0.68143): 100%|██████████| 24/24 [00:16<00:00,  1.50it/s]\n",
      "Training (21887 / 30000 Steps) (loss=0.62227): 100%|██████████| 24/24 [00:15<00:00,  1.54it/s]\n",
      "Training (21911 / 30000 Steps) (loss=0.82006): 100%|██████████| 24/24 [00:15<00:00,  1.53it/s]\n",
      "Training (21935 / 30000 Steps) (loss=0.66141): 100%|██████████| 24/24 [00:15<00:00,  1.53it/s]\n",
      "Training (21959 / 30000 Steps) (loss=0.73453): 100%|██████████| 24/24 [00:15<00:00,  1.50it/s]\n",
      "Training (21983 / 30000 Steps) (loss=0.74368): 100%|██████████| 24/24 [00:15<00:00,  1.51it/s]\n",
      "Validate (21984 / 10 Steps): 100%|██████████| 6/6 [00:13<00:00,  2.18s/it]11<00:04,  1.71it/s]\n",
      "Training (22000 / 30000 Steps) (loss=0.95724):  71%|███████   | 17/24 [00:24<00:31,  4.52s/it]"
     ]
    },
    {
     "name": "stdout",
     "output_type": "stream",
     "text": [
      "Model Was Not Saved ! Current Best Avg. Dice: 0.7387893795967102 Current Avg. Dice: 0.7028276920318604\n"
     ]
    },
    {
     "name": "stderr",
     "output_type": "stream",
     "text": [
      "Training (22007 / 30000 Steps) (loss=0.72311): 100%|██████████| 24/24 [00:29<00:00,  1.21s/it]\n",
      "Training (22031 / 30000 Steps) (loss=0.67956): 100%|██████████| 24/24 [00:16<00:00,  1.46it/s]\n",
      "Training (22055 / 30000 Steps) (loss=0.77070): 100%|██████████| 24/24 [00:16<00:00,  1.47it/s]\n",
      "Training (22079 / 30000 Steps) (loss=0.74342): 100%|██████████| 24/24 [00:16<00:00,  1.49it/s]\n",
      "Training (22103 / 30000 Steps) (loss=0.53904): 100%|██████████| 24/24 [00:16<00:00,  1.46it/s]\n",
      "Training (22127 / 30000 Steps) (loss=0.95605): 100%|██████████| 24/24 [00:15<00:00,  1.51it/s]\n",
      "Training (22151 / 30000 Steps) (loss=0.87306): 100%|██████████| 24/24 [00:15<00:00,  1.54it/s]\n",
      "Training (22175 / 30000 Steps) (loss=0.70973): 100%|██████████| 24/24 [00:16<00:00,  1.49it/s]\n",
      "Training (22199 / 30000 Steps) (loss=0.60405): 100%|██████████| 24/24 [00:15<00:00,  1.55it/s]\n",
      "Training (22223 / 30000 Steps) (loss=0.60007): 100%|██████████| 24/24 [00:15<00:00,  1.51it/s]\n",
      "Training (22247 / 30000 Steps) (loss=0.66219): 100%|██████████| 24/24 [00:15<00:00,  1.51it/s]\n",
      "Training (22271 / 30000 Steps) (loss=0.65155): 100%|██████████| 24/24 [00:16<00:00,  1.48it/s]\n",
      "Training (22295 / 30000 Steps) (loss=0.77289): 100%|██████████| 24/24 [00:15<00:00,  1.52it/s]\n",
      "Training (22319 / 30000 Steps) (loss=0.76622): 100%|██████████| 24/24 [00:15<00:00,  1.51it/s]\n",
      "Training (22343 / 30000 Steps) (loss=0.69892): 100%|██████████| 24/24 [00:15<00:00,  1.53it/s]\n",
      "Training (22367 / 30000 Steps) (loss=0.76665): 100%|██████████| 24/24 [00:15<00:00,  1.51it/s]\n",
      "Training (22391 / 30000 Steps) (loss=0.79074): 100%|██████████| 24/24 [00:15<00:00,  1.51it/s]\n",
      "Training (22415 / 30000 Steps) (loss=0.72808): 100%|██████████| 24/24 [00:16<00:00,  1.49it/s]\n",
      "Training (22439 / 30000 Steps) (loss=0.66042): 100%|██████████| 24/24 [00:16<00:00,  1.49it/s]\n",
      "Training (22463 / 30000 Steps) (loss=0.62341): 100%|██████████| 24/24 [00:15<00:00,  1.50it/s]\n",
      "Training (22487 / 30000 Steps) (loss=0.55556): 100%|██████████| 24/24 [00:15<00:00,  1.50it/s]\n",
      "Validate (22488 / 10 Steps): 100%|██████████| 6/6 [00:13<00:00,  2.21s/it]09<00:07,  1.66it/s]\n",
      "Training (22500 / 30000 Steps) (loss=0.63431):  54%|█████▍    | 13/24 [00:22<00:50,  4.62s/it]"
     ]
    },
    {
     "name": "stdout",
     "output_type": "stream",
     "text": [
      "Model Was Not Saved ! Current Best Avg. Dice: 0.7387893795967102 Current Avg. Dice: 0.7374822497367859\n"
     ]
    },
    {
     "name": "stderr",
     "output_type": "stream",
     "text": [
      "Training (22511 / 30000 Steps) (loss=0.54248): 100%|██████████| 24/24 [00:29<00:00,  1.22s/it]\n",
      "Training (22535 / 30000 Steps) (loss=0.50145): 100%|██████████| 24/24 [00:16<00:00,  1.50it/s]\n",
      "Training (22559 / 30000 Steps) (loss=0.79489): 100%|██████████| 24/24 [00:15<00:00,  1.52it/s]\n",
      "Training (22583 / 30000 Steps) (loss=0.66765): 100%|██████████| 24/24 [00:16<00:00,  1.49it/s]\n",
      "Training (22607 / 30000 Steps) (loss=0.67916): 100%|██████████| 24/24 [00:15<00:00,  1.55it/s]\n",
      "Training (22631 / 30000 Steps) (loss=0.70614): 100%|██████████| 24/24 [00:15<00:00,  1.51it/s]\n",
      "Training (22655 / 30000 Steps) (loss=0.82987): 100%|██████████| 24/24 [00:15<00:00,  1.51it/s]\n",
      "Training (22679 / 30000 Steps) (loss=0.74359): 100%|██████████| 24/24 [00:16<00:00,  1.47it/s]\n",
      "Training (22703 / 30000 Steps) (loss=0.60201): 100%|██████████| 24/24 [00:16<00:00,  1.46it/s]\n",
      "Training (22727 / 30000 Steps) (loss=0.64857): 100%|██████████| 24/24 [00:16<00:00,  1.50it/s]\n",
      "Training (22751 / 30000 Steps) (loss=0.63973): 100%|██████████| 24/24 [00:16<00:00,  1.50it/s]\n",
      "Training (22775 / 30000 Steps) (loss=0.77043): 100%|██████████| 24/24 [00:15<00:00,  1.53it/s]\n",
      "Training (22799 / 30000 Steps) (loss=0.67487): 100%|██████████| 24/24 [00:15<00:00,  1.53it/s]\n",
      "Training (22823 / 30000 Steps) (loss=0.76092): 100%|██████████| 24/24 [00:16<00:00,  1.49it/s]\n",
      "Training (22847 / 30000 Steps) (loss=0.73287): 100%|██████████| 24/24 [00:15<00:00,  1.53it/s]\n",
      "Training (22871 / 30000 Steps) (loss=0.66768): 100%|██████████| 24/24 [00:15<00:00,  1.52it/s]\n",
      "Training (22895 / 30000 Steps) (loss=0.79356): 100%|██████████| 24/24 [00:15<00:00,  1.52it/s]\n",
      "Training (22919 / 30000 Steps) (loss=0.64130): 100%|██████████| 24/24 [00:15<00:00,  1.53it/s]\n",
      "Training (22943 / 30000 Steps) (loss=0.63831): 100%|██████████| 24/24 [00:15<00:00,  1.52it/s]\n",
      "Training (22967 / 30000 Steps) (loss=0.56459): 100%|██████████| 24/24 [00:15<00:00,  1.54it/s]\n",
      "Training (22991 / 30000 Steps) (loss=0.57846): 100%|██████████| 24/24 [00:15<00:00,  1.54it/s]\n",
      "Validate (22992 / 10 Steps): 100%|██████████| 6/6 [00:13<00:00,  2.18s/it]7<00:10,  1.57it/s]\n",
      "Training (23000 / 30000 Steps) (loss=0.70914):  38%|███▊      | 9/24 [00:21<01:15,  5.02s/it]"
     ]
    },
    {
     "name": "stdout",
     "output_type": "stream",
     "text": [
      "Model Was Saved ! Current Best Avg. Dice: 0.7548649907112122 Current Avg. Dice: 0.7548649907112122\n"
     ]
    },
    {
     "name": "stderr",
     "output_type": "stream",
     "text": [
      "Training (23015 / 30000 Steps) (loss=0.76087): 100%|██████████| 24/24 [00:30<00:00,  1.26s/it]\n",
      "Training (23039 / 30000 Steps) (loss=0.62541): 100%|██████████| 24/24 [00:16<00:00,  1.50it/s]\n",
      "Training (23063 / 30000 Steps) (loss=0.71760): 100%|██████████| 24/24 [00:15<00:00,  1.50it/s]\n",
      "Training (23087 / 30000 Steps) (loss=0.64487): 100%|██████████| 24/24 [00:15<00:00,  1.52it/s]\n",
      "Training (23111 / 30000 Steps) (loss=0.77956): 100%|██████████| 24/24 [00:15<00:00,  1.54it/s]\n",
      "Training (23135 / 30000 Steps) (loss=0.72700): 100%|██████████| 24/24 [00:15<00:00,  1.51it/s]\n",
      "Training (23159 / 30000 Steps) (loss=0.61224): 100%|██████████| 24/24 [00:15<00:00,  1.50it/s]\n",
      "Training (23183 / 30000 Steps) (loss=0.72247): 100%|██████████| 24/24 [00:15<00:00,  1.52it/s]\n",
      "Training (23207 / 30000 Steps) (loss=0.57927): 100%|██████████| 24/24 [00:15<00:00,  1.55it/s]\n",
      "Training (23231 / 30000 Steps) (loss=0.76453): 100%|██████████| 24/24 [00:16<00:00,  1.50it/s]\n",
      "Training (23255 / 30000 Steps) (loss=0.75992): 100%|██████████| 24/24 [00:16<00:00,  1.49it/s]\n",
      "Training (23279 / 30000 Steps) (loss=0.67125): 100%|██████████| 24/24 [00:16<00:00,  1.48it/s]\n",
      "Training (23303 / 30000 Steps) (loss=0.58082): 100%|██████████| 24/24 [00:15<00:00,  1.51it/s]\n",
      "Training (23327 / 30000 Steps) (loss=0.73650): 100%|██████████| 24/24 [00:15<00:00,  1.51it/s]\n",
      "Training (23351 / 30000 Steps) (loss=0.67800): 100%|██████████| 24/24 [00:16<00:00,  1.49it/s]\n",
      "Training (23375 / 30000 Steps) (loss=0.56167): 100%|██████████| 24/24 [00:16<00:00,  1.48it/s]\n",
      "Training (23399 / 30000 Steps) (loss=0.56145): 100%|██████████| 24/24 [00:15<00:00,  1.51it/s]\n",
      "Training (23423 / 30000 Steps) (loss=0.75854): 100%|██████████| 24/24 [00:15<00:00,  1.50it/s]\n",
      "Training (23447 / 30000 Steps) (loss=0.56585): 100%|██████████| 24/24 [00:16<00:00,  1.48it/s]\n",
      "Training (23471 / 30000 Steps) (loss=0.47854): 100%|██████████| 24/24 [00:16<00:00,  1.49it/s]\n",
      "Training (23495 / 30000 Steps) (loss=0.69908): 100%|██████████| 24/24 [00:15<00:00,  1.53it/s]\n",
      "Validate (23496 / 10 Steps): 100%|██████████| 6/6 [00:13<00:00,  2.18s/it]4<00:16,  1.20it/s]\n",
      "Training (23500 / 30000 Steps) (loss=0.71937):  21%|██        | 5/24 [00:18<01:50,  5.84s/it]"
     ]
    },
    {
     "name": "stdout",
     "output_type": "stream",
     "text": [
      "Model Was Saved ! Current Best Avg. Dice: 0.772807776927948 Current Avg. Dice: 0.772807776927948\n"
     ]
    },
    {
     "name": "stderr",
     "output_type": "stream",
     "text": [
      "Training (23519 / 30000 Steps) (loss=0.55928): 100%|██████████| 24/24 [00:30<00:00,  1.26s/it]\n",
      "Training (23543 / 30000 Steps) (loss=0.81893): 100%|██████████| 24/24 [00:15<00:00,  1.50it/s]\n",
      "Training (23567 / 30000 Steps) (loss=0.65148): 100%|██████████| 24/24 [00:15<00:00,  1.52it/s]\n",
      "Training (23591 / 30000 Steps) (loss=0.80085): 100%|██████████| 24/24 [00:16<00:00,  1.50it/s]\n",
      "Training (23615 / 30000 Steps) (loss=0.71481): 100%|██████████| 24/24 [00:16<00:00,  1.48it/s]\n",
      "Training (23639 / 30000 Steps) (loss=0.66527): 100%|██████████| 24/24 [00:15<00:00,  1.52it/s]\n",
      "Training (23663 / 30000 Steps) (loss=0.49271): 100%|██████████| 24/24 [00:15<00:00,  1.51it/s]\n",
      "Training (23687 / 30000 Steps) (loss=0.92656): 100%|██████████| 24/24 [00:15<00:00,  1.53it/s]\n",
      "Training (23711 / 30000 Steps) (loss=0.50635): 100%|██████████| 24/24 [00:15<00:00,  1.52it/s]\n",
      "Training (23735 / 30000 Steps) (loss=0.73500): 100%|██████████| 24/24 [00:15<00:00,  1.52it/s]\n",
      "Training (23759 / 30000 Steps) (loss=0.64758): 100%|██████████| 24/24 [00:16<00:00,  1.49it/s]\n",
      "Training (23783 / 30000 Steps) (loss=0.75649): 100%|██████████| 24/24 [00:16<00:00,  1.49it/s]\n",
      "Training (23807 / 30000 Steps) (loss=0.95052): 100%|██████████| 24/24 [00:15<00:00,  1.52it/s]\n",
      "Training (23831 / 30000 Steps) (loss=0.60654): 100%|██████████| 24/24 [00:15<00:00,  1.54it/s]\n",
      "Training (23855 / 30000 Steps) (loss=0.70900): 100%|██████████| 24/24 [00:15<00:00,  1.54it/s]\n",
      "Training (23879 / 30000 Steps) (loss=0.82873): 100%|██████████| 24/24 [00:15<00:00,  1.53it/s]\n",
      "Training (23903 / 30000 Steps) (loss=0.74084): 100%|██████████| 24/24 [00:16<00:00,  1.48it/s]\n",
      "Training (23927 / 30000 Steps) (loss=0.51751): 100%|██████████| 24/24 [00:16<00:00,  1.47it/s]\n",
      "Training (23951 / 30000 Steps) (loss=0.77589): 100%|██████████| 24/24 [00:16<00:00,  1.46it/s]\n",
      "Training (23975 / 30000 Steps) (loss=0.76635): 100%|██████████| 24/24 [00:15<00:00,  1.53it/s]\n",
      "Training (23999 / 30000 Steps) (loss=0.85650): 100%|██████████| 24/24 [00:15<00:00,  1.54it/s]\n",
      "Validate (24000 / 10 Steps): 100%|██████████| 6/6 [00:13<00:00,  2.18s/it]2<?, ?it/s]\n",
      "Training (24000 / 30000 Steps) (loss=0.77665):   4%|▍         | 1/24 [00:16<06:14, 16.27s/it]"
     ]
    },
    {
     "name": "stdout",
     "output_type": "stream",
     "text": [
      "Model Was Saved ! Current Best Avg. Dice: 0.7735994458198547 Current Avg. Dice: 0.7735994458198547\n"
     ]
    },
    {
     "name": "stderr",
     "output_type": "stream",
     "text": [
      "Training (24023 / 30000 Steps) (loss=0.57805): 100%|██████████| 24/24 [00:30<00:00,  1.25s/it]\n",
      "Training (24047 / 30000 Steps) (loss=0.76118): 100%|██████████| 24/24 [00:15<00:00,  1.52it/s]\n",
      "Training (24071 / 30000 Steps) (loss=0.57533): 100%|██████████| 24/24 [00:15<00:00,  1.52it/s]\n",
      "Training (24095 / 30000 Steps) (loss=0.77762): 100%|██████████| 24/24 [00:15<00:00,  1.50it/s]\n",
      "Training (24119 / 30000 Steps) (loss=0.81279): 100%|██████████| 24/24 [00:15<00:00,  1.50it/s]\n",
      "Training (24143 / 30000 Steps) (loss=0.60494): 100%|██████████| 24/24 [00:16<00:00,  1.50it/s]\n",
      "Training (24167 / 30000 Steps) (loss=0.81764): 100%|██████████| 24/24 [00:15<00:00,  1.52it/s]\n",
      "Training (24191 / 30000 Steps) (loss=0.80214): 100%|██████████| 24/24 [00:15<00:00,  1.51it/s]\n",
      "Training (24215 / 30000 Steps) (loss=0.64930): 100%|██████████| 24/24 [00:15<00:00,  1.50it/s]\n",
      "Training (24239 / 30000 Steps) (loss=0.70887): 100%|██████████| 24/24 [00:15<00:00,  1.52it/s]\n",
      "Training (24263 / 30000 Steps) (loss=0.69885): 100%|██████████| 24/24 [00:15<00:00,  1.53it/s]\n",
      "Training (24287 / 30000 Steps) (loss=0.78587): 100%|██████████| 24/24 [00:15<00:00,  1.51it/s]\n",
      "Training (24311 / 30000 Steps) (loss=0.56058): 100%|██████████| 24/24 [00:15<00:00,  1.51it/s]\n",
      "Training (24335 / 30000 Steps) (loss=0.61946): 100%|██████████| 24/24 [00:15<00:00,  1.51it/s]\n",
      "Training (24359 / 30000 Steps) (loss=1.04893): 100%|██████████| 24/24 [00:16<00:00,  1.49it/s]\n",
      "Training (24383 / 30000 Steps) (loss=0.74854): 100%|██████████| 24/24 [00:16<00:00,  1.50it/s]\n",
      "Training (24407 / 30000 Steps) (loss=0.86921): 100%|██████████| 24/24 [00:16<00:00,  1.48it/s]\n",
      "Training (24431 / 30000 Steps) (loss=0.74775): 100%|██████████| 24/24 [00:15<00:00,  1.51it/s]\n",
      "Training (24455 / 30000 Steps) (loss=0.57711): 100%|██████████| 24/24 [00:15<00:00,  1.50it/s]\n",
      "Training (24479 / 30000 Steps) (loss=0.73562): 100%|██████████| 24/24 [00:15<00:00,  1.51it/s]\n",
      "Validate (24480 / 10 Steps): 100%|██████████| 6/6 [00:13<00:00,  2.21s/it]13<00:02,  1.71it/s]\n",
      "Training (24500 / 30000 Steps) (loss=0.89808):  88%|████████▊ | 21/24 [00:27<00:13,  4.57s/it]"
     ]
    },
    {
     "name": "stdout",
     "output_type": "stream",
     "text": [
      "Model Was Not Saved ! Current Best Avg. Dice: 0.7735994458198547 Current Avg. Dice: 0.7560561299324036\n"
     ]
    },
    {
     "name": "stderr",
     "output_type": "stream",
     "text": [
      "Training (24503 / 30000 Steps) (loss=0.77002): 100%|██████████| 24/24 [00:29<00:00,  1.22s/it]\n",
      "Training (24527 / 30000 Steps) (loss=0.62647): 100%|██████████| 24/24 [00:16<00:00,  1.49it/s]\n",
      "Training (24551 / 30000 Steps) (loss=0.58896): 100%|██████████| 24/24 [00:15<00:00,  1.50it/s]\n",
      "Training (24575 / 30000 Steps) (loss=0.71491): 100%|██████████| 24/24 [00:15<00:00,  1.52it/s]\n",
      "Training (24599 / 30000 Steps) (loss=0.80913): 100%|██████████| 24/24 [00:15<00:00,  1.51it/s]\n",
      "Training (24623 / 30000 Steps) (loss=0.74001): 100%|██████████| 24/24 [00:16<00:00,  1.49it/s]\n",
      "Training (24647 / 30000 Steps) (loss=0.65978): 100%|██████████| 24/24 [00:15<00:00,  1.52it/s]\n",
      "Training (24671 / 30000 Steps) (loss=0.70848): 100%|██████████| 24/24 [00:16<00:00,  1.48it/s]\n",
      "Training (24695 / 30000 Steps) (loss=0.42560): 100%|██████████| 24/24 [00:16<00:00,  1.49it/s]\n",
      "Training (24719 / 30000 Steps) (loss=0.82857): 100%|██████████| 24/24 [00:15<00:00,  1.53it/s]\n",
      "Training (24743 / 30000 Steps) (loss=0.73793): 100%|██████████| 24/24 [00:15<00:00,  1.54it/s]\n",
      "Training (24767 / 30000 Steps) (loss=0.75428): 100%|██████████| 24/24 [00:15<00:00,  1.50it/s]\n",
      "Training (24791 / 30000 Steps) (loss=0.47858): 100%|██████████| 24/24 [00:16<00:00,  1.50it/s]\n",
      "Training (24815 / 30000 Steps) (loss=0.69401): 100%|██████████| 24/24 [00:15<00:00,  1.51it/s]\n",
      "Training (24839 / 30000 Steps) (loss=0.58917): 100%|██████████| 24/24 [00:15<00:00,  1.52it/s]\n",
      "Training (24863 / 30000 Steps) (loss=0.74440): 100%|██████████| 24/24 [00:15<00:00,  1.52it/s]\n",
      "Training (24887 / 30000 Steps) (loss=0.71004): 100%|██████████| 24/24 [00:16<00:00,  1.50it/s]\n",
      "Training (24911 / 30000 Steps) (loss=0.55797): 100%|██████████| 24/24 [00:15<00:00,  1.51it/s]\n",
      "Training (24935 / 30000 Steps) (loss=0.82198): 100%|██████████| 24/24 [00:15<00:00,  1.52it/s]\n",
      "Training (24959 / 30000 Steps) (loss=0.53725): 100%|██████████| 24/24 [00:16<00:00,  1.47it/s]\n",
      "Training (24983 / 30000 Steps) (loss=0.81433): 100%|██████████| 24/24 [00:15<00:00,  1.53it/s]\n",
      "Validate (24984 / 10 Steps): 100%|██████████| 6/6 [00:13<00:00,  2.19s/it]11<00:04,  1.69it/s]\n",
      "Training (25000 / 30000 Steps) (loss=0.77665):  71%|███████   | 17/24 [00:25<00:33,  4.83s/it]"
     ]
    },
    {
     "name": "stdout",
     "output_type": "stream",
     "text": [
      "Model Was Saved ! Current Best Avg. Dice: 0.7743696570396423 Current Avg. Dice: 0.7743696570396423\n"
     ]
    },
    {
     "name": "stderr",
     "output_type": "stream",
     "text": [
      "Training (25007 / 30000 Steps) (loss=0.54924): 100%|██████████| 24/24 [00:29<00:00,  1.24s/it]\n",
      "Training (25031 / 30000 Steps) (loss=0.84635): 100%|██████████| 24/24 [00:16<00:00,  1.47it/s]\n",
      "Training (25055 / 30000 Steps) (loss=0.74712): 100%|██████████| 24/24 [00:16<00:00,  1.49it/s]\n",
      "Training (25079 / 30000 Steps) (loss=0.75487): 100%|██████████| 24/24 [00:16<00:00,  1.49it/s]\n",
      "Training (25103 / 30000 Steps) (loss=0.56059): 100%|██████████| 24/24 [00:15<00:00,  1.51it/s]\n",
      "Training (25127 / 30000 Steps) (loss=0.67109): 100%|██████████| 24/24 [00:15<00:00,  1.51it/s]\n",
      "Training (25151 / 30000 Steps) (loss=0.90192): 100%|██████████| 24/24 [00:15<00:00,  1.52it/s]\n",
      "Training (25175 / 30000 Steps) (loss=0.75523): 100%|██████████| 24/24 [00:15<00:00,  1.52it/s]\n",
      "Training (25199 / 30000 Steps) (loss=0.68355): 100%|██████████| 24/24 [00:15<00:00,  1.52it/s]\n",
      "Training (25223 / 30000 Steps) (loss=0.70065): 100%|██████████| 24/24 [00:15<00:00,  1.52it/s]\n",
      "Training (25247 / 30000 Steps) (loss=0.57925): 100%|██████████| 24/24 [00:16<00:00,  1.48it/s]\n",
      "Training (25271 / 30000 Steps) (loss=0.71697): 100%|██████████| 24/24 [00:16<00:00,  1.50it/s]\n",
      "Training (25295 / 30000 Steps) (loss=0.62362): 100%|██████████| 24/24 [00:16<00:00,  1.48it/s]\n",
      "Training (25319 / 30000 Steps) (loss=0.59972): 100%|██████████| 24/24 [00:15<00:00,  1.52it/s]\n",
      "Training (25343 / 30000 Steps) (loss=0.61665): 100%|██████████| 24/24 [00:15<00:00,  1.52it/s]\n",
      "Training (25367 / 30000 Steps) (loss=0.77241): 100%|██████████| 24/24 [00:15<00:00,  1.53it/s]\n",
      "Training (25391 / 30000 Steps) (loss=0.79747): 100%|██████████| 24/24 [00:16<00:00,  1.47it/s]\n",
      "Training (25415 / 30000 Steps) (loss=0.81793): 100%|██████████| 24/24 [00:15<00:00,  1.51it/s]\n",
      "Training (25439 / 30000 Steps) (loss=0.62061): 100%|██████████| 24/24 [00:15<00:00,  1.54it/s]\n",
      "Training (25463 / 30000 Steps) (loss=0.77515): 100%|██████████| 24/24 [00:15<00:00,  1.55it/s]\n",
      "Training (25487 / 30000 Steps) (loss=0.44438): 100%|██████████| 24/24 [00:16<00:00,  1.50it/s]\n",
      "Validate (25488 / 10 Steps): 100%|██████████| 6/6 [00:13<00:00,  2.20s/it]09<00:07,  1.67it/s]\n",
      "Training (25500 / 30000 Steps) (loss=0.72918):  54%|█████▍    | 13/24 [00:23<00:53,  4.86s/it]"
     ]
    },
    {
     "name": "stdout",
     "output_type": "stream",
     "text": [
      "Model Was Saved ! Current Best Avg. Dice: 0.7911171913146973 Current Avg. Dice: 0.7911171913146973\n"
     ]
    },
    {
     "name": "stderr",
     "output_type": "stream",
     "text": [
      "Training (25511 / 30000 Steps) (loss=0.79203): 100%|██████████| 24/24 [00:30<00:00,  1.26s/it]\n",
      "Training (25535 / 30000 Steps) (loss=0.76156): 100%|██████████| 24/24 [00:15<00:00,  1.54it/s]\n",
      "Training (25559 / 30000 Steps) (loss=0.71032): 100%|██████████| 24/24 [00:16<00:00,  1.46it/s]\n",
      "Training (25583 / 30000 Steps) (loss=0.68581): 100%|██████████| 24/24 [00:16<00:00,  1.47it/s]\n",
      "Training (25607 / 30000 Steps) (loss=0.64979): 100%|██████████| 24/24 [00:15<00:00,  1.50it/s]\n",
      "Training (25631 / 30000 Steps) (loss=0.78816): 100%|██████████| 24/24 [00:15<00:00,  1.51it/s]\n",
      "Training (25655 / 30000 Steps) (loss=0.64237): 100%|██████████| 24/24 [00:15<00:00,  1.50it/s]\n",
      "Training (25679 / 30000 Steps) (loss=0.72565): 100%|██████████| 24/24 [00:16<00:00,  1.49it/s]\n",
      "Training (25703 / 30000 Steps) (loss=0.51697): 100%|██████████| 24/24 [00:15<00:00,  1.51it/s]\n",
      "Training (25727 / 30000 Steps) (loss=0.53738): 100%|██████████| 24/24 [00:15<00:00,  1.52it/s]\n",
      "Training (25751 / 30000 Steps) (loss=0.60590): 100%|██████████| 24/24 [00:15<00:00,  1.52it/s]\n",
      "Training (25775 / 30000 Steps) (loss=0.80493): 100%|██████████| 24/24 [00:16<00:00,  1.48it/s]\n",
      "Training (25799 / 30000 Steps) (loss=0.71507): 100%|██████████| 24/24 [00:15<00:00,  1.51it/s]\n",
      "Training (25823 / 30000 Steps) (loss=0.72022): 100%|██████████| 24/24 [00:16<00:00,  1.46it/s]\n",
      "Training (25847 / 30000 Steps) (loss=0.71167): 100%|██████████| 24/24 [00:15<00:00,  1.50it/s]\n",
      "Training (25871 / 30000 Steps) (loss=0.58293): 100%|██████████| 24/24 [00:15<00:00,  1.54it/s]\n",
      "Training (25895 / 30000 Steps) (loss=0.75071): 100%|██████████| 24/24 [00:16<00:00,  1.50it/s]\n",
      "Training (25919 / 30000 Steps) (loss=0.59732): 100%|██████████| 24/24 [00:15<00:00,  1.53it/s]\n",
      "Training (25943 / 30000 Steps) (loss=0.56665): 100%|██████████| 24/24 [00:15<00:00,  1.54it/s]\n",
      "Training (25967 / 30000 Steps) (loss=0.79438): 100%|██████████| 24/24 [00:16<00:00,  1.50it/s]\n",
      "Training (25991 / 30000 Steps) (loss=0.50815): 100%|██████████| 24/24 [00:16<00:00,  1.49it/s]\n",
      "Validate (25992 / 10 Steps): 100%|██████████| 6/6 [00:13<00:00,  2.19s/it]7<00:10,  1.57it/s]\n",
      "Training (26000 / 30000 Steps) (loss=0.45819):  38%|███▊      | 9/24 [00:20<01:11,  4.74s/it]"
     ]
    },
    {
     "name": "stdout",
     "output_type": "stream",
     "text": [
      "Model Was Not Saved ! Current Best Avg. Dice: 0.7911171913146973 Current Avg. Dice: 0.7868929505348206\n"
     ]
    },
    {
     "name": "stderr",
     "output_type": "stream",
     "text": [
      "Training (26015 / 30000 Steps) (loss=0.78447): 100%|██████████| 24/24 [00:29<00:00,  1.22s/it]\n",
      "Training (26039 / 30000 Steps) (loss=0.74679): 100%|██████████| 24/24 [00:15<00:00,  1.51it/s]\n",
      "Training (26063 / 30000 Steps) (loss=0.70098): 100%|██████████| 24/24 [00:16<00:00,  1.49it/s]\n",
      "Training (26087 / 30000 Steps) (loss=0.80613): 100%|██████████| 24/24 [00:16<00:00,  1.50it/s]\n",
      "Training (26111 / 30000 Steps) (loss=0.72251): 100%|██████████| 24/24 [00:15<00:00,  1.52it/s]\n",
      "Training (26135 / 30000 Steps) (loss=0.89231): 100%|██████████| 24/24 [00:15<00:00,  1.51it/s]\n",
      "Training (26159 / 30000 Steps) (loss=0.56149): 100%|██████████| 24/24 [00:16<00:00,  1.49it/s]\n",
      "Training (26183 / 30000 Steps) (loss=0.59420): 100%|██████████| 24/24 [00:15<00:00,  1.50it/s]\n",
      "Training (26207 / 30000 Steps) (loss=0.86910): 100%|██████████| 24/24 [00:15<00:00,  1.55it/s]\n",
      "Training (26231 / 30000 Steps) (loss=0.65616): 100%|██████████| 24/24 [00:16<00:00,  1.49it/s]\n",
      "Training (26255 / 30000 Steps) (loss=0.78136): 100%|██████████| 24/24 [00:16<00:00,  1.49it/s]\n",
      "Training (26279 / 30000 Steps) (loss=0.67946): 100%|██████████| 24/24 [00:15<00:00,  1.50it/s]\n",
      "Training (26303 / 30000 Steps) (loss=0.80328): 100%|██████████| 24/24 [00:15<00:00,  1.50it/s]\n",
      "Training (26327 / 30000 Steps) (loss=0.69346): 100%|██████████| 24/24 [00:16<00:00,  1.49it/s]\n",
      "Training (26351 / 30000 Steps) (loss=0.72710): 100%|██████████| 24/24 [00:15<00:00,  1.54it/s]\n",
      "Training (26375 / 30000 Steps) (loss=0.71918): 100%|██████████| 24/24 [00:15<00:00,  1.51it/s]\n",
      "Training (26399 / 30000 Steps) (loss=0.64897): 100%|██████████| 24/24 [00:16<00:00,  1.49it/s]\n",
      "Training (26423 / 30000 Steps) (loss=0.72359): 100%|██████████| 24/24 [00:16<00:00,  1.49it/s]\n",
      "Training (26447 / 30000 Steps) (loss=0.77513): 100%|██████████| 24/24 [00:16<00:00,  1.49it/s]\n",
      "Training (26471 / 30000 Steps) (loss=0.80232): 100%|██████████| 24/24 [00:15<00:00,  1.50it/s]\n",
      "Training (26495 / 30000 Steps) (loss=0.64242): 100%|██████████| 24/24 [00:16<00:00,  1.48it/s]\n",
      "Validate (26496 / 10 Steps): 100%|██████████| 6/6 [00:13<00:00,  2.19s/it]4<00:15,  1.32it/s]\n",
      "Training (26500 / 30000 Steps) (loss=0.45759):  21%|██        | 5/24 [00:17<01:43,  5.44s/it]"
     ]
    },
    {
     "name": "stdout",
     "output_type": "stream",
     "text": [
      "Model Was Not Saved ! Current Best Avg. Dice: 0.7911171913146973 Current Avg. Dice: 0.7850268483161926\n"
     ]
    },
    {
     "name": "stderr",
     "output_type": "stream",
     "text": [
      "Training (26519 / 30000 Steps) (loss=0.57788): 100%|██████████| 24/24 [00:28<00:00,  1.20s/it]\n",
      "Training (26543 / 30000 Steps) (loss=0.63661): 100%|██████████| 24/24 [00:16<00:00,  1.46it/s]\n",
      "Training (26567 / 30000 Steps) (loss=0.80975): 100%|██████████| 24/24 [00:15<00:00,  1.50it/s]\n",
      "Training (26591 / 30000 Steps) (loss=0.59092): 100%|██████████| 24/24 [00:15<00:00,  1.52it/s]\n",
      "Training (26615 / 30000 Steps) (loss=0.56299): 100%|██████████| 24/24 [00:15<00:00,  1.51it/s]\n",
      "Training (26639 / 30000 Steps) (loss=0.55844): 100%|██████████| 24/24 [00:15<00:00,  1.52it/s]\n",
      "Training (26663 / 30000 Steps) (loss=0.81307): 100%|██████████| 24/24 [00:15<00:00,  1.51it/s]\n",
      "Training (26687 / 30000 Steps) (loss=0.77092): 100%|██████████| 24/24 [00:15<00:00,  1.51it/s]\n",
      "Training (26711 / 30000 Steps) (loss=0.42453): 100%|██████████| 24/24 [00:16<00:00,  1.50it/s]\n",
      "Training (26735 / 30000 Steps) (loss=0.69431): 100%|██████████| 24/24 [00:15<00:00,  1.51it/s]\n",
      "Training (26759 / 30000 Steps) (loss=0.49795): 100%|██████████| 24/24 [00:16<00:00,  1.45it/s]\n",
      "Training (26783 / 30000 Steps) (loss=0.69910): 100%|██████████| 24/24 [00:16<00:00,  1.49it/s]\n",
      "Training (26807 / 30000 Steps) (loss=0.65046): 100%|██████████| 24/24 [00:15<00:00,  1.51it/s]\n",
      "Training (26831 / 30000 Steps) (loss=0.70915): 100%|██████████| 24/24 [00:16<00:00,  1.48it/s]\n",
      "Training (26855 / 30000 Steps) (loss=0.59802): 100%|██████████| 24/24 [00:16<00:00,  1.48it/s]\n",
      "Training (26879 / 30000 Steps) (loss=0.79556): 100%|██████████| 24/24 [00:16<00:00,  1.49it/s]\n",
      "Training (26903 / 30000 Steps) (loss=0.49177): 100%|██████████| 24/24 [00:16<00:00,  1.49it/s]\n",
      "Training (26927 / 30000 Steps) (loss=0.86517): 100%|██████████| 24/24 [00:15<00:00,  1.51it/s]\n",
      "Training (26951 / 30000 Steps) (loss=0.78061): 100%|██████████| 24/24 [00:16<00:00,  1.49it/s]\n",
      "Training (26975 / 30000 Steps) (loss=0.48693): 100%|██████████| 24/24 [00:16<00:00,  1.50it/s]\n",
      "Training (26999 / 30000 Steps) (loss=0.47208): 100%|██████████| 24/24 [00:15<00:00,  1.54it/s]\n",
      "Validate (27000 / 10 Steps): 100%|██████████| 6/6 [00:13<00:00,  2.25s/it]2<?, ?it/s]\n",
      "Training (27000 / 30000 Steps) (loss=0.69215):   4%|▍         | 1/24 [00:15<06:01, 15.74s/it]"
     ]
    },
    {
     "name": "stdout",
     "output_type": "stream",
     "text": [
      "Model Was Not Saved ! Current Best Avg. Dice: 0.7911171913146973 Current Avg. Dice: 0.790436327457428\n"
     ]
    },
    {
     "name": "stderr",
     "output_type": "stream",
     "text": [
      "Training (27023 / 30000 Steps) (loss=0.69833): 100%|██████████| 24/24 [00:29<00:00,  1.23s/it]\n",
      "Training (27047 / 30000 Steps) (loss=0.68634): 100%|██████████| 24/24 [00:16<00:00,  1.49it/s]\n",
      "Training (27071 / 30000 Steps) (loss=0.74166): 100%|██████████| 24/24 [00:15<00:00,  1.52it/s]\n",
      "Training (27095 / 30000 Steps) (loss=0.86525): 100%|██████████| 24/24 [00:16<00:00,  1.50it/s]\n",
      "Training (27119 / 30000 Steps) (loss=0.66214): 100%|██████████| 24/24 [00:16<00:00,  1.49it/s]\n",
      "Training (27143 / 30000 Steps) (loss=0.58955): 100%|██████████| 24/24 [00:15<00:00,  1.50it/s]\n",
      "Training (27167 / 30000 Steps) (loss=0.97665): 100%|██████████| 24/24 [00:16<00:00,  1.49it/s]\n",
      "Training (27191 / 30000 Steps) (loss=0.78267): 100%|██████████| 24/24 [00:16<00:00,  1.49it/s]\n",
      "Training (27215 / 30000 Steps) (loss=0.58530): 100%|██████████| 24/24 [00:15<00:00,  1.51it/s]\n",
      "Training (27239 / 30000 Steps) (loss=0.69442): 100%|██████████| 24/24 [00:15<00:00,  1.51it/s]\n",
      "Training (27263 / 30000 Steps) (loss=0.84265): 100%|██████████| 24/24 [00:15<00:00,  1.53it/s]\n",
      "Training (27287 / 30000 Steps) (loss=0.66385): 100%|██████████| 24/24 [00:15<00:00,  1.55it/s]\n",
      "Training (27311 / 30000 Steps) (loss=0.80700): 100%|██████████| 24/24 [00:15<00:00,  1.51it/s]\n",
      "Training (27335 / 30000 Steps) (loss=0.83662): 100%|██████████| 24/24 [00:16<00:00,  1.50it/s]\n",
      "Training (27359 / 30000 Steps) (loss=0.72403): 100%|██████████| 24/24 [00:15<00:00,  1.50it/s]\n",
      "Training (27383 / 30000 Steps) (loss=0.76308): 100%|██████████| 24/24 [00:16<00:00,  1.49it/s]\n",
      "Training (27407 / 30000 Steps) (loss=0.72075): 100%|██████████| 24/24 [00:15<00:00,  1.52it/s]\n",
      "Training (27431 / 30000 Steps) (loss=0.66046): 100%|██████████| 24/24 [00:16<00:00,  1.48it/s]\n",
      "Training (27455 / 30000 Steps) (loss=0.65938): 100%|██████████| 24/24 [00:16<00:00,  1.48it/s]\n",
      "Training (27479 / 30000 Steps) (loss=0.78428): 100%|██████████| 24/24 [00:15<00:00,  1.54it/s]\n",
      "Validate (27480 / 10 Steps): 100%|██████████| 6/6 [00:13<00:00,  2.22s/it]13<00:02,  1.70it/s]\n",
      "Training (27500 / 30000 Steps) (loss=0.74961):  88%|████████▊ | 21/24 [00:26<00:13,  4.59s/it]"
     ]
    },
    {
     "name": "stdout",
     "output_type": "stream",
     "text": [
      "Model Was Not Saved ! Current Best Avg. Dice: 0.7911171913146973 Current Avg. Dice: 0.7649059295654297\n"
     ]
    },
    {
     "name": "stderr",
     "output_type": "stream",
     "text": [
      "Training (27503 / 30000 Steps) (loss=0.69942): 100%|██████████| 24/24 [00:28<00:00,  1.21s/it]\n",
      "Training (27527 / 30000 Steps) (loss=0.71495): 100%|██████████| 24/24 [00:16<00:00,  1.48it/s]\n",
      "Training (27551 / 30000 Steps) (loss=0.65619): 100%|██████████| 24/24 [00:15<00:00,  1.52it/s]\n",
      "Training (27575 / 30000 Steps) (loss=0.74799): 100%|██████████| 24/24 [00:16<00:00,  1.49it/s]\n",
      "Training (27599 / 30000 Steps) (loss=0.75772): 100%|██████████| 24/24 [00:15<00:00,  1.54it/s]\n",
      "Training (27623 / 30000 Steps) (loss=0.48977): 100%|██████████| 24/24 [00:15<00:00,  1.52it/s]\n",
      "Training (27647 / 30000 Steps) (loss=0.66981): 100%|██████████| 24/24 [00:16<00:00,  1.49it/s]\n",
      "Training (27671 / 30000 Steps) (loss=0.47754): 100%|██████████| 24/24 [00:16<00:00,  1.50it/s]\n",
      "Training (27695 / 30000 Steps) (loss=0.80056): 100%|██████████| 24/24 [00:15<00:00,  1.50it/s]\n",
      "Training (27719 / 30000 Steps) (loss=0.64690): 100%|██████████| 24/24 [00:15<00:00,  1.52it/s]\n",
      "Training (27743 / 30000 Steps) (loss=0.71264): 100%|██████████| 24/24 [00:16<00:00,  1.48it/s]\n",
      "Training (27767 / 30000 Steps) (loss=0.67745): 100%|██████████| 24/24 [00:15<00:00,  1.53it/s]\n",
      "Training (27791 / 30000 Steps) (loss=0.56570): 100%|██████████| 24/24 [00:16<00:00,  1.49it/s]\n",
      "Training (27815 / 30000 Steps) (loss=0.81662): 100%|██████████| 24/24 [00:15<00:00,  1.53it/s]\n",
      "Training (27839 / 30000 Steps) (loss=0.74192): 100%|██████████| 24/24 [00:16<00:00,  1.50it/s]\n",
      "Training (27863 / 30000 Steps) (loss=0.64422): 100%|██████████| 24/24 [00:15<00:00,  1.53it/s]\n",
      "Training (27887 / 30000 Steps) (loss=0.73827): 100%|██████████| 24/24 [00:15<00:00,  1.55it/s]\n",
      "Training (27911 / 30000 Steps) (loss=0.72638): 100%|██████████| 24/24 [00:16<00:00,  1.50it/s]\n",
      "Training (27935 / 30000 Steps) (loss=0.69626): 100%|██████████| 24/24 [00:15<00:00,  1.51it/s]\n",
      "Training (27959 / 30000 Steps) (loss=0.76795): 100%|██████████| 24/24 [00:15<00:00,  1.51it/s]\n",
      "Training (27983 / 30000 Steps) (loss=0.80678): 100%|██████████| 24/24 [00:15<00:00,  1.54it/s]\n",
      "Validate (27984 / 10 Steps): 100%|██████████| 6/6 [00:13<00:00,  2.21s/it]11<00:04,  1.70it/s]\n",
      "Training (28000 / 30000 Steps) (loss=0.72074):  71%|███████   | 17/24 [00:25<00:32,  4.58s/it]"
     ]
    },
    {
     "name": "stdout",
     "output_type": "stream",
     "text": [
      "Model Was Not Saved ! Current Best Avg. Dice: 0.7911171913146973 Current Avg. Dice: 0.7773945331573486\n"
     ]
    },
    {
     "name": "stderr",
     "output_type": "stream",
     "text": [
      "Training (28007 / 30000 Steps) (loss=0.78996): 100%|██████████| 24/24 [00:29<00:00,  1.22s/it]\n",
      "Training (28031 / 30000 Steps) (loss=0.52912): 100%|██████████| 24/24 [00:15<00:00,  1.52it/s]\n",
      "Training (28055 / 30000 Steps) (loss=0.82429): 100%|██████████| 24/24 [00:15<00:00,  1.53it/s]\n",
      "Training (28079 / 30000 Steps) (loss=0.93156): 100%|██████████| 24/24 [00:15<00:00,  1.51it/s]\n",
      "Training (28103 / 30000 Steps) (loss=0.73780): 100%|██████████| 24/24 [00:15<00:00,  1.53it/s]\n",
      "Training (28127 / 30000 Steps) (loss=0.60230): 100%|██████████| 24/24 [00:16<00:00,  1.50it/s]\n",
      "Training (28151 / 30000 Steps) (loss=0.67722): 100%|██████████| 24/24 [00:15<00:00,  1.50it/s]\n",
      "Training (28175 / 30000 Steps) (loss=0.74744): 100%|██████████| 24/24 [00:16<00:00,  1.48it/s]\n",
      "Training (28199 / 30000 Steps) (loss=0.56588): 100%|██████████| 24/24 [00:15<00:00,  1.51it/s]\n",
      "Training (28223 / 30000 Steps) (loss=0.71927): 100%|██████████| 24/24 [00:16<00:00,  1.48it/s]\n",
      "Training (28247 / 30000 Steps) (loss=0.68257): 100%|██████████| 24/24 [00:15<00:00,  1.51it/s]\n",
      "Training (28271 / 30000 Steps) (loss=0.56483): 100%|██████████| 24/24 [00:15<00:00,  1.50it/s]\n",
      "Training (28295 / 30000 Steps) (loss=0.64209): 100%|██████████| 24/24 [00:15<00:00,  1.51it/s]\n",
      "Training (28319 / 30000 Steps) (loss=0.85434): 100%|██████████| 24/24 [00:16<00:00,  1.47it/s]\n",
      "Training (28343 / 30000 Steps) (loss=0.72562): 100%|██████████| 24/24 [00:16<00:00,  1.45it/s]\n",
      "Training (28367 / 30000 Steps) (loss=0.55208): 100%|██████████| 24/24 [00:16<00:00,  1.47it/s]\n",
      "Training (28391 / 30000 Steps) (loss=0.61765): 100%|██████████| 24/24 [00:16<00:00,  1.49it/s]\n",
      "Training (28415 / 30000 Steps) (loss=0.54121): 100%|██████████| 24/24 [00:15<00:00,  1.53it/s]\n",
      "Training (28439 / 30000 Steps) (loss=0.87882): 100%|██████████| 24/24 [00:15<00:00,  1.54it/s]\n",
      "Training (28463 / 30000 Steps) (loss=0.73481): 100%|██████████| 24/24 [00:15<00:00,  1.52it/s]\n",
      "Training (28487 / 30000 Steps) (loss=0.66954): 100%|██████████| 24/24 [00:16<00:00,  1.49it/s]\n",
      "Validate (28488 / 10 Steps): 100%|██████████| 6/6 [00:13<00:00,  2.20s/it]09<00:07,  1.68it/s]\n",
      "Training (28500 / 30000 Steps) (loss=0.69074):  54%|█████▍    | 13/24 [00:22<00:50,  4.60s/it]"
     ]
    },
    {
     "name": "stdout",
     "output_type": "stream",
     "text": [
      "Model Was Not Saved ! Current Best Avg. Dice: 0.7911171913146973 Current Avg. Dice: 0.7790201306343079\n"
     ]
    },
    {
     "name": "stderr",
     "output_type": "stream",
     "text": [
      "Training (28511 / 30000 Steps) (loss=0.38883): 100%|██████████| 24/24 [00:29<00:00,  1.21s/it]\n",
      "Training (28535 / 30000 Steps) (loss=0.65141): 100%|██████████| 24/24 [00:15<00:00,  1.51it/s]\n",
      "Training (28559 / 30000 Steps) (loss=0.74571): 100%|██████████| 24/24 [00:15<00:00,  1.53it/s]\n",
      "Training (28583 / 30000 Steps) (loss=0.66976): 100%|██████████| 24/24 [00:15<00:00,  1.51it/s]\n",
      "Training (28607 / 30000 Steps) (loss=1.19249): 100%|██████████| 24/24 [00:16<00:00,  1.44it/s]\n",
      "Training (28631 / 30000 Steps) (loss=1.14915): 100%|██████████| 24/24 [00:15<00:00,  1.50it/s]\n",
      "Training (28655 / 30000 Steps) (loss=0.84335): 100%|██████████| 24/24 [00:16<00:00,  1.49it/s]\n",
      "Training (28679 / 30000 Steps) (loss=0.76421): 100%|██████████| 24/24 [00:16<00:00,  1.48it/s]\n",
      "Training (28703 / 30000 Steps) (loss=0.82570): 100%|██████████| 24/24 [00:15<00:00,  1.53it/s]\n",
      "Training (28727 / 30000 Steps) (loss=0.71857): 100%|██████████| 24/24 [00:16<00:00,  1.49it/s]\n",
      "Training (28751 / 30000 Steps) (loss=0.86453): 100%|██████████| 24/24 [00:15<00:00,  1.51it/s]\n",
      "Training (28775 / 30000 Steps) (loss=0.89201): 100%|██████████| 24/24 [00:15<00:00,  1.54it/s]\n",
      "Training (28799 / 30000 Steps) (loss=0.78327): 100%|██████████| 24/24 [00:15<00:00,  1.52it/s]\n",
      "Training (28823 / 30000 Steps) (loss=0.82605): 100%|██████████| 24/24 [00:16<00:00,  1.49it/s]\n",
      "Training (28847 / 30000 Steps) (loss=0.80008): 100%|██████████| 24/24 [00:15<00:00,  1.50it/s]\n",
      "Training (28871 / 30000 Steps) (loss=0.52724): 100%|██████████| 24/24 [00:16<00:00,  1.47it/s]\n",
      "Training (28895 / 30000 Steps) (loss=0.71123): 100%|██████████| 24/24 [00:15<00:00,  1.50it/s]\n",
      "Training (28919 / 30000 Steps) (loss=0.69812): 100%|██████████| 24/24 [00:15<00:00,  1.52it/s]\n",
      "Training (28943 / 30000 Steps) (loss=0.62749): 100%|██████████| 24/24 [00:15<00:00,  1.50it/s]\n",
      "Training (28967 / 30000 Steps) (loss=0.89836): 100%|██████████| 24/24 [00:15<00:00,  1.53it/s]\n",
      "Training (28991 / 30000 Steps) (loss=0.79895): 100%|██████████| 24/24 [00:16<00:00,  1.49it/s]\n",
      "Validate (28992 / 10 Steps): 100%|██████████| 6/6 [00:13<00:00,  2.18s/it]7<00:10,  1.59it/s]\n",
      "Training (29000 / 30000 Steps) (loss=0.50870):  38%|███▊      | 9/24 [00:20<01:10,  4.71s/it]"
     ]
    },
    {
     "name": "stdout",
     "output_type": "stream",
     "text": [
      "Model Was Not Saved ! Current Best Avg. Dice: 0.7911171913146973 Current Avg. Dice: 0.7826264500617981\n"
     ]
    },
    {
     "name": "stderr",
     "output_type": "stream",
     "text": [
      "Training (29015 / 30000 Steps) (loss=0.68093): 100%|██████████| 24/24 [00:29<00:00,  1.22s/it]\n",
      "Training (29039 / 30000 Steps) (loss=0.72824): 100%|██████████| 24/24 [00:16<00:00,  1.48it/s]\n",
      "Training (29063 / 30000 Steps) (loss=0.78388): 100%|██████████| 24/24 [00:16<00:00,  1.47it/s]\n",
      "Training (29087 / 30000 Steps) (loss=0.82070): 100%|██████████| 24/24 [00:16<00:00,  1.46it/s]\n",
      "Training (29111 / 30000 Steps) (loss=0.52915): 100%|██████████| 24/24 [00:16<00:00,  1.49it/s]\n",
      "Training (29135 / 30000 Steps) (loss=0.67108): 100%|██████████| 24/24 [00:16<00:00,  1.48it/s]\n",
      "Training (29159 / 30000 Steps) (loss=0.54792): 100%|██████████| 24/24 [00:16<00:00,  1.49it/s]\n",
      "Training (29183 / 30000 Steps) (loss=0.54342): 100%|██████████| 24/24 [00:16<00:00,  1.49it/s]\n",
      "Training (29207 / 30000 Steps) (loss=0.83033): 100%|██████████| 24/24 [00:15<00:00,  1.51it/s]\n",
      "Training (29231 / 30000 Steps) (loss=0.74285): 100%|██████████| 24/24 [00:16<00:00,  1.50it/s]\n",
      "Training (29255 / 30000 Steps) (loss=0.48004): 100%|██████████| 24/24 [00:15<00:00,  1.52it/s]\n",
      "Training (29279 / 30000 Steps) (loss=0.50565): 100%|██████████| 24/24 [00:15<00:00,  1.51it/s]\n",
      "Training (29303 / 30000 Steps) (loss=0.70477): 100%|██████████| 24/24 [00:16<00:00,  1.49it/s]\n",
      "Training (29327 / 30000 Steps) (loss=0.62352): 100%|██████████| 24/24 [00:15<00:00,  1.53it/s]\n",
      "Training (29351 / 30000 Steps) (loss=0.74425): 100%|██████████| 24/24 [00:15<00:00,  1.52it/s]\n",
      "Training (29375 / 30000 Steps) (loss=0.78116): 100%|██████████| 24/24 [00:15<00:00,  1.51it/s]\n",
      "Training (29399 / 30000 Steps) (loss=0.55068): 100%|██████████| 24/24 [00:16<00:00,  1.48it/s]\n",
      "Training (29423 / 30000 Steps) (loss=0.50289): 100%|██████████| 24/24 [00:16<00:00,  1.50it/s]\n",
      "Training (29447 / 30000 Steps) (loss=0.59112): 100%|██████████| 24/24 [00:16<00:00,  1.49it/s]\n",
      "Training (29471 / 30000 Steps) (loss=0.61228): 100%|██████████| 24/24 [00:16<00:00,  1.48it/s]\n",
      "Training (29495 / 30000 Steps) (loss=0.85676): 100%|██████████| 24/24 [00:15<00:00,  1.51it/s]\n",
      "Validate (29496 / 10 Steps): 100%|██████████| 6/6 [00:13<00:00,  2.21s/it]4<00:16,  1.18it/s]\n",
      "Training (29500 / 30000 Steps) (loss=0.72206):  21%|██        | 5/24 [00:18<01:45,  5.54s/it]"
     ]
    },
    {
     "name": "stdout",
     "output_type": "stream",
     "text": [
      "Model Was Not Saved ! Current Best Avg. Dice: 0.7911171913146973 Current Avg. Dice: 0.7818496823310852\n"
     ]
    },
    {
     "name": "stderr",
     "output_type": "stream",
     "text": [
      "Training (29519 / 30000 Steps) (loss=0.61489): 100%|██████████| 24/24 [00:29<00:00,  1.24s/it]\n",
      "Training (29543 / 30000 Steps) (loss=0.69492): 100%|██████████| 24/24 [00:15<00:00,  1.51it/s]\n",
      "Training (29567 / 30000 Steps) (loss=0.70690): 100%|██████████| 24/24 [00:16<00:00,  1.50it/s]\n",
      "Training (29591 / 30000 Steps) (loss=0.74201): 100%|██████████| 24/24 [00:16<00:00,  1.49it/s]\n",
      "Training (29615 / 30000 Steps) (loss=0.84179): 100%|██████████| 24/24 [00:16<00:00,  1.49it/s]\n",
      "Training (29639 / 30000 Steps) (loss=0.69579): 100%|██████████| 24/24 [00:15<00:00,  1.51it/s]\n",
      "Training (29663 / 30000 Steps) (loss=0.78839): 100%|██████████| 24/24 [00:16<00:00,  1.49it/s]\n",
      "Training (29687 / 30000 Steps) (loss=0.66157): 100%|██████████| 24/24 [00:16<00:00,  1.46it/s]\n",
      "Training (29711 / 30000 Steps) (loss=0.61643): 100%|██████████| 24/24 [00:15<00:00,  1.54it/s]\n",
      "Training (29735 / 30000 Steps) (loss=0.59707): 100%|██████████| 24/24 [00:16<00:00,  1.47it/s]\n",
      "Training (29759 / 30000 Steps) (loss=0.68064): 100%|██████████| 24/24 [00:16<00:00,  1.50it/s]\n",
      "Training (29783 / 30000 Steps) (loss=0.78087): 100%|██████████| 24/24 [00:15<00:00,  1.53it/s]\n",
      "Training (29807 / 30000 Steps) (loss=0.53147): 100%|██████████| 24/24 [00:16<00:00,  1.48it/s]\n",
      "Training (29831 / 30000 Steps) (loss=0.68480): 100%|██████████| 24/24 [00:15<00:00,  1.50it/s]\n",
      "Training (29855 / 30000 Steps) (loss=0.77370): 100%|██████████| 24/24 [00:16<00:00,  1.43it/s]\n",
      "Training (29879 / 30000 Steps) (loss=0.66593): 100%|██████████| 24/24 [00:15<00:00,  1.50it/s]\n",
      "Training (29903 / 30000 Steps) (loss=0.91800): 100%|██████████| 24/24 [00:15<00:00,  1.53it/s]\n",
      "Training (29927 / 30000 Steps) (loss=0.63177): 100%|██████████| 24/24 [00:15<00:00,  1.54it/s]\n",
      "Training (29951 / 30000 Steps) (loss=0.60400): 100%|██████████| 24/24 [00:15<00:00,  1.52it/s]\n",
      "Training (29975 / 30000 Steps) (loss=0.77484): 100%|██████████| 24/24 [00:16<00:00,  1.47it/s]\n",
      "Training (29999 / 30000 Steps) (loss=0.56477): 100%|██████████| 24/24 [00:15<00:00,  1.51it/s]\n"
     ]
    }
   ],
   "source": [
    "def validation(epoch_iterator_val):\n",
    "    model.eval()\n",
    "    with torch.no_grad():\n",
    "        for batch in epoch_iterator_val:\n",
    "            val_inputs, val_labels = (batch[\"image\"].cuda(), batch[\"label\"].cuda())\n",
    "            val_outputs = sliding_window_inference(val_inputs, (96, 96, 96), 4, model)\n",
    "            val_labels_list = decollate_batch(val_labels)\n",
    "            val_labels_convert = [post_label(val_label_tensor) for val_label_tensor in val_labels_list]\n",
    "            val_outputs_list = decollate_batch(val_outputs)\n",
    "            val_output_convert = [post_pred(val_pred_tensor) for val_pred_tensor in val_outputs_list]\n",
    "            dice_metric(y_pred=val_output_convert, y=val_labels_convert)\n",
    "            epoch_iterator_val.set_description(\"Validate (%d / %d Steps)\" % (global_step, 10.0))\n",
    "        mean_dice_val = dice_metric.aggregate().item()\n",
    "        dice_metric.reset()\n",
    "    return mean_dice_val\n",
    "\n",
    "\n",
    "def train(global_step, train_loader, dice_val_best, global_step_best):\n",
    "    model.train()\n",
    "    epoch_loss = 0\n",
    "    step = 0\n",
    "    epoch_iterator = tqdm(train_loader, desc=\"Training (X / X Steps) (loss=X.X)\", dynamic_ncols=True)\n",
    "    for step, batch in enumerate(epoch_iterator):\n",
    "        step += 1\n",
    "        x, y = (batch[\"image\"].cuda(), batch[\"label\"].cuda())\n",
    "        logit_map = model(x)\n",
    "        loss = loss_function(logit_map, y)\n",
    "        loss.backward()\n",
    "        epoch_loss += loss.item()\n",
    "        optimizer.step()\n",
    "        optimizer.zero_grad()\n",
    "        epoch_iterator.set_description(\"Training (%d / %d Steps) (loss=%2.5f)\" % (global_step, max_iterations, loss))\n",
    "        if (global_step % eval_num == 0 and global_step != 0) or global_step == max_iterations:\n",
    "            epoch_iterator_val = tqdm(val_loader, desc=\"Validate (X / X Steps) (dice=X.X)\", dynamic_ncols=True)\n",
    "            dice_val = validation(epoch_iterator_val)\n",
    "            epoch_loss /= step\n",
    "            epoch_loss_values.append(epoch_loss)\n",
    "            metric_values.append(dice_val)\n",
    "            if dice_val > dice_val_best:\n",
    "                dice_val_best = dice_val\n",
    "                global_step_best = global_step\n",
    "                torch.save(model.state_dict(), os.path.join('.', \"best_metric_model_20230816_30000.pth\"))\n",
    "\n",
    "                print(\n",
    "                    \"Model Was Saved ! Current Best Avg. Dice: {} Current Avg. Dice: {}\".format(dice_val_best, dice_val)\n",
    "                )\n",
    "            else:\n",
    "                print(\n",
    "                    \"Model Was Not Saved ! Current Best Avg. Dice: {} Current Avg. Dice: {}\".format(\n",
    "                        dice_val_best, dice_val\n",
    "                    )\n",
    "                )\n",
    "        global_step += 1\n",
    "    return global_step, dice_val_best, global_step_best\n",
    "\n",
    "\n",
    "max_iterations = 30000 #25000 #27000\n",
    "# 보고서\n",
    "# 조건을 계속해서 바꿔보면서 어떨 때 segmentation이 제일 잘 되더라,,\n",
    "# 특정 dataset인 것이니(medical data), 데이터의 특성상 기존 benchmark와 다르게,\n",
    "# 어떤 조건일 때 제일 학습이 잘 되더라 ~ 느낌으로 가야해요.\n",
    "# 그래서 보고서 'experiment' 항목에 여러 가지 실험을 거쳐서\n",
    "# 이 여러 hyperparameter 중 어떤 조건일 때가 제일 결과가 잘 나오더라 !\n",
    "# ex. iteration = 27000, eval_num = 500, ...\n",
    "eval_num = 500\n",
    "post_label = AsDiscrete(to_onehot=14)\n",
    "post_pred = AsDiscrete(argmax=True, to_onehot=14)\n",
    "dice_metric = DiceMetric(include_background=True, reduction=\"mean\", get_not_nans=False)\n",
    "global_step = 0\n",
    "dice_val_best = 0.0\n",
    "global_step_best = 0\n",
    "epoch_loss_values = []\n",
    "metric_values = []\n",
    "while global_step < max_iterations:\n",
    "    global_step, dice_val_best, global_step_best = train(global_step, train_loader, dice_val_best, global_step_best)\n",
    "# model.load_state_dict(torch.load(os.path.join('.', \"best_metric_model_20230814.pth\")))"
   ]
  },
  {
   "cell_type": "code",
   "execution_count": 19,
   "metadata": {},
   "outputs": [
    {
     "name": "stdout",
     "output_type": "stream",
     "text": [
      "train completed, best_metric: 0.7911 at iteration: 25500\n"
     ]
    }
   ],
   "source": [
    "print(f\"train completed, best_metric: {dice_val_best:.4f} \" f\"at iteration: {global_step_best}\")"
   ]
  },
  {
   "cell_type": "markdown",
   "metadata": {},
   "source": [
    "### Plot the loss and metric"
   ]
  },
  {
   "cell_type": "code",
   "execution_count": 20,
   "metadata": {},
   "outputs": [
    {
     "data": {
      "image/png": "[encoded data removed]",
      "text/plain": [
       "<Figure size 864x432 with 2 Axes>"
      ]
     },
     "metadata": {
      "needs_background": "light"
     },
     "output_type": "display_data"
    }
   ],
   "source": [
    "plt.figure(\"train\", (12, 6))\n",
    "plt.subplot(1, 2, 1)\n",
    "plt.title(\"Iteration Average Loss\")\n",
    "x = [eval_num * (i + 1) for i in range(len(epoch_loss_values))]\n",
    "y = epoch_loss_values\n",
    "plt.xlabel(\"Iteration\")\n",
    "plt.plot(x, y)\n",
    "plt.subplot(1, 2, 2)\n",
    "plt.title(\"Val Mean Dice\")\n",
    "x = [eval_num * (i + 1) for i in range(len(metric_values))]\n",
    "y = metric_values\n",
    "plt.xlabel(\"Iteration\")\n",
    "plt.plot(x, y)\n",
    "plt.show()\n",
    "#30000"
   ]
  },
  {
   "cell_type": "markdown",
   "metadata": {},
   "source": [
    "### Check best model output with the input image and label"
   ]
  },
  {
   "cell_type": "code",
   "execution_count": 12,
   "metadata": {},
   "outputs": [
    {
     "data": {
      "image/png": "[encoded data removed]",
      "text/plain": [
       "<Figure size 1296x432 with 3 Axes>"
      ]
     },
     "metadata": {
      "needs_background": "light"
     },
     "output_type": "display_data"
    }
   ],
   "source": [
    "case_num = 3\n",
    "model.load_state_dict(torch.load(os.path.join('.', \"best_metric_model_20230816_30000.pth\")))\n",
    "model.eval()\n",
    "with torch.no_grad():\n",
    "    # img_name = os.path.split(val_ds[case_num][\"image\"].meta[\"filename_or_obj\"])[1]  # 이 줄을 삭제하고,\n",
    "    file_path = val_ds[case_num]['image_meta_dict']['filename_or_obj']  # 이 줄을 추가합니다.\n",
    "    img_name = os.path.basename(file_path)  # 파일명을 추출합니다.\n",
    "    img = val_ds[case_num][\"image\"]\n",
    "    label = val_ds[case_num][\"label\"]\n",
    "    val_inputs = torch.unsqueeze(torch.from_numpy(img), 1).cuda()\n",
    "    val_labels = torch.unsqueeze(torch.from_numpy(label), 1).cuda()\n",
    "\n",
    "    val_outputs = sliding_window_inference(val_inputs, (96, 96, 96), 4, model, overlap=0.8)\n",
    "    plt.figure(\"check\", (18, 6))\n",
    "    plt.subplot(1, 3, 1)\n",
    "    plt.title(\"image\")\n",
    "    plt.imshow(val_inputs.cpu().numpy()[0, 0, :, :, slice_map[img_name]], cmap=\"gray\")\n",
    "    plt.subplot(1, 3, 2)\n",
    "    plt.title(\"label\")\n",
    "    plt.imshow(val_labels.cpu().numpy()[0, 0, :, :, slice_map[img_name]])\n",
    "    plt.subplot(1, 3, 3)\n",
    "    plt.title(\"output\")\n",
    "    plt.imshow(torch.argmax(val_outputs, dim=1).detach().cpu()[0, :, :, slice_map[img_name]])\n",
    "    plt.show()\n"
   ]
  },
  {
   "cell_type": "code",
   "execution_count": 13,
   "metadata": {},
   "outputs": [
    {
     "data": {
      "image/png": "[encoded data removed]",
      "text/plain": [
       "<Figure size 1296x432 with 3 Axes>"
      ]
     },
     "metadata": {
      "needs_background": "light"
     },
     "output_type": "display_data"
    }
   ],
   "source": [
    "case_num = 4\n",
    "model.load_state_dict(torch.load(os.path.join('.', \"best_metric_model_20230816_30000.pth\")))\n",
    "model.eval()\n",
    "with torch.no_grad():\n",
    "    # img_name = os.path.split(val_ds[case_num][\"image\"].meta[\"filename_or_obj\"])[1]  # 이 줄을 삭제하고,\n",
    "    file_path = val_ds[case_num]['image_meta_dict']['filename_or_obj']  # 이 줄을 추가합니다.\n",
    "    img_name = os.path.basename(file_path)  # 파일명을 추출합니다.\n",
    "    img = val_ds[case_num][\"image\"]\n",
    "    label = val_ds[case_num][\"label\"]\n",
    "    val_inputs = torch.unsqueeze(torch.from_numpy(img), 1).cuda()\n",
    "    val_labels = torch.unsqueeze(torch.from_numpy(label), 1).cuda()\n",
    "\n",
    "    val_outputs = sliding_window_inference(val_inputs, (96, 96, 96), 4, model, overlap=0.8)\n",
    "    plt.figure(\"check\", (18, 6))\n",
    "    plt.subplot(1, 3, 1)\n",
    "    plt.title(\"image\")\n",
    "    plt.imshow(val_inputs.cpu().numpy()[0, 0, :, :, slice_map[img_name]], cmap=\"gray\")\n",
    "    plt.subplot(1, 3, 2)\n",
    "    plt.title(\"label\")\n",
    "    plt.imshow(val_labels.cpu().numpy()[0, 0, :, :, slice_map[img_name]])\n",
    "    plt.subplot(1, 3, 3)\n",
    "    plt.title(\"output\")\n",
    "    plt.imshow(torch.argmax(val_outputs, dim=1).detach().cpu()[0, :, :, slice_map[img_name]])\n",
    "    plt.show()\n"
   ]
  },
  {
   "cell_type": "markdown",
   "metadata": {},
   "source": [
    "### Cleanup data directory\n",
    "\n",
    "Remove directory if a temporary was used."
   ]
  },
  {
   "cell_type": "code",
   "execution_count": 14,
   "metadata": {},
   "outputs": [
    {
     "data": {
      "text/plain": [
       "'if directory is None:\\n    shutil.rmtree(root_dir)'"
      ]
     },
     "execution_count": 14,
     "metadata": {},
     "output_type": "execute_result"
    }
   ],
   "source": [
    "'''if directory is None:\n",
    "    shutil.rmtree(root_dir)'''"
   ]
  },
  {
   "cell_type": "markdown",
   "metadata": {},
   "source": [
    "### HCC Dataset Visualization for Aorta Segmentation"
   ]
  },
  {
   "cell_type": "code",
   "execution_count": 15,
   "metadata": {},
   "outputs": [],
   "source": [
    "# import glob\n",
    "# import nibabel as nib\n",
    "# import matplotlib.pyplot as plt\n",
    "# import numpy as np\n",
    "\n",
    "# plt.ion() # matplotlib의 interactive mode를 켬/ 주피터에서 시각화 보려면 켜야함\n",
    "\n",
    "# # 한페이즈 불러오기(# 특정 패턴의 파일 불러오기/por로 끝나는거 다 가져옴)\n",
    "# file_list = glob.glob('../../dataset/hyoreek/HCC/*_por_.nii.gz')"
   ]
  },
  {
   "cell_type": "code",
   "execution_count": 16,
   "metadata": {},
   "outputs": [],
   "source": [
    "# # 처음 5개의 파일만 처리합니다.\n",
    "# for file_path in file_list[:5]:  # 각 파일을 순회합니다.\n",
    "#     proxy = nib.load(file_path)  # 해당 파일을 불러옵니다.\n",
    "#     image = proxy.get_fdata()  # NIfTI 파일을 numpy array로 변환합니다.\n",
    "    \n",
    "#     # '페이즈' 또는 '슬라이스'의 30%에 해당하는 비율의 이미지를 보여줍니다.\n",
    "#     plt.title(\"image\")\n",
    "#     plt.imshow(image[:, :, int(image.shape[2] * 0.3)], cmap='gray')  # 30% 위치 비율의 '페이즈' 또는 '슬라이스'를 시각화합니다.\n",
    "#     plt.show()  # 시각화된 이미지를 보여줍니다."
   ]
  },
  {
   "cell_type": "code",
   "execution_count": 17,
   "metadata": {},
   "outputs": [],
   "source": [
    "# case_num = 5\n",
    "# model.load_state_dict(torch.load(os.path.join(root_dir, \"best_metric_model_20230814.pth\")))\n",
    "# model.eval()\n",
    "# with torch.no_grad():\n",
    "#     # img_name = os.path.split(val_ds[case_num][\"image\"].meta[\"filename_or_obj\"])[1]  # 이 줄을 삭제하고,\n",
    "#     file_path = val_ds[case_num]['image_meta_dict']['filename_or_obj']  # 이 줄을 추가합니다.\n",
    "#     img_name = os.path.basename(file_path)  # 파일명을 추출합니다.\n",
    "#     img = val_ds[case_num][\"image\"]\n",
    "#     label = val_ds[case_num][\"label\"]\n",
    "#     val_inputs = torch.unsqueeze(torch.from_numpy(img), 1).cuda()\n",
    "#     val_labels = torch.unsqueeze(torch.from_numpy(label), 1).cuda()\n",
    "\n",
    "#     val_outputs = sliding_window_inference(val_inputs, (96, 96, 96), 4, model, overlap=0.8)\n",
    "#     plt.figure(\"check\", (18, 6))\n",
    "#     plt.subplot(1, 3, 1)\n",
    "#     plt.title(\"image\")\n",
    "#     plt.imshow(val_inputs.cpu().numpy()[0, 0, :, :, slice_map[img_name]], cmap=\"gray\")\n",
    "#     plt.subplot(1, 3, 2)\n",
    "#     plt.title(\"label\")\n",
    "#     plt.imshow(val_labels.cpu().numpy()[0, 0, :, :, slice_map[img_name]])\n",
    "#     plt.subplot(1, 3, 3)\n",
    "#     plt.title(\"output\")\n",
    "#     plt.imshow(torch.argmax(val_outputs, dim=1).detach().cpu()[0, :, :, slice_map[img_name]])\n",
    "#     plt.show()"
   ]
  }
 ],
 "metadata": {
  "kernelspec": {
   "display_name": "Python 3 (ipykernel)",
   "language": "python",
   "name": "python3"
  },
  "language_info": {
   "codemirror_mode": {
    "name": "ipython",
    "version": 3
   },
   "file_extension": ".py",
   "mimetype": "text/x-python",
   "name": "python",
   "nbconvert_exporter": "python",
   "pygments_lexer": "ipython3",
   "version": "3.6.9"
  },
  "vscode": {
   "interpreter": {
    "hash": "916dbcbb3f70747c44a77c7bcd40155683ae19c65e1c03b4aa3499c5328201f1"
   }
  }
 },
 "nbformat": 4,
 "nbformat_minor": 4
}
